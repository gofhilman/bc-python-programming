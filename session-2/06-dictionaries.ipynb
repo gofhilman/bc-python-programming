{
 "cells": [
  {
   "cell_type": "markdown",
   "id": "73c08c35",
   "metadata": {},
   "source": [
    "# Dictionaries\n",
    "\n",
    "Jika item dalam list dapat diakses dengan menggunakan index angka seperti 0, 1, 2, dst, maka item dalam dictionary dapat diakses dengan menggunakan *key*. Setiap key dipetakan ke suatu nilai (value). Dengan demikian, value yang tersimpan di dictionary dapat diakses dan diganti dengan menggunakan key.\n",
    "\n",
    "## Menggunakan Dictionary"
   ]
  },
  {
   "cell_type": "code",
   "execution_count": null,
   "id": "7819cf36",
   "metadata": {},
   "outputs": [],
   "source": [
    "my_dictionary = {}\n",
    "\n",
    "my_dictionary[\"monyet\"] = \"monkey\"\n",
    "my_dictionary[\"pisang\"] = \"banana\"\n",
    "my_dictionary[\"gitar\"] = \"guitar\"\n",
    "\n",
    "print(len(my_dictionary))\n",
    "print(my_dictionary)\n",
    "print(my_dictionary[\"monyet\"])"
   ]
  },
  {
   "cell_type": "markdown",
   "id": "a14ec169",
   "metadata": {},
   "source": [
    "Pasangan key-value juga dapat langsung didefinisikan di dalam dictionary, contoh:"
   ]
  },
  {
   "cell_type": "code",
   "execution_count": null,
   "id": "51917264",
   "metadata": {},
   "outputs": [],
   "source": [
    "my_dictionary = {\"monyet\": \"monkey\", \"pisang\": \"banana\", \"gitar\": \"guitar\"}\n",
    "\n",
    "print(len(my_dictionary))\n",
    "print(my_dictionary)\n",
    "print(my_dictionary[\"monyet\"])"
   ]
  },
  {
   "cell_type": "markdown",
   "id": "9b2ff550",
   "metadata": {},
   "source": [
    "Struktur data ini dinamakan dictionary karena kita dapat mengakses suatu nilai mirip seperti kita menggunakan kamus (dictionary), contoh:"
   ]
  },
  {
   "cell_type": "code",
   "execution_count": null,
   "id": "9b16a2cf",
   "metadata": {},
   "outputs": [],
   "source": [
    "word = input(\"Please type in a word: \")\n",
    "if word in my_dictionary:\n",
    "    print(\"Translation: \", my_dictionary[word])\n",
    "else:\n",
    "    print(\"Word not found\")"
   ]
  },
  {
   "cell_type": "markdown",
   "id": "a663ddb6",
   "metadata": {},
   "source": [
    "## Apa Saja yang Dapat Disimpan di dalam Dictionary?\n",
    "\n",
    "Dictionary tidak harus hanya mengandung string. Contohnya, value (nilai) dalam dictionary bisa berupa angka:\n",
    "```python\n",
    "results = {}\n",
    "results[\"Mary\"] = 4\n",
    "results[\"Alice\"] = 5\n",
    "results[\"Larry\"] = 2\n",
    "```\n",
    "Contoh berikut menunjukkan dictionary yang memiliki key berupa angka dan value berupa list:\n",
    "```python\n",
    "lists = {}\n",
    "lists[5] = [1, 2, 3]\n",
    "lists[42] = [5, 4, 5, 4, 5]\n",
    "lists[100] = [5, 2, 3]\n",
    "```\n",
    "\n",
    "## Cara Kerja Key dan Value dalam Dictionary\n",
    "\n",
    "Setiap key hanya dapat muncul satu kali dalam dictionary. Jika kita menambahkan entri dengan key yang sudah ada dalam dictionary, value awal yang telah dipetakan dari key tersebut akan digantikan oleh value yang baru. Contoh:"
   ]
  },
  {
   "cell_type": "code",
   "execution_count": null,
   "id": "bb30fe9a",
   "metadata": {},
   "outputs": [],
   "source": [
    "my_dictionary[\"besar\"] = \"big\"\n",
    "my_dictionary[\"besar\"] = \"large\"\n",
    "print(my_dictionary[\"besar\"])"
   ]
  },
  {
   "cell_type": "markdown",
   "id": "b0597b4b",
   "metadata": {},
   "source": [
    "Semua key dalam sebuah dictionary harus bersifat immutable (tidak dapat diubah). Oleh karena itu, list tidak dapat digunakan sebagai key karena dapat berubah. Sebagai contoh, kode berikut akan menghasilkan error:"
   ]
  },
  {
   "cell_type": "code",
   "execution_count": null,
   "id": "e392b186",
   "metadata": {},
   "outputs": [],
   "source": [
    "my_dictionary[[1, 2, 3]] = 5"
   ]
  },
  {
   "cell_type": "markdown",
   "id": "ddb18c84",
   "metadata": {},
   "source": [
    "Tidak seperti key, value yang disimpan dalam dictionary dapat berubah, sehingga semua jenis data dapat diterima sebagai value. Sebuah value juga bisa dipetakan melalui lebih dari satu key dalam dictionary yang sama, contoh:"
   ]
  },
  {
   "cell_type": "code",
   "execution_count": null,
   "id": "5b3b5160",
   "metadata": {},
   "outputs": [],
   "source": [
    "my_dictionary = {}\n",
    "my_dictionary[\"senang\"] = \"happy\"\n",
    "my_dictionary[\"bahagia\"] = \"happy\"\n",
    "print(my_dictionary)"
   ]
  },
  {
   "cell_type": "markdown",
   "id": "5d70a609",
   "metadata": {},
   "source": [
    "## Menelusuri Isi Dictionary\n",
    "\n",
    "Loop `for item in collection` juga dapat digunakan untuk menelusuri dictionary, contoh:"
   ]
  },
  {
   "cell_type": "code",
   "execution_count": null,
   "id": "9a6d22eb",
   "metadata": {},
   "outputs": [],
   "source": [
    "my_dictionary = {}\n",
    "\n",
    "my_dictionary[\"monyet\"] = \"monkey\"\n",
    "my_dictionary[\"pisang\"] = \"banana\"\n",
    "my_dictionary[\"gitar\"] = \"guitar\"\n",
    "\n",
    "for key in my_dictionary:\n",
    "    print(\"key:\", key)\n",
    "    print(\"value:\", my_dictionary[key])"
   ]
  },
  {
   "cell_type": "markdown",
   "id": "824fa2ae",
   "metadata": {},
   "source": [
    "Cara lainnya adalah dengan menggunakan metode `items` yang dapat me-return semua pasangan key-value dalam dictionary, contoh:"
   ]
  },
  {
   "cell_type": "code",
   "execution_count": null,
   "id": "c3610128",
   "metadata": {},
   "outputs": [],
   "source": [
    "\n",
    "for key, value in my_dictionary.items():\n",
    "    print(\"key:\", key)\n",
    "    print(\"value:\", value)"
   ]
  },
  {
   "cell_type": "markdown",
   "id": "a8985309",
   "metadata": {},
   "source": [
    "## Menghapus Pasangan Key-Value dari Dictionary\n",
    "\n",
    "Ada dua cara:\n",
    "\n",
    "### Menggunakan command `del`"
   ]
  },
  {
   "cell_type": "code",
   "execution_count": null,
   "id": "b16edca8",
   "metadata": {},
   "outputs": [],
   "source": [
    "staff = {\"Alan\": \"lecturer\", \"Emily\": \"professor\", \"David\": \"lecturer\"}\n",
    "del staff[\"David\"]\n",
    "print(staff)"
   ]
  },
  {
   "cell_type": "markdown",
   "id": "6b0bb313",
   "metadata": {},
   "source": [
    "Jika kita mencoba menggunakan perintah del untuk menghapus key yang tidak ada dalam dictionary, maka akan terjadi error. Contoh:"
   ]
  },
  {
   "cell_type": "code",
   "execution_count": null,
   "id": "d10966ec",
   "metadata": {},
   "outputs": [],
   "source": [
    "staff = {\"Alan\": \"lecturer\", \"Emily\": \"professor\", \"David\": \"lecturer\"}\n",
    "del staff[\"Paul\"]"
   ]
  },
  {
   "cell_type": "markdown",
   "id": "b3eda41e",
   "metadata": {},
   "source": [
    "Jadi, sebelum menghapus sebuah key, sebaiknya kita memeriksa apakah key tersebut ada dalam dictionary. Contoh:"
   ]
  },
  {
   "cell_type": "code",
   "execution_count": null,
   "id": "23401ce5",
   "metadata": {},
   "outputs": [],
   "source": [
    "staff = {\"Alan\": \"lecturer\", \"Emily\": \"professor\", \"David\": \"lecturer\"}\n",
    "if \"Paul\" in staff:\n",
    "  del staff[\"Paul\"]\n",
    "  print(\"Deleted\")\n",
    "else:\n",
    "  print(\"This person is not a staff member\")"
   ]
  },
  {
   "cell_type": "markdown",
   "id": "446be0f5",
   "metadata": {},
   "source": [
    "### Menggunakan metode `pop`"
   ]
  },
  {
   "cell_type": "code",
   "execution_count": null,
   "id": "3bac853c",
   "metadata": {},
   "outputs": [],
   "source": [
    "staff = {\"Alan\": \"lecturer\", \"Emily\": \"professor\", \"David\": \"lecturer\"}\n",
    "deleted = staff.pop(\"David\")\n",
    "print(staff)\n",
    "print(deleted, \"deleted\")"
   ]
  },
  {
   "cell_type": "markdown",
   "id": "343923f3",
   "metadata": {},
   "source": [
    "Secara default, `pop` juga akan menyebabkan error jika kita mencoba menghapus key yang tidak ada dalam dictionary. Hal ini bisa dihindari dengan memberikan argumen kedua pada metode tersebut, yang berisi nilai default untuk dikembalikan. Nilai ini akan dikembalikan jika key tidak ditemukan dalam dictionary. Nilai khusus Python `None` dapat digunakan untuk hal ini. Contoh:"
   ]
  },
  {
   "cell_type": "code",
   "execution_count": null,
   "id": "5d7a853a",
   "metadata": {},
   "outputs": [],
   "source": [
    "staff = {\"Alan\": \"lecturer\", \"Emily\": \"professor\", \"David\": \"lecturer\"}\n",
    "deleted = staff.pop(\"Paul\", None)\n",
    "if deleted == None:\n",
    "  print(\"This person is not a staff member\")\n",
    "else:\n",
    "  print(deleted, \"deleted\")"
   ]
  },
  {
   "cell_type": "markdown",
   "id": "e9cafce5",
   "metadata": {},
   "source": [
    "Jika kita perlu menghapus seluruh isi dari dictionary, dan mencoba melakukannya dengan for loop, maka akan terjadi error. Contoh:"
   ]
  },
  {
   "cell_type": "code",
   "execution_count": null,
   "id": "b8f80df1",
   "metadata": {},
   "outputs": [],
   "source": [
    "staff = {\"Alan\": \"lecturer\", \"Emily\": \"professor\", \"David\": \"lecturer\"}\n",
    "for key in staff:\n",
    "  del staff[key]"
   ]
  },
  {
   "cell_type": "markdown",
   "id": "ae2c4f4c",
   "metadata": {},
   "source": [
    "Ada sebuah metode dalam dictionary yang ditujukan untuk keperluan ini, yaitu metode `clear`. Contoh:"
   ]
  },
  {
   "cell_type": "code",
   "execution_count": null,
   "id": "9349425b",
   "metadata": {},
   "outputs": [],
   "source": [
    "staff = {\"Alan\": \"lecturer\", \"Emily\": \"professor\", \"David\": \"lecturer\"}\n",
    "staff.clear()\n",
    "print(staff)"
   ]
  },
  {
   "cell_type": "markdown",
   "id": "5a822811",
   "metadata": {},
   "source": [
    "## Menggunakan Dictionary untuk Data Terstruktur\n",
    "\n",
    "Dictionary sangat berguna untuk menyusun data secara terstruktur. Kode berikut akan membuat sebuah dictionary yang berisi beberapa data pribadi:\n",
    "```python\n",
    "person = {\"name\": \"Pippa Python\", \"height\": 154, \"weight\": 61, \"age\": 44}\n",
    "```\n",
    "Artinya, kita memiliki seorang individu bernama Pippa Python, dengan tinggi badan 154, berat badan 61, dan usia 44. Informasi yang sama sebenarnya bisa saja disimpan dalam variabel-variabel terpisah:\n",
    "```python\n",
    "name = \"Pippa Python\"\n",
    "height = 154\n",
    "weight = 61\n",
    "age = 44\n",
    "```\n",
    "Namun, keunggulan dari dictionary adalah dictionary merupakan sebuah koleksi. Dictionary mengumpulkan data yang saling terkait di bawah satu variabel, sehingga memudahkan akses ke setiap komponen. Keunggulan serupa juga ditawarkan oleh list:\n",
    "```python\n",
    "person = [\"Pippa Python\", 153, 61, 44]\n",
    "```\n",
    "Namun dengan list, programmer harus mengingat sendiri data apa yang disimpan di setiap indeks. Tidak ada penanda bahwa `person[2]` berisi weight dan `person[3]` berisi age dari orang tersebut. Saat menggunakan dictionary, masalah ini dapat dihindari karena setiap bagian data diakses melalui key yang diberi nama.\n",
    "\n",
    "Jika kita mendefinisikan beberapa orang dengan format yang sama, kita dapat mengakses data mereka dengan cara berikut:\n"
   ]
  },
  {
   "cell_type": "code",
   "execution_count": null,
   "id": "b02d5439",
   "metadata": {},
   "outputs": [],
   "source": [
    "person1 = {\"name\": \"Pippa Python\", \"height\": 154, \"weight\": 61, \"age\": 44}\n",
    "person2 = {\"name\": \"Peter Pythons\", \"height\": 174, \"weight\": 103, \"age\": 31}\n",
    "person3 = {\"name\": \"Pedro Python\", \"height\": 191, \"weight\": 71, \"age\": 14}\n",
    "\n",
    "people = [person1, person2, person3]\n",
    "\n",
    "for person in people:\n",
    "    print(person[\"name\"])\n",
    "\n",
    "combined_height = 0\n",
    "for person in people:\n",
    "    combined_height += person[\"height\"]\n",
    "\n",
    "print(\"The average height is\", combined_height / len(people))"
   ]
  },
  {
   "cell_type": "markdown",
   "id": "4b96a693",
   "metadata": {},
   "source": [
    "## Latihan\n",
    "\n",
    "Kerjakan latihan di <https://programming-25.mooc.fi/part-5/3-dictionary>"
   ]
  }
 ],
 "metadata": {
  "kernelspec": {
   "display_name": "Python 3",
   "language": "python",
   "name": "python3"
  },
  "language_info": {
   "codemirror_mode": {
    "name": "ipython",
    "version": 3
   },
   "file_extension": ".py",
   "mimetype": "text/x-python",
   "name": "python",
   "nbconvert_exporter": "python",
   "pygments_lexer": "ipython3",
   "version": "3.13.1"
  }
 },
 "nbformat": 4,
 "nbformat_minor": 5
}
