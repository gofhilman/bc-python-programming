{
 "cells": [
  {
   "cell_type": "markdown",
   "id": "73c08c35",
   "metadata": {},
   "source": [
    "# Dictionaries\n",
    "\n",
    "Jika item dalam list dapat diakses dengan menggunakan index angka seperti 0, 1, 2, dst, maka item dalam dictionary dapat diakses dengan menggunakan *key*. Setiap key dipetakan ke suatu nilai (value). Dengan demikian, value yang tersimpan di dictionary dapat diakses dan diganti dengan menggunakan key.\n",
    "\n",
    "## Menggunakan Dictionary"
   ]
  },
  {
   "cell_type": "code",
   "execution_count": null,
   "id": "7819cf36",
   "metadata": {},
   "outputs": [],
   "source": [
    "my_dictionary = {}\n",
    "\n",
    "my_dictionary[\"monyet\"] = \"monkey\"\n",
    "my_dictionary[\"pisang\"] = \"banana\"\n",
    "my_dictionary[\"gitar\"] = \"guitar\"\n",
    "\n",
    "print(len(my_dictionary))\n",
    "print(my_dictionary)\n",
    "print(my_dictionary[\"monyet\"])"
   ]
  },
  {
   "cell_type": "markdown",
   "id": "a14ec169",
   "metadata": {},
   "source": [
    "Pasangan key-value juga dapat langsung didefinisikan di dalam dictionary, contoh:"
   ]
  },
  {
   "cell_type": "code",
   "execution_count": null,
   "id": "51917264",
   "metadata": {},
   "outputs": [],
   "source": [
    "my_dictionary = {\"monyet\": \"monkey\", \"pisang\": \"banana\", \"gitar\": \"guitar\"}\n",
    "\n",
    "print(len(my_dictionary))\n",
    "print(my_dictionary)\n",
    "print(my_dictionary[\"monyet\"])"
   ]
  },
  {
   "cell_type": "markdown",
   "id": "9b2ff550",
   "metadata": {},
   "source": [
    "Struktur data ini dinamakan dictionary karena kita dapat mengakses suatu nilai mirip seperti kita menggunakan kamus (dictionary), contoh:"
   ]
  },
  {
   "cell_type": "code",
   "execution_count": null,
   "id": "9b16a2cf",
   "metadata": {},
   "outputs": [],
   "source": [
    "word = input(\"Please type in a word: \")\n",
    "if word in my_dictionary:\n",
    "    print(\"Translation: \", my_dictionary[word])\n",
    "else:\n",
    "    print(\"Word not found\")"
   ]
  },
  {
   "cell_type": "markdown",
   "id": "a663ddb6",
   "metadata": {},
   "source": [
    "## Apa Saja yang Dapat Disimpan di dalam Dictionary?\n",
    "\n",
    "Dictionary tidak harus hanya mengandung string. Contohnya, value (nilai) dalam dictionary bisa berupa angka:\n",
    "```python\n",
    "results = {}\n",
    "results[\"Mary\"] = 4\n",
    "results[\"Alice\"] = 5\n",
    "results[\"Larry\"] = 2\n",
    "```\n",
    "Contoh berikut menunjukkan dictionary yang memiliki key berupa angka dan value berupa list:\n",
    "```python\n",
    "lists = {}\n",
    "lists[5] = [1, 2, 3]\n",
    "lists[42] = [5, 4, 5, 4, 5]\n",
    "lists[100] = [5, 2, 3]\n",
    "```\n",
    "\n",
    "## Cara Kerja Key dan Value dalam Dictionary\n",
    "\n",
    "Setiap key hanya dapat muncul satu kali dalam dictionary. Jika kita menambahkan entri dengan key yang sudah ada dalam dictionary, value awal yang telah dipetakan dari key tersebut akan digantikan oleh value yang baru. Contoh:"
   ]
  },
  {
   "cell_type": "code",
   "execution_count": null,
   "id": "bb30fe9a",
   "metadata": {},
   "outputs": [],
   "source": [
    "my_dictionary[\"besar\"] = \"big\"\n",
    "my_dictionary[\"besar\"] = \"large\"\n",
    "print(my_dictionary[\"besar\"])"
   ]
  },
  {
   "cell_type": "markdown",
   "id": "b0597b4b",
   "metadata": {},
   "source": [
    "Semua key dalam sebuah dictionary harus bersifat immutable (tidak dapat diubah). Oleh karena itu, list tidak dapat digunakan sebagai key karena dapat berubah. Sebagai contoh, kode berikut akan menghasilkan error:"
   ]
  },
  {
   "cell_type": "code",
   "execution_count": null,
   "id": "e392b186",
   "metadata": {},
   "outputs": [],
   "source": [
    "my_dictionary[[1, 2, 3]] = 5"
   ]
  },
  {
   "cell_type": "markdown",
   "id": "ddb18c84",
   "metadata": {},
   "source": [
    "Tidak seperti key, value yang disimpan dalam dictionary dapat berubah, sehingga semua jenis data dapat diterima sebagai value. Sebuah value juga bisa dipetakan melalui lebih dari satu key dalam dictionary yang sama, contoh:"
   ]
  },
  {
   "cell_type": "code",
   "execution_count": null,
   "id": "5b3b5160",
   "metadata": {},
   "outputs": [],
   "source": [
    "my_dictionary = {}\n",
    "my_dictionary[\"senang\"] = \"happy\"\n",
    "my_dictionary[\"bahagia\"] = \"happy\"\n",
    "print(my_dictionary)"
   ]
  },
  {
   "cell_type": "markdown",
   "id": "5d70a609",
   "metadata": {},
   "source": [
    "## Menelusuri Isi Dictionary"
   ]
  }
 ],
 "metadata": {
  "kernelspec": {
   "display_name": "Python 3",
   "language": "python",
   "name": "python3"
  },
  "language_info": {
   "codemirror_mode": {
    "name": "ipython",
    "version": 3
   },
   "file_extension": ".py",
   "mimetype": "text/x-python",
   "name": "python",
   "nbconvert_exporter": "python",
   "pygments_lexer": "ipython3",
   "version": "3.13.1"
  }
 },
 "nbformat": 4,
 "nbformat_minor": 5
}
