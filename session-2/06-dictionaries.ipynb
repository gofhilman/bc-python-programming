{
 "cells": [
  {
   "cell_type": "markdown",
   "id": "73c08c35",
   "metadata": {},
   "source": [
    "# Dictionaries\n",
    "\n",
    "Jika item dalam list dapat diakses dengan menggunakan index angka seperti 0, 1, 2, dst, maka item dalam dictionary dapat diakses dengan menggunakan *key*. Setiap key dipetakan ke suatu nilai (value). Dengan demikian, value yang tersimpan di dictionary dapat diakses dan diganti dengan menggunakan key.\n",
    "\n",
    "## Menggunakan Dictionary"
   ]
  },
  {
   "cell_type": "code",
   "execution_count": null,
   "id": "7819cf36",
   "metadata": {},
   "outputs": [],
   "source": [
    "my_dictionary = {}\n",
    "\n",
    "my_dictionary[\"monyet\"] = \"monkey\"\n",
    "my_dictionary[\"pisang\"] = \"banana\"\n",
    "my_dictionary[\"gitar\"] = \"guitar\"\n",
    "\n",
    "print(len(my_dictionary))\n",
    "print(my_dictionary)\n",
    "print(my_dictionary[\"monyet\"])"
   ]
  }
 ],
 "metadata": {
  "kernelspec": {
   "display_name": "Python 3",
   "language": "python",
   "name": "python3"
  },
  "language_info": {
   "name": "python",
   "version": "3.13.1"
  }
 },
 "nbformat": 4,
 "nbformat_minor": 5
}
