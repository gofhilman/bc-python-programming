{
 "cells": [
  {
   "cell_type": "markdown",
   "id": "033e403b",
   "metadata": {},
   "source": [
    "# Tuples\n",
    "\n",
    "Tuple adalah struktur data yang mirip seperti list. Perbedaan dasarnya adalah:\n",
    "- Tuple ditulis di dalam tanda kurung biasa (), sedangkan list ditulis di dalam tanda kurung siku [].\n",
    "- Tuple bersifat immutable (tetap), sedangkan list bersifat mutable (kontennya dapat berubah).\n",
    "\n",
    "Contoh tuple:\n",
    "```python\n",
    "point = (10, 20)\n",
    "```\n",
    "\n",
    "Item yang berada di dalam tuple dapat diakses dengan menggunakan indeksnya, mirip seperti item dalam list. Contoh:"
   ]
  },
  {
   "cell_type": "code",
   "execution_count": null,
   "id": "4472d4a0",
   "metadata": {},
   "outputs": [],
   "source": [
    "point = (10, 20)\n",
    "print(\"x coordinate:\", point[0])\n",
    "print(\"y coordinate:\", point[1])"
   ]
  },
  {
   "cell_type": "markdown",
   "id": "f925d338",
   "metadata": {},
   "source": [
    "Nilai yang berada di dalam tuple tidak dapat diganti setelah tuple tersebut didefinisikan. Kode berikut akan menghasilkan error:"
   ]
  },
  {
   "cell_type": "code",
   "execution_count": null,
   "id": "ecfa30bb",
   "metadata": {},
   "outputs": [],
   "source": [
    "point = (10, 20)\n",
    "point[0] = 15"
   ]
  },
  {
   "cell_type": "markdown",
   "id": "7e9548e3",
   "metadata": {},
   "source": [
    "## Apa Tujuan Menggunakan Tuple?\n",
    "\n",
    "Tuple sangat ideal digunakan ketika ada sekumpulan nilai yang saling berkaitan. Misalnya, saat kita perlu menangani koordinat x dan y dari sebuah titik, tuple adalah pilihan yang alami, karena koordinat selalu terdiri dari dua nilai:\n",
    "```python\n",
    "point = (10, 20)\n",
    "```\n",
    "Secara teknis, tentu saja kita juga bisa menggunakan list untuk menyimpan nilai-nilai tersebut:\n",
    "```python\n",
    "point = [10, 20]\n",
    "```\n",
    "List adalah kumpulan item yang berurutan dalam suatu urutan tertentu. Ukuran list juga bisa berubah. Namun, ketika kita menyimpan koordinat sebuah titik, kita ingin menyimpan nilai x dan y secara spesifik, bukan sekadar daftar acak yang kebetulan berisi dua nilai tersebut.\n",
    "\n",
    "Karena tuple bersifat immutable, tidak seperti list, maka tuple dapat digunakan sebagai key dalam dictionary. Kode berikut membuat sebuah dictionary, di mana key-nya adalah titik koordinat:"
   ]
  },
  {
   "cell_type": "code",
   "execution_count": null,
   "id": "6a5a9efe",
   "metadata": {},
   "outputs": [],
   "source": [
    "points = {}\n",
    "points[(3, 5)] = \"monkey\"\n",
    "points[(5, 0)] = \"banana\"\n",
    "points[(1, 2)] = \"guitar\"\n",
    "print(points[(3, 5)])"
   ]
  },
  {
   "cell_type": "markdown",
   "id": "c3630b3d",
   "metadata": {},
   "source": [
    "Mencoba mendefinisikan dictionary serupa dengan menggunakan list tidak akan berhasil:"
   ]
  },
  {
   "cell_type": "code",
   "execution_count": null,
   "id": "f66a0dfe",
   "metadata": {},
   "outputs": [],
   "source": [
    "points = {}\n",
    "points[[3, 5]] = \"monkey\"\n",
    "points[[5, 0]] = \"banana\"\n",
    "points[[1, 2]] = \"guitar\"\n",
    "print(points[[3, 5]])"
   ]
  },
  {
   "cell_type": "markdown",
   "id": "dab34c46",
   "metadata": {},
   "source": [
    "## Tuple Tanpa Tanda Kurung\n",
    "\n",
    "Tanda kurung tidak begitu diperlukan saat mendefinisikan tuple. Dua assignment variabel berikut menghasilkan hasil yang identik:\n",
    "```python\n",
    "numbers = (1, 2, 3)\n",
    "```\n",
    "```python\n",
    "numbers = 1, 2, 3\n",
    "```\n",
    "Artinya, kita juga dapat dengan mudah mengembalikan beberapa nilai sekaligus menggunakan tuple. Contoh:"
   ]
  },
  {
   "cell_type": "code",
   "execution_count": null,
   "id": "5daac31b",
   "metadata": {},
   "outputs": [],
   "source": [
    "my_list = [33, 5, 21, 7, 88, 312, 5]\n",
    "\n",
    "min_value, max_value = min(my_list), max(my_list)\n",
    "print(f\"The smallest item is {min_value} and the greatest item is {max_value}\")"
   ]
  },
  {
   "cell_type": "markdown",
   "id": "7ac5127f",
   "metadata": {},
   "source": [
    "## Latihan\n",
    "\n",
    "Kerjakan latihan di <https://programming-25.mooc.fi/part-5/4-tuple>"
   ]
  }
 ],
 "metadata": {
  "kernelspec": {
   "display_name": "Python 3",
   "language": "python",
   "name": "python3"
  },
  "language_info": {
   "codemirror_mode": {
    "name": "ipython",
    "version": 3
   },
   "file_extension": ".py",
   "mimetype": "text/x-python",
   "name": "python",
   "nbconvert_exporter": "python",
   "pygments_lexer": "ipython3",
   "version": "3.13.1"
  }
 },
 "nbformat": 4,
 "nbformat_minor": 5
}
