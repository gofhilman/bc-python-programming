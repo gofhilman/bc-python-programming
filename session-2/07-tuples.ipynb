{
 "cells": [
  {
   "cell_type": "markdown",
   "id": "033e403b",
   "metadata": {},
   "source": [
    "# Tuples\n",
    "\n",
    "Tuple adalah struktur data yang mirip seperti list. Perbedaan dasarnya adalah:\n",
    "- Tuple ditulis di dalam tanda kurung biasa (), sedangkan list ditulis di dalam tanda kurung siku [].\n",
    "- Tuple bersifat immutable (tetap), sedangkan list bersifat mutable (kontennya dapat berubah).\n",
    "\n",
    "Contoh tuple:\n",
    "```python\n",
    "point = (10, 20)\n",
    "```\n",
    "\n",
    "Item yang berada di dalam tuple dapat diakses dengan menggunakan indeksnya, mirip seperti item dalam list. Contoh:"
   ]
  },
  {
   "cell_type": "code",
   "execution_count": null,
   "id": "4472d4a0",
   "metadata": {},
   "outputs": [],
   "source": [
    "point = (10, 20)\n",
    "print(\"x coordinate:\", point[0])\n",
    "print(\"y coordinate:\", point[1])"
   ]
  },
  {
   "cell_type": "markdown",
   "id": "f925d338",
   "metadata": {},
   "source": [
    "Nilai yang berada di dalam tuple tidak dapat diganti setelah tuple tersebut didefinisikan. Kode berikut akan menghasilkan error:"
   ]
  },
  {
   "cell_type": "code",
   "execution_count": null,
   "id": "ecfa30bb",
   "metadata": {},
   "outputs": [],
   "source": [
    "point = (10, 20)\n",
    "point[0] = 15"
   ]
  },
  {
   "cell_type": "markdown",
   "id": "7e9548e3",
   "metadata": {},
   "source": [
    "## Apa Tujuan Menggunakan Tuple?\n",
    "\n",
    "Tuple sangat ideal digunakan ketika ada sekumpulan nilai yang saling berkaitan. Misalnya, saat kita perlu menangani koordinat x dan y dari sebuah titik, tuple adalah pilihan yang alami, karena koordinat selalu terdiri dari dua nilai:\n",
    "```python\n",
    "point = (10, 20)\n",
    "```\n",
    "Secara teknis, tentu saja kita juga bisa menggunakan list untuk menyimpan nilai-nilai tersebut:\n",
    "```python\n",
    "point = [10, 20]\n",
    "```\n",
    "List adalah kumpulan item yang berurutan dalam suatu urutan tertentu. Ukuran list juga bisa berubah. Namun, ketika kita menyimpan koordinat sebuah titik, kita ingin menyimpan nilai x dan y secara spesifik, bukan sekadar daftar acak yang kebetulan berisi dua nilai tersebut."
   ]
  }
 ],
 "metadata": {
  "kernelspec": {
   "display_name": "Python 3",
   "language": "python",
   "name": "python3"
  },
  "language_info": {
   "name": "python",
   "version": "3.13.1"
  }
 },
 "nbformat": 4,
 "nbformat_minor": 5
}
