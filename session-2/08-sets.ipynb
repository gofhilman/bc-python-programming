{
 "cells": [
  {
   "cell_type": "markdown",
   "id": "d1fd9663",
   "metadata": {},
   "source": [
    "# Sets\n",
    "\n",
    "Set adalah collection yang tidak berurutan dan tidak memiliki elemen duplikat. Kegunaan dasarnya adalah untuk memeriksa apakah suatu elemen ada di dalam set dan juga untuk menghapus entri duplikat. Kurung kurawal `{}` atau fungsi `set()` dapat digunakan untuk membuat set. \n",
    "\n",
    "Catatan: untuk membuat set kosong, kita harus menggunakan `set()`, bukan `{}` karena `{}` digunakan untuk membuat dictionary kosong."
   ]
  },
  {
   "cell_type": "code",
   "execution_count": null,
   "id": "9e7abf4b",
   "metadata": {},
   "outputs": [],
   "source": [
    "basket = {'apple', 'orange', 'apple', 'pear', 'orange', 'banana'}\n",
    "print(basket)                  # show that duplicates have been removed\n",
    "print('orange' in basket)      # fast membership testing\n",
    "print('durian' in basket)"
   ]
  },
  {
   "cell_type": "markdown",
   "id": "d5789b1f",
   "metadata": {},
   "source": [
    "## Operasi dalam Set\n",
    "\n",
    "Object set juga mendukung operasi matematika seperti union, intersection, difference, dan symmetric difference. Contoh:"
   ]
  },
  {
   "cell_type": "code",
   "execution_count": null,
   "id": "dc253470",
   "metadata": {},
   "outputs": [],
   "source": [
    "a = set('abracadabra')\n",
    "b = set('alacazam')\n",
    "print(\"Unique letters in a:\", a)                             \n",
    "print(\"Letters in a but not in b:\", a - b)                            \n",
    "print(\"Letters in a or b or both:\", a | b)                              \n",
    "print(\"Letters in both a and b:\", a & b)                             \n",
    "print(\"Letters in a or b but not both:\", a ^ b)                             "
   ]
  }
 ],
 "metadata": {
  "kernelspec": {
   "display_name": "Python 3",
   "language": "python",
   "name": "python3"
  },
  "language_info": {
   "codemirror_mode": {
    "name": "ipython",
    "version": 3
   },
   "file_extension": ".py",
   "mimetype": "text/x-python",
   "name": "python",
   "nbconvert_exporter": "python",
   "pygments_lexer": "ipython3",
   "version": "3.13.1"
  }
 },
 "nbformat": 4,
 "nbformat_minor": 5
}
