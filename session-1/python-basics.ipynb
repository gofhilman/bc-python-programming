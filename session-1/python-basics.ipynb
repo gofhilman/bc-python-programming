{
 "cells": [
  {
   "cell_type": "markdown",
   "id": "ceee99f8",
   "metadata": {},
   "source": [
    "# Python Basics\n",
    "\n",
    "## Perkenalan\n",
    "\n",
    "### Membuat Command"
   ]
  },
  {
   "cell_type": "code",
   "execution_count": null,
   "id": "2f6c5406",
   "metadata": {},
   "outputs": [],
   "source": [
    "print(\"Hi there!\")"
   ]
  },
  {
   "cell_type": "code",
   "execution_count": null,
   "id": "f6e6e213",
   "metadata": {},
   "outputs": [],
   "source": [
    "print(Hi there!)"
   ]
  },
  {
   "cell_type": "markdown",
   "id": "ca47ff72",
   "metadata": {},
   "source": [
    "### Multiple Commands"
   ]
  },
  {
   "cell_type": "code",
   "execution_count": null,
   "id": "005f077e",
   "metadata": {},
   "outputs": [],
   "source": [
    "print(\"Selamat datang di kelas Introduction to Python Programming!\")\n",
    "print(\"Pertama, kita akan berlatih menggunakan perintah print.\")\n",
    "print(\"Program ini mencetak tiga baris teks di layar.\")"
   ]
  },
  {
   "cell_type": "markdown",
   "id": "7c7e3502",
   "metadata": {},
   "source": [
    "### Operasi Aritmatika"
   ]
  },
  {
   "cell_type": "code",
   "execution_count": null,
   "id": "69d59b71",
   "metadata": {},
   "outputs": [],
   "source": [
    "print(2 + 2 * 10)\n",
    "print(\"2 + 2 * 10\")"
   ]
  },
  {
   "cell_type": "markdown",
   "id": "d0a94598",
   "metadata": {},
   "source": [
    "### Membuat Komentar\n",
    "\n",
    "Biasa dibuat di awal baris tersendiri:"
   ]
  },
  {
   "cell_type": "code",
   "execution_count": null,
   "id": "4f0809ed",
   "metadata": {},
   "outputs": [],
   "source": [
    "print(\"Jam dalam setahun:\")\n",
    "# ada 365 hari dalam setahun dan 24 jam dalam sehari\n",
    "print(365*24)"
   ]
  },
  {
   "cell_type": "markdown",
   "id": "e4c6604c",
   "metadata": {},
   "source": [
    "Atau bisa juga ditambahkan di ujung akhir baris untuk komentar pendek:"
   ]
  },
  {
   "cell_type": "code",
   "execution_count": null,
   "id": "9c14d095",
   "metadata": {},
   "outputs": [],
   "source": [
    "print(\"Jam dalam setahun:\")\n",
    "print(365*24) # 365 hari, 24 jam setiap hari"
   ]
  },
  {
   "cell_type": "markdown",
   "id": "cf702f34",
   "metadata": {},
   "source": [
    "### Contoh Lainnya"
   ]
  },
  {
   "cell_type": "code",
   "execution_count": null,
   "id": "52af01bd",
   "metadata": {},
   "outputs": [],
   "source": [
    "print('\"Cepat kembali!\", teriak petugas polisi.')"
   ]
  },
  {
   "cell_type": "markdown",
   "id": "a83c3ed0",
   "metadata": {},
   "source": [
    "### Latihan\n",
    "\n",
    "Kerjakan semua latihan di <https://programming-25.mooc.fi/part-1/1-getting-started>"
   ]
  },
  {
   "cell_type": "markdown",
   "id": "37f54cbb",
   "metadata": {},
   "source": [
    "## Penggunaan Command Input"
   ]
  },
  {
   "cell_type": "code",
   "execution_count": null,
   "id": "b6274b20",
   "metadata": {},
   "outputs": [],
   "source": [
    "name = input(\"What is your name? \")\n",
    "print(\"Hi there, \" + name)"
   ]
  },
  {
   "cell_type": "markdown",
   "id": "6c033ff5",
   "metadata": {},
   "source": [
    "`name` dalam contoh ini disebut sebagai variable. Dalam konteks programming, variable adalah tempat untuk menyimpan suatu value.\n",
    "\n",
    "Common practice dalam menamakan variable adalah dalam bahasa inggris dan masuk akal."
   ]
  },
  {
   "cell_type": "code",
   "execution_count": null,
   "id": "6fd532e9",
   "metadata": {},
   "outputs": [],
   "source": [
    "name = input(\"Siapa nama Anda? \")\n",
    "\n",
    "print(\"Hai, \" + name + \"!\")\n",
    "print(name + \" adalah nama yang cukup bagus.\")"
   ]
  },
  {
   "cell_type": "code",
   "execution_count": null,
   "id": "d4b497f1",
   "metadata": {},
   "outputs": [],
   "source": [
    "name = input(\"Siapa nama Anda? \")\n",
    "\n",
    "print(\"Hai \" + name + \"! Mari saya pastikan: nama Anda adalah \" + name + \"?\")"
   ]
  },
  {
   "cell_type": "markdown",
   "id": "3fedb550",
   "metadata": {},
   "source": [
    "### Lebih dari satu input"
   ]
  },
  {
   "cell_type": "code",
   "execution_count": null,
   "id": "356eeafe",
   "metadata": {},
   "outputs": [],
   "source": [
    "name = input(\"Siapa nama Anda? \")\n",
    "email = input(\"Apa alamat email Anda? \")\n",
    "nickname = input(\"Apa nama panggilan Anda? \")\n",
    "\n",
    "print(\"Mari kita pastikan semuanya benar\")\n",
    "print(\"Nama Anda: \" + name)\n",
    "print(\"Alamat email Anda: \" + email)\n",
    "print(\"Nama panggilan Anda: \" + nickname)"
   ]
  },
  {
   "cell_type": "code",
   "execution_count": null,
   "id": "de69360b",
   "metadata": {},
   "outputs": [],
   "source": [
    "address = input(\"Apa alamat Anda? \")\n",
    "print(\"Jadi Anda tinggal di alamat \" + address)\n",
    "\n",
    "address = input(\"Silakan ketik alamat baru: \")\n",
    "print(\"Alamat Anda sekarang adalah \" + address)"
   ]
  },
  {
   "cell_type": "code",
   "execution_count": null,
   "id": "f14c4dab",
   "metadata": {},
   "outputs": [],
   "source": [
    "address = input(\"Apa alamat Anda? \")\n",
    "address = input(\"Silakan ketik alamat baru: \")\n",
    "\n",
    "print(\"Alamat Anda sekarang adalah \" + address)"
   ]
  },
  {
   "cell_type": "markdown",
   "id": "7c265e15",
   "metadata": {},
   "source": [
    "### Latihan\n",
    "\n",
    "Kerjakan semua latihan di <https://programming-25.mooc.fi/part-1/2-information-from-the-user>"
   ]
  },
  {
   "cell_type": "markdown",
   "id": "bd8ff4e0",
   "metadata": {},
   "source": [
    "## Variables\n",
    "\n",
    "### Tips menamakan variable dengan baik\n",
    "\n",
    "- Beri nama sesuai dengan fungsinya\n",
    "- Dimulai dengan huruf dan hanya boleh berisi huruf, angka, dan garis bawah (_)\n",
    "- Huruf kecil dan besar dianggap karakter yang berbeda\n",
    "- Disarankan menggunakan huruf kecil saja. Jika nama variable terdiri dari beberapa kata, gunakan garis bawah (_) sebagai pemisah antar kata."
   ]
  },
  {
   "cell_type": "code",
   "execution_count": null,
   "id": "e9b0183f",
   "metadata": {},
   "outputs": [],
   "source": [
    "given_name = \"Paul\"\n",
    "family_name = \"Python\"\n",
    "\n",
    "name = given_name + \" \" + family_name\n",
    "\n",
    "print(name)"
   ]
  },
  {
   "cell_type": "markdown",
   "id": "2be071df",
   "metadata": {},
   "source": [
    "### Mengubah nilai variable"
   ]
  },
  {
   "cell_type": "code",
   "execution_count": null,
   "id": "8ee0ce5f",
   "metadata": {},
   "outputs": [],
   "source": [
    "word = input(\"Silakan ketik sebuah kata: \")\n",
    "print(word)\n",
    "\n",
    "word = word + \"!!!\"\n",
    "print(word)"
   ]
  },
  {
   "cell_type": "markdown",
   "id": "f3e9ebcf",
   "metadata": {},
   "source": [
    "### Integers"
   ]
  },
  {
   "cell_type": "code",
   "execution_count": null,
   "id": "e5d6a280",
   "metadata": {},
   "outputs": [],
   "source": [
    "age = 24\n",
    "print(age)"
   ]
  },
  {
   "cell_type": "code",
   "execution_count": null,
   "id": "9c4f9e27",
   "metadata": {},
   "outputs": [],
   "source": [
    "number1 = 100\n",
    "number2 = \"100\"\n",
    "\n",
    "print(number1)\n",
    "print(number2)"
   ]
  },
  {
   "cell_type": "code",
   "execution_count": null,
   "id": "09c208b5",
   "metadata": {},
   "outputs": [],
   "source": [
    "number1 = 100\n",
    "number2 = \"100\"\n",
    "\n",
    "print(number1 + number1)\n",
    "print(number2 + number2)"
   ]
  },
  {
   "cell_type": "code",
   "execution_count": null,
   "id": "160c55f0",
   "metadata": {},
   "outputs": [],
   "source": [
    "number = \"100\"\n",
    "print(number / 2)"
   ]
  },
  {
   "cell_type": "markdown",
   "id": "b5c24d72",
   "metadata": {},
   "source": [
    "### Menggabungkan nilai ketika printing"
   ]
  },
  {
   "cell_type": "code",
   "execution_count": null,
   "id": "f617c7d0",
   "metadata": {},
   "outputs": [],
   "source": [
    "result = 10 * 25\n",
    "# baris berikut menghasilkan error\n",
    "print(\"Hasilnya adalah \" + result)"
   ]
  },
  {
   "cell_type": "code",
   "execution_count": null,
   "id": "b3d0228b",
   "metadata": {},
   "outputs": [],
   "source": [
    "result = 10 * 25\n",
    "print(\"Hasilnya adalah \" + str(result))"
   ]
  },
  {
   "cell_type": "markdown",
   "id": "62226352",
   "metadata": {},
   "source": [
    "### Printing dengan f-strings"
   ]
  },
  {
   "cell_type": "code",
   "execution_count": null,
   "id": "463b5d20",
   "metadata": {},
   "outputs": [],
   "source": [
    "result = 10 * 25\n",
    "print(f\"Hasilnya adalah {result}\")"
   ]
  },
  {
   "cell_type": "markdown",
   "id": "7111b6a4",
   "metadata": {},
   "source": [
    "Coba bandingkan:"
   ]
  },
  {
   "cell_type": "code",
   "execution_count": null,
   "id": "90ea5b81",
   "metadata": {},
   "outputs": [],
   "source": [
    "name = \"Mark\"\n",
    "age = 37\n",
    "city = \"Palo Alto\"\n",
    "print(f\"Hai {name}, Anda berusia {age} tahun. Anda tinggal di {city}.\")"
   ]
  },
  {
   "cell_type": "code",
   "execution_count": null,
   "id": "125cdd94",
   "metadata": {},
   "outputs": [],
   "source": [
    "name = \"Mark\"\n",
    "age = 37\n",
    "city = \"Palo Alto\"\n",
    "print(\"Hai\", name, \", Anda berusia\", age, \"tahun. Anda tinggal di\", city, \".\")"
   ]
  },
  {
   "cell_type": "markdown",
   "id": "9a3743f8",
   "metadata": {},
   "source": [
    "### Floating point nummbers (bilangan desimal)"
   ]
  },
  {
   "cell_type": "code",
   "execution_count": null,
   "id": "8fde294f",
   "metadata": {},
   "outputs": [],
   "source": [
    "number1 = 2.5\n",
    "number2 = -1.25\n",
    "number3 = 3.62\n",
    "\n",
    "mean = (number1 + number2 + number3) / 3\n",
    "print(f\"Mean: {mean}\")"
   ]
  },
  {
   "cell_type": "markdown",
   "id": "30ceffb4",
   "metadata": {},
   "source": [
    "### Latihan\n",
    "\n",
    "Kerjakan semua latihan di <https://programming-25.mooc.fi/part-1/3-more-about-variables>"
   ]
  },
  {
   "attachments": {
    "image.png": {
     "image/png": "[encoded data removed]"
    }
   },
   "cell_type": "markdown",
   "id": "42fbcf78",
   "metadata": {},
   "source": [
    "## Operasi Aritmatika\n",
    "\n",
    "![image.png](attachment:image.png)\n",
    "\n",
    "Urutan operasi bisa diubah dengan menggunakan tanda kurung (), contoh:"
   ]
  },
  {
   "cell_type": "code",
   "execution_count": null,
   "id": "5d20ee49",
   "metadata": {},
   "outputs": [],
   "source": [
    "print(2 + 3 * 3)\n",
    "print((2 + 3) * 3)"
   ]
  },
  {
   "cell_type": "markdown",
   "id": "e1e2b96b",
   "metadata": {},
   "source": [
    "### Menggunakan angka sebagai input\n",
    "\n",
    "Input selalu dalam bentuk string, untuk mengubahnya ke bentuk bilangan integer (bulat) gunakan fungsi `int`:"
   ]
  },
  {
   "cell_type": "code",
   "execution_count": null,
   "id": "28238ff5",
   "metadata": {},
   "outputs": [],
   "source": [
    "year = int(input(\"Which year were you born? \"))\n",
    "print(f\"Your age at the end of the year 2021: {2021 - year}\" )"
   ]
  },
  {
   "cell_type": "markdown",
   "id": "49767b8a",
   "metadata": {},
   "source": [
    "Untuk mengubah bentuk string ke floating point numbers (bilangan desimal), gunakan fungsi `float`:"
   ]
  },
  {
   "cell_type": "code",
   "execution_count": null,
   "id": "93729ac9",
   "metadata": {},
   "outputs": [],
   "source": [
    "height = float(input(\"What is your height? \"))\n",
    "weight = float(input(\"What is your weight? \"))\n",
    "\n",
    "height = height / 100\n",
    "bmi = weight / height ** 2\n",
    "\n",
    "print(f\"The BMI is {bmi}\")"
   ]
  },
  {
   "cell_type": "markdown",
   "id": "ed93d91b",
   "metadata": {},
   "source": [
    "### Menggunakan variable\n",
    "\n",
    "Bandingkan contoh berikut:"
   ]
  },
  {
   "cell_type": "code",
   "execution_count": null,
   "id": "2caddda2",
   "metadata": {},
   "outputs": [],
   "source": [
    "sum = 0\n",
    "\n",
    "number = int(input(\"First number: \"))\n",
    "sum = sum + number\n",
    "\n",
    "number = int(input(\"Second number: \"))\n",
    "sum = sum + number\n",
    "\n",
    "number = int(input(\"Third number: \"))\n",
    "sum = sum + number\n",
    "\n",
    "print(f\"The sum of the numbers: {sum}\")"
   ]
  },
  {
   "cell_type": "code",
   "execution_count": null,
   "id": "eb62bb93",
   "metadata": {},
   "outputs": [],
   "source": [
    "sum = 0\n",
    "\n",
    "number = int(input(\"First number: \"))\n",
    "sum += number\n",
    "\n",
    "number = int(input(\"Second number: \"))\n",
    "sum += number\n",
    "\n",
    "number = int(input(\"Third number: \"))\n",
    "sum += number\n",
    "\n",
    "print(f\"The sum of the numbers: {sum}\")"
   ]
  },
  {
   "cell_type": "markdown",
   "id": "3f573201",
   "metadata": {},
   "source": [
    "Berlaku juga untuk operator lainnya, contoh:"
   ]
  },
  {
   "cell_type": "code",
   "execution_count": null,
   "id": "21bfba59",
   "metadata": {},
   "outputs": [],
   "source": [
    "x = 3\n",
    "x *= 5 # init = init * 5\n",
    "print(x)"
   ]
  },
  {
   "cell_type": "markdown",
   "id": "1d53b790",
   "metadata": {},
   "source": [
    "### Latihan\n",
    "\n",
    "Kerjakan semua latihan di <https://programming-25.mooc.fi/part-1/4-arithmetic-operations>"
   ]
  },
  {
   "cell_type": "markdown",
   "id": "c026a8d4",
   "metadata": {},
   "source": [
    "## Istilah Penting dalam Programming\n",
    "\n",
    "- Statement\n",
    "- Block\n",
    "- Expression\n",
    "- Function\n",
    "- Data type\n",
    "- Syntax\n",
    "- Debugging\n",
    "\n",
    "### Latihan\n",
    "\n",
    "Kerjakan latihan di <https://programming-25.mooc.fi/part-2/1-programming-terminology>"
   ]
  }
 ],
 "metadata": {
  "kernelspec": {
   "display_name": "Python 3",
   "language": "python",
   "name": "python3"
  },
  "language_info": {
   "codemirror_mode": {
    "name": "ipython",
    "version": 3
   },
   "file_extension": ".py",
   "mimetype": "text/x-python",
   "name": "python",
   "nbconvert_exporter": "python",
   "pygments_lexer": "ipython3",
   "version": "3.13.1"
  }
 },
 "nbformat": 4,
 "nbformat_minor": 5
}
