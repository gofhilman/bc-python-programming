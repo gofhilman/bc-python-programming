{
 "cells": [
  {
   "cell_type": "markdown",
   "id": "9977eec7",
   "metadata": {},
   "source": [
    "# Functions\n",
    "\n",
    "## Mendefinisikan Fungsi\n",
    "\n",
    "### Definisi fungsi\n",
    "\n",
    "Sebelum dapat digunakan, fungsi harus didefinisikan terlebih dahulu. Contoh definisi fungsi:\n",
    "```python\n",
    "def message():\n",
    "    print(\"This is my very own function!\")\n",
    "```\n",
    "Fungsi hanya akan dieksekusi ketika fungsi tersebut dipanggil (called). Contoh:"
   ]
  },
  {
   "cell_type": "code",
   "execution_count": null,
   "id": "865d4984",
   "metadata": {},
   "outputs": [],
   "source": [
    "def message():\n",
    "    print(\"This is my very own function!\")\n",
    "\n",
    "message()"
   ]
  },
  {
   "cell_type": "markdown",
   "id": "699d5284",
   "metadata": {},
   "source": [
    "Fungsi yang telah didefinisikan juga dapat dipanggil berulang kali. Contoh:"
   ]
  },
  {
   "cell_type": "code",
   "execution_count": null,
   "id": "c7a83492",
   "metadata": {},
   "outputs": [],
   "source": [
    "def message():\n",
    "    print(\"This is my very own function!\")\n",
    "\n",
    "message()\n",
    "message()\n",
    "message()"
   ]
  },
  {
   "cell_type": "markdown",
   "id": "0969f507",
   "metadata": {},
   "source": [
    "### Argumen fungsi\n",
    "\n",
    "Fungsi sering kali menerima satu atau lebih argumen, yang dapat memengaruhi apa yang dilakukan oleh fungsi tersebut. Contoh:"
   ]
  },
  {
   "cell_type": "code",
   "execution_count": null,
   "id": "ad875763",
   "metadata": {},
   "outputs": [],
   "source": [
    "print(\"Hi!\")                           # argument is the string \"Hi!\"\n",
    "name = input(\"What is your name? \")    # argument is the string \"What is your name? \"\n",
    "print(name)                            # argument is the value of the variable name"
   ]
  },
  {
   "cell_type": "markdown",
   "id": "b9352031",
   "metadata": {},
   "source": [
    "Perbedaan argumen dan parameter:\n",
    "- Argumen adalah data yang dikirimkan ke fungsi saat fungsi dipanggil. Ini adalah nilai pasti yang diberikan oleh pemanggil fungsi. Jadi saat memanggil fungsi, kita menyebutnya argumen.\n",
    "- Parameter adalah variabel yang menerima nilai argumen di dalam definisi fungsi. Parameter berfungsi sebagai penampung data yang akan digunakan oleh fungsi. Jadi saat mendefinisikan fungsi, kita menyebutnya parameter."
   ]
  },
  {
   "cell_type": "code",
   "execution_count": null,
   "id": "58349404",
   "metadata": {},
   "outputs": [],
   "source": [
    "def hello(target):\n",
    "    print(\"Hello\", target)\n",
    "\n",
    "name = \"Alan\"\n",
    "hello(name)"
   ]
  },
  {
   "cell_type": "code",
   "execution_count": null,
   "id": "b14319e8",
   "metadata": {},
   "outputs": [],
   "source": [
    "def sum(x, y):\n",
    "    result = x + y\n",
    "    print(f\"The sum of the arguments {x} and {y} is {result}\")\n",
    "\n",
    "sum(1, 2)\n",
    "sum(5, 24)\n",
    "\n",
    "x = 100\n",
    "y = 30\n",
    "sum(x + y, 10)"
   ]
  },
  {
   "cell_type": "markdown",
   "id": "434335f3",
   "metadata": {},
   "source": [
    "### Latihan\n",
    "\n",
    "Kerjakan latihan di <https://programming-25.mooc.fi/part-3/4-defining-functions>"
   ]
  },
  {
   "cell_type": "markdown",
   "id": "aff22c4a",
   "metadata": {},
   "source": [
    "## Lebih Lanjut tentang Fungsi\n",
    "\n",
    "### Pemanggilan fungsi di dalam pemanggilan fungsi"
   ]
  },
  {
   "cell_type": "code",
   "execution_count": null,
   "id": "3d51064b",
   "metadata": {},
   "outputs": [],
   "source": [
    "def greet(name):\n",
    "    print(\"Hello there,\", name)\n",
    "\n",
    "def greet_many_times(name, times):\n",
    "    while times > 0:\n",
    "        greet(name)\n",
    "        times -= 1\n",
    "\n",
    "greet_many_times(\"Emily\", 3)"
   ]
  },
  {
   "cell_type": "markdown",
   "id": "a8c9bf32",
   "metadata": {},
   "source": [
    "### `return` statement\n",
    "\n",
    "Fungsi bisa juga me-return values (mengembalikan nilai). Contoh:\n",
    "```python\n",
    "word = input(\"Please type in a word: \")\n",
    "```\n",
    "\n",
    "Fungsi yang kita definisikan sendiri juga dapat me-return values dengan cara menggunakan `return` statement. Contoh:"
   ]
  },
  {
   "cell_type": "code",
   "execution_count": null,
   "id": "83039222",
   "metadata": {},
   "outputs": [],
   "source": [
    "def my_sum(a, b):\n",
    "    return a + b\n",
    "\n",
    "result = my_sum(2, 3)\n",
    "\n",
    "print(\"Sum:\", result)"
   ]
  },
  {
   "cell_type": "markdown",
   "id": "088a8a07",
   "metadata": {},
   "source": [
    "`return` statement akan langsung mengakhiri eksekusi fungsi. Contoh:"
   ]
  },
  {
   "cell_type": "code",
   "execution_count": null,
   "id": "ec087ded",
   "metadata": {},
   "outputs": [],
   "source": [
    "def smallest(a,b):\n",
    "    if a < b:\n",
    "        return a\n",
    "    return b\n",
    "\n",
    "print(smallest(3, 7))\n",
    "print(smallest(5, 2))"
   ]
  },
  {
   "cell_type": "markdown",
   "id": "1217947f",
   "metadata": {},
   "source": [
    "Kita juga dapat menggunakan `return` statement meskipun fungsi tidak mengembalikan nilai. Dalam kasus ini, tujuannya adalah untuk mengakhiri eksekusi fungsi. Contoh:"
   ]
  },
  {
   "cell_type": "code",
   "execution_count": null,
   "id": "0758d72d",
   "metadata": {},
   "outputs": [],
   "source": [
    "def greet(name):\n",
    "    if name == \"\":\n",
    "        print(\"???\")\n",
    "        return\n",
    "    print(\"Hello there,\", name)\n",
    "\n",
    "greet(\"Emily\")\n",
    "greet(\"\")\n",
    "greet(\"Mark\")"
   ]
  },
  {
   "cell_type": "markdown",
   "id": "2a9ed12c",
   "metadata": {},
   "source": [
    "Return values dari sebuah fungsi dapat menjadi argumen bagi fungsi lain. Contoh:"
   ]
  },
  {
   "cell_type": "code",
   "execution_count": null,
   "id": "bd42eb81",
   "metadata": {},
   "outputs": [],
   "source": [
    "def my_sum(a, b):\n",
    "    return a+b\n",
    "\n",
    "def difference(a, b):\n",
    "    return a-b\n",
    "\n",
    "result = difference(my_sum(5, 2), my_sum(2, 3))\n",
    "print(\"The result is\", result)"
   ]
  },
  {
   "cell_type": "markdown",
   "id": "57f7f8f0",
   "metadata": {},
   "source": [
    "### Perbedaan antara return dan print"
   ]
  },
  {
   "cell_type": "code",
   "execution_count": null,
   "id": "061df658",
   "metadata": {},
   "outputs": [],
   "source": [
    "def max1(a, b):\n",
    "    if a > b:\n",
    "        return a\n",
    "    else:\n",
    "        return b\n",
    "\n",
    "def max2(a, b):\n",
    "    if a > b:\n",
    "        print(a)\n",
    "    else:\n",
    "        print(b)\n",
    "\n",
    "result = max1(3, 5)\n",
    "print(result)\n",
    "\n",
    "max2(7, 2)"
   ]
  },
  {
   "attachments": {
    "image.png": {
     "image/png": "[encoded data removed]"
    }
   },
   "cell_type": "markdown",
   "id": "e4d2e5df",
   "metadata": {},
   "source": [
    "### Tipe data argumen\n",
    "\n",
    "![image.png](attachment:image.png)\n",
    "\n",
    "Kita dapat menyertakan type hint dalam definisi fungsi. Type hint menunjukkan tipe data dari argumen yang dimaksudkan untuk fungsi tersebut. Contoh:"
   ]
  },
  {
   "cell_type": "code",
   "execution_count": null,
   "id": "61e7814c",
   "metadata": {},
   "outputs": [],
   "source": [
    "def print_many_times(message : str, times : int):\n",
    "    while times > 0:\n",
    "        print(message)\n",
    "        times -= 1"
   ]
  },
  {
   "cell_type": "markdown",
   "id": "93efe1d2",
   "metadata": {},
   "source": [
    "Sama halnya, kita juga bisa memberikan type hint untuk return value fungsi saat mendefinisikannya. Contoh:"
   ]
  },
  {
   "cell_type": "code",
   "execution_count": null,
   "id": "5749b099",
   "metadata": {},
   "outputs": [],
   "source": [
    "def ask_for_name() -> str:\n",
    "    name = input(\"What is your name? \")\n",
    "    return name"
   ]
  },
  {
   "cell_type": "markdown",
   "id": "70c5cbbc",
   "metadata": {},
   "source": [
    "Type hint hanya memberi petunjuk tentang tipe data yang diharapkan, bukan aturan yang wajib dipatuhi. Python tidak akan menghentikan eksekusi fungsi meskipun tipe data tidak sesuai, yang berarti hasilnya bisa saja tidak seperti yang diharapkan.\n",
    "\n",
    "### Efek samping fungsi\n",
    "\n",
    "Ketika fungsi menerima list sebagai argumen (bukan salinan), fungsi bisa mengubah isi list tersebut. Jika perubahan itu tidak disengaja, hasilnya bisa memengaruhi bagian lain dari program yang juga menggunakan list yang sama. Contoh:"
   ]
  },
  {
   "cell_type": "code",
   "execution_count": null,
   "id": "751da2f9",
   "metadata": {},
   "outputs": [],
   "source": [
    "def second_smallest(my_list: list) -> int:\n",
    "    # in an ordered list, the second smallest item is at index 1\n",
    "    my_list.sort()\n",
    "    return my_list[1]\n",
    "\n",
    "numbers = [1, 4, 2, 5, 3, 6, 4, 7]\n",
    "print(second_smallest(numbers))\n",
    "print(numbers)"
   ]
  },
  {
   "cell_type": "markdown",
   "id": "f9a1cb61",
   "metadata": {},
   "source": [
    "Fungsi ini memang menemukan elemen terkecil kedua dengan benar, tetapi ia juga mengurutkan list secara langsung, sehingga urutan aslinya berubah. Jika urutan list penting di bagian lain program, perubahan ini bisa menimbulkan masalah. Perubahan tak disengaja terhadap object yang diterima sebagai referensi disebut sebagai efek samping fungsi. Kita dapat menghindari efek samping fungsi dengan mengubah kode di atas menjadi:"
   ]
  },
  {
   "cell_type": "code",
   "execution_count": null,
   "id": "05438228",
   "metadata": {},
   "outputs": [],
   "source": [
    "def second_smallest(my_list: list) -> int:\n",
    "    list_copy = sorted(my_list)\n",
    "    return list_copy[1]\n",
    "\n",
    "numbers = [1, 4, 2, 5, 3, 6, 4, 7]\n",
    "print(second_smallest(numbers))\n",
    "print(numbers)"
   ]
  },
  {
   "cell_type": "markdown",
   "id": "e8454874",
   "metadata": {},
   "source": [
    "Secara umum, menghindari efek samping dalam fungsi dianggap sebagai praktik pemrograman yang baik. Efek samping dapat menyulitkan proses verifikasi apakah program berjalan sesuai harapan dalam berbagai situasi. Fungsi yang tidak memiliki efek samping disebut *pure function*, dan ini adalah prinsip penting dalam pendekatan *functional programming*."
   ]
  },
  {
   "cell_type": "markdown",
   "id": "2a0bfbc4",
   "metadata": {},
   "source": [
    "### Latihan\n",
    "\n",
    "Kerjakan latihan di <https://programming-25.mooc.fi/part-4/2-more-functions>"
   ]
  }
 ],
 "metadata": {
  "kernelspec": {
   "display_name": "Python 3",
   "language": "python",
   "name": "python3"
  },
  "language_info": {
   "name": "python",
   "version": "3.13.1"
  }
 },
 "nbformat": 4,
 "nbformat_minor": 5
}
