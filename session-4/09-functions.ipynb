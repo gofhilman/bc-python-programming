{
 "cells": [
  {
   "cell_type": "markdown",
   "id": "9977eec7",
   "metadata": {},
   "source": [
    "# Functions\n",
    "\n",
    "## Mendefinisikan Fungsi\n",
    "\n",
    "### Definisi fungsi\n",
    "\n",
    "Sebelum dapat digunakan, fungsi harus didefinisikan terlebih dahulu. Contoh definisi fungsi:\n",
    "```python\n",
    "def message():\n",
    "    print(\"This is my very own function!\")\n",
    "```\n",
    "Fungsi hanya akan dieksekusi ketika fungsi tersebut dipanggil (called). Contoh:"
   ]
  },
  {
   "cell_type": "code",
   "execution_count": null,
   "id": "865d4984",
   "metadata": {},
   "outputs": [],
   "source": [
    "def message():\n",
    "    print(\"This is my very own function!\")\n",
    "\n",
    "message()"
   ]
  },
  {
   "cell_type": "markdown",
   "id": "699d5284",
   "metadata": {},
   "source": [
    "Fungsi yang telah didefinisikan juga dapat dipanggil berulang kali. Contoh:"
   ]
  },
  {
   "cell_type": "code",
   "execution_count": null,
   "id": "c7a83492",
   "metadata": {},
   "outputs": [],
   "source": [
    "def message():\n",
    "    print(\"This is my very own function!\")\n",
    "\n",
    "message()\n",
    "message()\n",
    "message()"
   ]
  }
 ],
 "metadata": {
  "kernelspec": {
   "display_name": "Python 3",
   "language": "python",
   "name": "python3"
  },
  "language_info": {
   "name": "python",
   "version": "3.13.1"
  }
 },
 "nbformat": 4,
 "nbformat_minor": 5
}
