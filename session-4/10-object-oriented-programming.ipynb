{
 "cells": [
  {
   "cell_type": "markdown",
   "id": "812dd187",
   "metadata": {},
   "source": [
    "# Object-Oriented Programming\n",
    "\n",
    "## Objects dan Methods\n",
    "\n",
    "Dalam programming, sering kali kita mengelompokkan data yang saling terkait dalam program kita. Misalnya, jika kita ingin menyimpan informasi tentang sebuah buku, akan masuk akal untuk menggunakan dictionary untuk mengatur data tersebut ke dalam satu data structure. Contohnya:"
   ]
  },
  {
   "cell_type": "code",
   "execution_count": null,
   "id": "79be79a5",
   "metadata": {},
   "outputs": [],
   "source": [
    "name = \"In Search of Lost Typing\"\n",
    "author = \"Marcel Pythons\"\n",
    "year = 1992\n",
    "\n",
    "# Combine these in a dictionary\n",
    "book = {\"name\": name, \"author\": author, \"year\": year}\n",
    "\n",
    "# Print the name of the book\n",
    "print(book[\"name\"])"
   ]
  },
  {
   "cell_type": "markdown",
   "id": "ad620620",
   "metadata": {},
   "source": [
    "Dalam kode di atas, kita sebenarnya sedang membuat sebuah object baru. Dalam konteks pemrograman, istilah object merujuk pada suatu kesatuan independen yang menyimpan data yang saling berkaitan. Karena bersifat independen, setiap object berdiri sendiri, yang berarti perubahan pada satu object tidak akan memengaruhi object lainnya.\n",
    "\n",
    "Misalnya, jika kita membuat dua representasi buku yang identik secara struktur menggunakan dictionary dengan key yang sama, maka perubahan pada salah satu dictionary tidak akan berdampak pada yang lainnya. Masing-masing tetap terpisah dan bebas dari efek samping satu sama lain. Contoh:"
   ]
  },
  {
   "cell_type": "code",
   "execution_count": null,
   "id": "40f46fea",
   "metadata": {},
   "outputs": [],
   "source": [
    "book1 = {\"name\": \"The Old Man and the Pythons\", \"author\": \"Ernest Pythons\", \"year\": 1952}\n",
    "book2 = {\"name\": \"Seven Pythons\", \"author\": \"Aleksis Python\", \"year\": 1894}\n",
    "\n",
    "print(book1[\"name\"])\n",
    "print(book2[\"name\"])\n",
    "\n",
    "book1[\"name\"] = \"A Farewell to ARM Processors\"\n",
    "\n",
    "print(book1[\"name\"])\n",
    "print(book2[\"name\"])"
   ]
  },
  {
   "cell_type": "markdown",
   "id": "67c443f5",
   "metadata": {},
   "source": [
    "### Methods\n",
    "\n",
    "Data yang disimpan dalam sebuah object dapat diakses melalui method. Method adalah fungsi yang bekerja pada object tertentu tempat ia terpasang. Cara membedakan method dari fungsi lainnya adalah melalui cara pemanggilannya: pertama, tuliskan nama object yang dituju, diikuti dengan tanda titik, lalu nama method-nya, beserta argumen jika ada. Contoh:"
   ]
  },
  {
   "cell_type": "code",
   "execution_count": null,
   "id": "98ea4ad5",
   "metadata": {},
   "outputs": [],
   "source": [
    "# this creates an object of type dictionary with the name book\n",
    "book = {\"name\": \"The Old Man and the Pythons\", \"author\": \"Ernest Pythons\", \"year\": 1952}\n",
    "\n",
    "# Print out all the values\n",
    "# The method call values() is written after the name of the variable\n",
    "# Remember the dot notation!\n",
    "for value in book.values():\n",
    "    print(value)"
   ]
  },
  {
   "cell_type": "code",
   "execution_count": null,
   "id": "6684a8a9",
   "metadata": {},
   "outputs": [],
   "source": [
    "name = \"Imaginary Irene\"\n",
    "\n",
    "# Print out the number of times the letter I is found\n",
    "print(name.count(\"I\"))\n",
    "\n",
    "# The number of letters I found in another string\n",
    "print(\"Irreverent Irises in Islington\".count(\"I\"))\n",
    "\n",
    "# The index of the substring Irene\n",
    "print(name.find(\"Irene\"))\n",
    "\n",
    "# This string has no such substring\n",
    "print(\"A completely different string\".find(\"Irene\"))"
   ]
  },
  {
   "cell_type": "code",
   "execution_count": null,
   "id": "2b82b050",
   "metadata": {},
   "outputs": [],
   "source": [
    "my_list = [1,2,3]\n",
    "\n",
    "# Add a couple of items\n",
    "my_list.append(5)\n",
    "my_list.append(1)\n",
    "\n",
    "print(my_list)\n",
    "\n",
    "# Remove the first item\n",
    "my_list.pop(0)\n",
    "\n",
    "print(my_list)"
   ]
  },
  {
   "cell_type": "markdown",
   "id": "f7cb7272",
   "metadata": {},
   "source": [
    "### Latihan\n",
    "\n",
    "Kerjakan latihan di <https://programming-25.mooc.fi/part-8/1-objects-and-methods>"
   ]
  },
  {
   "cell_type": "markdown",
   "id": "fcfddc11",
   "metadata": {},
   "source": [
    "## Classes dan Objects\n",
    "\n",
    "### Class adalah rancangan dasar untuk membuat object\n",
    "\n",
    "Definisi class berisi struktur dan fungsionalitas dari setiap object yang mewakilinya. Jadi, definisi class dapat menjelaskan jenis data yang dimiliki oleh suatu object, serta menetapkan metode-metode yang dapat digunakan pada object tersebut. Object-oriented programming mengacu pada paradigma pemrograman di mana fungsionalitas program terikat pada penggunaan class dan object yang dibuat berdasarkan class tersebut.\n",
    "\n",
    "Satu definisi class dapat digunakan untuk membuat banyak object. Untuk menyederhanakan hubungan antara class dan object, kita bisa memahaminya seperti ini:\n",
    "- class mendefinisikan variabel-variabel\n",
    "- ketika sebuah object dibuat, variabel-variabel tersebut diberi nilai\n",
    "\n",
    "Contoh:"
   ]
  },
  {
   "cell_type": "code",
   "execution_count": null,
   "id": "3b3aaf59",
   "metadata": {},
   "outputs": [],
   "source": [
    "from fractions import Fraction\n",
    "\n",
    "number = Fraction(2,5)\n",
    "\n",
    "print(number)\n",
    "\n",
    "# Print the numerator\n",
    "print(number.numerator)\n",
    "\n",
    "# ...and the denominator\n",
    "print(number.denominator)"
   ]
  },
  {
   "cell_type": "markdown",
   "id": "6be9b92c",
   "metadata": {},
   "source": [
    "### Metode vs variabel"
   ]
  },
  {
   "cell_type": "code",
   "execution_count": null,
   "id": "fc70eb7a",
   "metadata": {},
   "outputs": [],
   "source": [
    "from datetime import date\n",
    "\n",
    "my_date = date(2020, 12, 24)\n",
    "\n",
    "# calling a method\n",
    "weekday = my_date.isoweekday()\n",
    "\n",
    "# accessing a variable\n",
    "my_month = my_date.month\n",
    "\n",
    "print(\"The day of the week:\", weekday)\n",
    "print(\"The month:\", my_month)"
   ]
  },
  {
   "cell_type": "markdown",
   "id": "9252a8cf",
   "metadata": {},
   "source": [
    "### Latihan\n",
    "\n",
    "Kerjakan latihan di <https://programming-25.mooc.fi/part-8/2-classes-and-objects>"
   ]
  },
  {
   "cell_type": "markdown",
   "id": "a8cf0af7",
   "metadata": {},
   "source": [
    "## Mendefinisikan Class\n",
    "\n",
    "Class didefinisikan dengan keyword `class`. Syntax-nya adalah:\n",
    "```python\n",
    "class NameOfClass:\n",
    "    # class defition goes here\n",
    "```\n",
    "\n",
    "Nama class biasanya ditulis dalam format PascalCase, yang juga dikenal sebagai UpperCamelCase. Artinya, semua kata dalam nama class ditulis tanpa spasi, dan setiap kata dimulai dengan huruf kapital.\n",
    "\n",
    "Mari kita lihat sebuah program di mana dua variabel ditambahkan ke dalam object `BankAccount`: `balance` dan `owner`. Setiap variabel yang terikat pada sebuah object disebut sebagai *attribute*-nya, atau lebih spesifik lagi, *data attribute*, dan kadang disebut juga sebagai *instance variable*. Contoh:"
   ]
  },
  {
   "cell_type": "code",
   "execution_count": null,
   "id": "a23b1f62",
   "metadata": {},
   "outputs": [],
   "source": [
    "class BankAccount:\n",
    "    pass\n",
    "\n",
    "peters_account = BankAccount()\n",
    "peters_account.owner = \"Peter Python\"\n",
    "peters_account.balance = 5.0\n",
    "\n",
    "print(peters_account.owner)\n",
    "print(peters_account.balance)"
   ]
  },
  {
   "cell_type": "markdown",
   "id": "ec4ab468",
   "metadata": {},
   "source": [
    "Data attribute hanya dapat diakses melalui object tempat atribut tersebut terpasang. Setiap object `BankAccount` yang dibuat berdasarkan class `BankAccount` memiliki nilai-nilainya sendiri yang terikat pada data attribute. Nilai-nilai tersebut dapat diakses dengan merujuk pada object yang dimaksud. Contoh:"
   ]
  },
  {
   "cell_type": "code",
   "execution_count": null,
   "id": "69f08cdd",
   "metadata": {},
   "outputs": [],
   "source": [
    "account = BankAccount()\n",
    "account.balance = 155.50\n",
    "\n",
    "print(account.balance) # This refers to the data attribute balance attached to the account\n",
    "print(balance) # THIS CAUSES AN ERROR, as there is no such independent variable available, and the object reference is missing"
   ]
  },
  {
   "cell_type": "markdown",
   "id": "2cf3362a",
   "metadata": {},
   "source": [
    "### Menambahkan constructor\n",
    "\n",
    "Mendeklarasikan attribute di luar constructor menyebabkan situasi di mana instance yang berbeda dari class yang sama dapat memiliki attribute yang berbeda. Contohnya, kode berikut menghasilkan error:"
   ]
  },
  {
   "cell_type": "code",
   "execution_count": null,
   "id": "efc1f73a",
   "metadata": {},
   "outputs": [],
   "source": [
    "class BankAccount:\n",
    "    pass\n",
    "\n",
    "peters_account = BankAccount()\n",
    "peters_account.owner = \"Peter\"\n",
    "peters_account.balance = 1400\n",
    "\n",
    "paulas_account = BankAccount()\n",
    "paulas_account.owner = \"Paula\"\n",
    "\n",
    "print(peters_account.balance)\n",
    "print(paulas_account.balance) # THIS CAUSES AN ERROR"
   ]
  },
  {
   "cell_type": "markdown",
   "id": "02d1fca8",
   "metadata": {},
   "source": [
    "Jadi, daripada mendeklarasikan attribute setelah setiap instance dari class dibuat, biasanya lebih baik untuk menginisialisasi nilai attribute saat class constructor dipanggil. *Constructor method* adalah deklarasi method dengan nama khusus `__init__`, yang biasanya disertakan di bagian paling awal dari definisi class. Contohnya:\n",
    "```python\n",
    "class BankAccount:\n",
    "\n",
    "    # The constructor\n",
    "    def __init__(self, balance: float, owner: str):\n",
    "        self.balance = balance\n",
    "        self.owner = owner\n",
    "```\n",
    "\n",
    "Setelah kita mendefinisikan parameter dari constructor method, kita dapat memberikan nilai awal yang diinginkan untuk data attribute sebagai argumen saat objek baru dibuat:"
   ]
  },
  {
   "cell_type": "code",
   "execution_count": null,
   "id": "c2d16aee",
   "metadata": {},
   "outputs": [],
   "source": [
    "class BankAccount:\n",
    "\n",
    "    # The constructor\n",
    "    def __init__(self, balance: float, owner: str):\n",
    "        self.balance = balance\n",
    "        self.owner = owner\n",
    "\n",
    "# As the method is called, no argument should be given for the self parameter\n",
    "# Python assigns the value for self automatically\n",
    "peters_account = BankAccount(100, \"Peter Python\")\n",
    "paulas_account = BankAccount(20000, \"Paula Pythons\")\n",
    "\n",
    "print(peters_account.balance)\n",
    "print(paulas_account.balance)"
   ]
  },
  {
   "cell_type": "markdown",
   "id": "05d2e600",
   "metadata": {},
   "source": [
    "Kita masih bisa mengubah nilai awal dari data attribute di tahap selanjutnya dalam program. Contoh:"
   ]
  },
  {
   "cell_type": "code",
   "execution_count": null,
   "id": "fadf298c",
   "metadata": {},
   "outputs": [],
   "source": [
    "class BankAccount:\n",
    "\n",
    "    # The constructor\n",
    "    def __init__(self, balance: float, owner: str):\n",
    "        self.balance = balance\n",
    "        self.owner = owner\n",
    "\n",
    "peters_account = BankAccount(100, \"Peter Python\")\n",
    "print(peters_account.balance)\n",
    "\n",
    "# Change the balance to 1500\n",
    "peters_account.balance = 1500\n",
    "print(peters_account.balance)\n",
    "\n",
    "# Add 2000 to the balance\n",
    "peters_account.balance += 2000\n",
    "print(peters_account.balance)"
   ]
  },
  {
   "cell_type": "markdown",
   "id": "a472aafd",
   "metadata": {},
   "source": [
    "### Latihan\n",
    "\n",
    "Kerjakan latihan di <https://programming-25.mooc.fi/part-8/3-defining-classes>"
   ]
  },
  {
   "cell_type": "markdown",
   "id": "fc442b8b",
   "metadata": {},
   "source": [
    "## Mendefinisikan Method\n",
    "\n",
    "Salah satu prinsip utama dalam object-oriented programming adalah object digunakan untuk mengakses data yang terdapat pada objek tersebut serta mengakses metode untuk memproses data tersebut.\n",
    "\n",
    "### Method dalam Class\n",
    "\n",
    "Method adalah subprogram atau fungsi yang terikat pada sebuah class tertentu. Biasanya, sebuah method hanya memengaruhi satu object. Method didefinisikan di dalam definisi class, dan dapat mengakses data attribute dari class tersebut seperti halnya variabel lainnya. Contohnya:"
   ]
  },
  {
   "cell_type": "code",
   "execution_count": null,
   "id": "24362b7d",
   "metadata": {},
   "outputs": [],
   "source": [
    "class BankAccount:\n",
    "\n",
    "    def __init__(self, account_number: str, owner: str, balance: float, annual_interest: float):\n",
    "        self.account_number = account_number\n",
    "        self.owner = owner\n",
    "        self.balance = balance\n",
    "        self.annual_interest = annual_interest\n",
    "\n",
    "    # This method adds the annual interest to the balance of the account\n",
    "    def add_interest(self):\n",
    "        self.balance += self.balance * self.annual_interest\n",
    "\n",
    "\n",
    "peters_account = BankAccount(\"12345-678\", \"Peter Python\", 1500.0, 0.015)\n",
    "peters_account.add_interest()\n",
    "print(peters_account.balance)"
   ]
  },
  {
   "cell_type": "code",
   "execution_count": null,
   "id": "6bb6c9ea",
   "metadata": {},
   "outputs": [],
   "source": [
    "# The class BankAccount is defined in the previous example\n",
    "\n",
    "peters_account = BankAccount(\"12345-678\", \"Peter Python\", 1500.0, 0.015)\n",
    "paulas_account = BankAccount(\"99999-999\", \"Paula Pythonen\", 1500.0, 0.05)\n",
    "pippas_account = BankAccount(\"1111-222\", \"Pippa Programmer\", 1500.0, 0.001)\n",
    "\n",
    "# Add interest on Peter's and Paula's accounts, but not on Pippa's\n",
    "peters_account.add_interest()\n",
    "paulas_account.add_interest()\n",
    "\n",
    "# Print all account balances\n",
    "print(peters_account.balance)\n",
    "print(paulas_account.balance)\n",
    "print(pippas_account.balance)"
   ]
  },
  {
   "cell_type": "markdown",
   "id": "2bddccdf",
   "metadata": {},
   "source": [
    "### Encapsulation\n",
    "\n",
    "Dalam object-oriented programming, istilah *client* sesekali muncul. Istilah ini merujuk pada bagian kode yang membuat sebuah object dan menggunakan fitur yang disediakan oleh methods-nya. Ketika data yang terdapat dalam sebuah object hanya digunakan melalui methods yang disediakan, maka integritas internal dari object tersebut terjamin. Contoh:"
   ]
  },
  {
   "cell_type": "code",
   "execution_count": null,
   "id": "5836506b",
   "metadata": {},
   "outputs": [],
   "source": [
    "class BankAccount:\n",
    "\n",
    "    def __init__(self, account_number: str, owner: str, balance: float, annual_interest: float):\n",
    "        self.account_number = account_number\n",
    "        self.owner = owner\n",
    "        self.balance = balance\n",
    "        self.annual_interest = annual_interest\n",
    "\n",
    "    # This method adds the annual interest to the balance of the account\n",
    "    def add_interest(self):\n",
    "        self.balance += self.balance * self.annual_interest\n",
    "\n",
    "    # This method \"withdraws\" money from the account\n",
    "    # If the withdrawal is successful the method returns True, and False otherwise\n",
    "    def withdraw(self, amount: float):\n",
    "        if amount <= self.balance:\n",
    "            self.balance -= amount\n",
    "            return True\n",
    "\n",
    "        return False\n",
    "\n",
    "peters_account = BankAccount(\"12345-678\", \"Peter Python\", 1500.0, 0.015)\n",
    "\n",
    "if peters_account.withdraw(1000):\n",
    "    print(\"The withdrawal was successful, the balance is now\", peters_account.balance)\n",
    "else:\n",
    "    print(\"The withdrawal was unsuccessful, the balance is insufficient\")\n",
    "\n",
    "# Let's try again\n",
    "if peters_account.withdraw(1000):\n",
    "    print(\"The withdrawal was successful, the balance is now\", peters_account.balance)\n",
    "else:\n",
    "    print(\"The withdrawal was unsuccessful, the balance is insufficient\")"
   ]
  },
  {
   "cell_type": "markdown",
   "id": "687243e8",
   "metadata": {},
   "source": [
    "Menjaga integritas internal dari sebuah object dan menyediakan methods yang sesuai untuk menjamin hal tersebut disebut *encapsulation*. Prinsipnya adalah bahwa mekanisme internal dari object disembunyikan dari client, tetapi object tetap menyediakan methods yang dapat digunakan untuk mengakses data yang disimpan di dalamnya.\n",
    "\n",
    "Menambahkan sebuah method tidak secara otomatis menyembunyikan attribute. Meskipun definisi BankAccount class berisi `withdraw` method untuk menarik uang, kode client tetap dapat mengakses dan mengubah `balance` attribute secara langsung. Contoh:"
   ]
  },
  {
   "cell_type": "code",
   "execution_count": null,
   "id": "5daf8077",
   "metadata": {},
   "outputs": [],
   "source": [
    "peters_account = BankAccount(\"12345-678\", \"Peter Python\", 1500.0, 0.015)\n",
    "\n",
    "# Attempt to withdraw 2000\n",
    "if peters_account.withdraw(2000):\n",
    "    print(\"The withdrawal was successful, the balance is now\", peters_account.balance)\n",
    "else:\n",
    "    print(\"The withdrawal was unsuccessful, the balance is insufficient\")\n",
    "\n",
    "    # \"Force\" the withdrawal of 2000\n",
    "    peters_account.balance -= 2000\n",
    "\n",
    "print(\"The balance is now:\", peters_account.balance)"
   ]
  },
  {
   "cell_type": "markdown",
   "id": "f24bfc13",
   "metadata": {},
   "source": [
    "### Latihan\n",
    "\n",
    "Kerjakan latihan di <https://programming-25.mooc.fi/part-8/4-defining-methods>"
   ]
  },
  {
   "cell_type": "markdown",
   "id": "49d96d06",
   "metadata": {},
   "source": [
    "## Contoh Penggunaan Class\n",
    "\n",
    "### Contoh 1: `Rectangle` class"
   ]
  },
  {
   "cell_type": "code",
   "execution_count": null,
   "id": "09c93649",
   "metadata": {},
   "outputs": [],
   "source": [
    "class Rectangle:\n",
    "    def __init__(self, left_upper: tuple, right_lower: tuple):\n",
    "        self.left_upper = left_upper\n",
    "        self.right_lower = right_lower\n",
    "        self.width = right_lower[0]-left_upper[0]\n",
    "        self.height = right_lower[1]-left_upper[1]\n",
    "\n",
    "    def area(self):\n",
    "        return self.width * self.height\n",
    "\n",
    "    def perimeter(self):\n",
    "        return self.width * 2 + self.height * 2\n",
    "\n",
    "    def move(self, x_change: int, y_change: int):\n",
    "        corner = self.left_upper\n",
    "        self.left_upper = (corner[0]+x_change, corner[1]+y_change)\n",
    "        corner = self.right_lower\n",
    "        self.right_lower = (corner[0]+x_change, corner[1]+y_change)\n",
    "\n",
    "rectangle = Rectangle((1, 1), (4, 3))\n",
    "print(rectangle.left_upper)\n",
    "print(rectangle.right_lower)\n",
    "print(rectangle.width)\n",
    "print(rectangle.height)\n",
    "print(rectangle.perimeter())\n",
    "print(rectangle.area())\n",
    "\n",
    "rectangle.move(3, 3)\n",
    "print(rectangle.left_upper)\n",
    "print(rectangle.right_lower)"
   ]
  },
  {
   "cell_type": "markdown",
   "id": "f1388029",
   "metadata": {},
   "source": [
    "### Printing an Object"
   ]
  },
  {
   "cell_type": "code",
   "execution_count": null,
   "id": "3f68aa80",
   "metadata": {},
   "outputs": [],
   "source": [
    "rectangle = Rectangle((1, 1), (4, 3))\n",
    "print(rectangle)"
   ]
  },
  {
   "cell_type": "markdown",
   "id": "73501644",
   "metadata": {},
   "source": [
    "Tentu saja kita menginginkan hasil print yang lebih jelas. Cara termudah untuk melakukannya adalah dengan menambahkan `__str__` method khusus ke dalam definisi class. Tujuannya adalah untuk mengembalikan gambaran keadaan dari object dalam format string. Jika definisi class berisi `__str__` method, maka nilai yang dikembalikan oleh method tersebutlah yang akan di-print ketika perintah `print` dijalankan. Contoh:"
   ]
  },
  {
   "cell_type": "code",
   "execution_count": null,
   "id": "a8241c10",
   "metadata": {},
   "outputs": [],
   "source": [
    "class Rectangle:\n",
    "    def __init__(self, left_upper: tuple, right_lower: tuple):\n",
    "        self.left_upper = left_upper\n",
    "        self.right_lower = right_lower\n",
    "        self.width = right_lower[0]-left_upper[0]\n",
    "        self.height = right_lower[1]-left_upper[1]\n",
    "\n",
    "    def area(self):\n",
    "        return self.width * self.height\n",
    "\n",
    "    def perimeter(self):\n",
    "        return self.width * 2 + self.height * 2\n",
    "\n",
    "    def move(self, x_change: int, y_change: int):\n",
    "        corner = self.left_upper\n",
    "        self.left_upper = (corner[0]+x_change, corner[1]+y_change)\n",
    "        corner = self.right_lower\n",
    "        self.right_lower = (corner[0]+x_change, corner[1]+y_change)\n",
    "\n",
    "    # This method returns the state of the object in string format\n",
    "    def __str__(self):\n",
    "        return f\"rectangle {self.left_upper} ... {self.right_lower}\"\n",
    "\n",
    "rectangle = Rectangle((1, 1), (4, 3))\n",
    "print(rectangle)"
   ]
  },
  {
   "cell_type": "markdown",
   "id": "81562e24",
   "metadata": {},
   "source": [
    "### Contoh 2: Task list"
   ]
  },
  {
   "cell_type": "code",
   "execution_count": null,
   "id": "9c9b1a43",
   "metadata": {},
   "outputs": [],
   "source": [
    "class TaskList:\n",
    "    def __init__(self):\n",
    "        self.tasks = []\n",
    "\n",
    "    def add_task(self, name: str, priority: int):\n",
    "        self.tasks.append((priority, name))\n",
    "\n",
    "    def get_next(self):\n",
    "        self.tasks.sort()\n",
    "        # The list method pop removes and returns the last item in a list\n",
    "        task = self.tasks.pop()\n",
    "        # Return the name of the task (the second item in the tuple)\n",
    "        return task[1]\n",
    "\n",
    "    def number_of_tasks(self):\n",
    "        return len(self.tasks)\n",
    "\n",
    "    def clear_tasks(self):\n",
    "        self.tasks = []\n",
    "\n",
    "tasks = TaskList()\n",
    "tasks.add_task(\"studying\", 50)\n",
    "tasks.add_task(\"exercise\", 60)\n",
    "tasks.add_task(\"cleaning\", 10)\n",
    "print(tasks.number_of_tasks())\n",
    "print(tasks.get_next())\n",
    "print(tasks.number_of_tasks())\n",
    "tasks.add_task(\"date\", 100)\n",
    "print(tasks.number_of_tasks())\n",
    "print(tasks.get_next())\n",
    "print(tasks.get_next())\n",
    "print(tasks.number_of_tasks())\n",
    "tasks.clear_tasks()\n",
    "print(tasks.number_of_tasks())"
   ]
  },
  {
   "cell_type": "markdown",
   "id": "ca6f32d0",
   "metadata": {},
   "source": [
    "### Latihan\n",
    "\n",
    "Kerjakan latihan di <https://programming-25.mooc.fi/part-8/5-more-examples-of-classes>"
   ]
  },
  {
   "cell_type": "markdown",
   "id": "49c45162",
   "metadata": {},
   "source": [
    "## Objects dan References\n",
    "\n",
    "Dalam Python, variabel tidak mengandung nilai / object secara langsung, melainkan berisi referensi ke object. Misalakan untuk kasus di dalam list, object yang sama persis dapat muncul beberapa kali, dan dapat dirujuk beberapa kali baik di dalam list maupun di luar list. Contohnya:"
   ]
  },
  {
   "cell_type": "code",
   "execution_count": null,
   "id": "ce4f7da3",
   "metadata": {},
   "outputs": [],
   "source": [
    "class Product:\n",
    "    def __init__(self, name: str, unit: str):\n",
    "        self.name = name\n",
    "        self.unit = unit\n",
    "\n",
    "\n",
    "if __name__ == \"__main__\":\n",
    "    shopping_list = []\n",
    "    milk = Product(\"Milk\", \"litre\")\n",
    "\n",
    "    shopping_list.append(milk)\n",
    "    shopping_list.append(milk)\n",
    "    shopping_list.append(Product(\"Cucumber\", \"piece\"))"
   ]
  },
  {
   "attachments": {
    "image.png": {
     "image/png": "[encoded data removed]"
    }
   },
   "cell_type": "markdown",
   "id": "fed26227",
   "metadata": {},
   "source": [
    "![image.png](attachment:image.png)\n",
    "\n",
    "Jika ada lebih dari satu reference ke object yang sama, maka tidak akan ada perbedaan mana reference yang digunakan. Cotohnya:"
   ]
  },
  {
   "cell_type": "code",
   "execution_count": null,
   "id": "5c754be0",
   "metadata": {},
   "outputs": [],
   "source": [
    "class Dog:\n",
    "    def __init__(self, name):\n",
    "        self.name = name\n",
    "\n",
    "    def __str__(self):\n",
    "        return self.name\n",
    "\n",
    "dogs = []\n",
    "fluffy = Dog(\"Fluffy\")\n",
    "dogs.append(fluffy)\n",
    "dogs.append(fluffy)\n",
    "dogs.append(Dog(\"Fluffy\"))\n",
    "\n",
    "print(\"Dogs initially:\")\n",
    "for dog in dogs:\n",
    "    print(dog)\n",
    "\n",
    "print(\"The dog at index 0 is renamed:\")\n",
    "dogs[0].name = \"Pooch\"\n",
    "for dog in dogs:\n",
    "    print(dog)\n",
    "\n",
    "print(\"The dog at index 2 is renamed:\")\n",
    "dogs[2].name = \"Fifi\"\n",
    "for dog in dogs:\n",
    "    print(dog)"
   ]
  },
  {
   "cell_type": "markdown",
   "id": "b28f4b02",
   "metadata": {},
   "source": [
    "Operator `is` digunakan untuk memeriksa apakah dua reference merujuk ke object yang sama persis, sedangkan operator `==` akan memberi tahu apakah konten dari object tersebut sama. Contohnya:"
   ]
  },
  {
   "cell_type": "code",
   "execution_count": null,
   "id": "d383bcf8",
   "metadata": {},
   "outputs": [],
   "source": [
    "list1 = [1, 2, 3]\n",
    "list2 = [1, 2, 3]\n",
    "list3 = list1\n",
    "\n",
    "print(list1 is list2)\n",
    "print(list1 is list3)\n",
    "print(list2 is list3)\n",
    "\n",
    "print()\n",
    "\n",
    "print(list1 == list2)\n",
    "print(list1 == list3)\n",
    "print(list2 == list3)"
   ]
  },
  {
   "cell_type": "markdown",
   "id": "2b718baa",
   "metadata": {},
   "source": [
    "### Instance dari class yang sama sebagai argument untuk method"
   ]
  },
  {
   "cell_type": "code",
   "execution_count": null,
   "id": "0261ba9b",
   "metadata": {},
   "outputs": [],
   "source": [
    "class Person:\n",
    "    def __init__(self, name: str, year_of_birth: int):\n",
    "        self.name = name\n",
    "        self.year_of_birth = year_of_birth"
   ]
  },
  {
   "cell_type": "markdown",
   "id": "dc77d40a",
   "metadata": {},
   "source": [
    "Misalkan kita ingin membuat program yang membandingkan usia object bertipe `Person`. Kita bisa menuliskan fungsi berikut:"
   ]
  },
  {
   "cell_type": "code",
   "execution_count": null,
   "id": "f4370743",
   "metadata": {},
   "outputs": [],
   "source": [
    "def older_than(person1: Person, person2: Person):\n",
    "    if person1.year_of_birth < person2.year_of_birth:\n",
    "        return True\n",
    "    else:\n",
    "        return False\n",
    "\n",
    "muhammad = Person(\"Muhammad ibn Musa al-Khwarizmi\", 780)\n",
    "pascal = Person(\"Blaise Pascal\", 1623)\n",
    "grace = Person(\"Grace Hopper\", 1906)\n",
    "\n",
    "if older_than(muhammad, pascal):\n",
    "    print(f\"{muhammad.name} is older than {pascal.name}\")\n",
    "else:\n",
    "    print(f\"{muhammad.name} is not older than {pascal.name}\")\n",
    "\n",
    "if older_than(grace, pascal):\n",
    "    print(f\"{grace.name} is older than {pascal.name}\")\n",
    "else:\n",
    "    print(f\"{grace.name} is not older than {pascal.name}\")"
   ]
  },
  {
   "cell_type": "markdown",
   "id": "ddfecdf0",
   "metadata": {},
   "source": [
    "Salah satu prinsip dalam object-oriented programming adalah memasukkan semua fungsionalitas yang menangani object dari tipe tertentu menjadi method di dalam definisi class. Jadi, daripada menggunakan fungsi, kita bisa menulis sebuah method yang memungkinkan kita membandingkan usia dari satu object `Person` dengan object `Person` lainnya. Contohnya:"
   ]
  },
  {
   "cell_type": "code",
   "execution_count": null,
   "id": "c4692753",
   "metadata": {},
   "outputs": [],
   "source": [
    "class Person:\n",
    "    def __init__(self, name: str, year_of_birth: int):\n",
    "        self.name = name\n",
    "        self.year_of_birth = year_of_birth\n",
    "\n",
    "    # NB: type hints must be enclosed in quotation marks if the parameter\n",
    "    # is of the same type as the class itself!\n",
    "    def older_than(self, another: \"Person\"):\n",
    "        if self.year_of_birth < another.year_of_birth:\n",
    "            return True\n",
    "        else:\n",
    "            return False\n",
    "    # or it can be shortly written as\n",
    "    # def older_than(self, another: \"Person\"):\n",
    "    #     return self.year_of_birth < another.year_of_birth\n",
    "\n",
    "muhammad = Person(\"Muhammad ibn Musa al-Khwarizmi\", 780)\n",
    "pascal = Person(\"Blaise Pascal\", 1623)\n",
    "grace = Person(\"Grace Hopper\", 1906)\n",
    "\n",
    "if muhammad.older_than(pascal):\n",
    "    print(f\"{muhammad.name} is older than {pascal.name}\")\n",
    "else:\n",
    "    print(f\"{muhammad.name} is not older than {pascal.name}\")\n",
    "\n",
    "if grace.older_than(pascal):\n",
    "    print(f\"{grace.name} is older than {pascal.name}\")\n",
    "else:\n",
    "    print(f\"{grace.name} is not older than {pascal.name}\")"
   ]
  },
  {
   "cell_type": "markdown",
   "id": "5ee58aa4",
   "metadata": {},
   "source": [
    "### Latihan\n",
    "\n",
    "Kerjakan latihan di <https://programming-25.mooc.fi/part-9/1-objects-and-references>"
   ]
  },
  {
   "cell_type": "markdown",
   "id": "e3a07720",
   "metadata": {},
   "source": [
    "## Object sebagai Attribute"
   ]
  },
  {
   "cell_type": "code",
   "execution_count": null,
   "id": "420f908f",
   "metadata": {},
   "outputs": [],
   "source": [
    "from completedcourse import CompletedCourse\n",
    "from course import Course\n",
    "from student import Student\n",
    "\n",
    "# Create a list of students\n",
    "students = []\n",
    "students.append(Student(\"Ollie\", \"1234\", 10))\n",
    "students.append(Student(\"Peter\", \"3210\", 23))\n",
    "students.append(Student(\"Lena\", \"9999\", 43))\n",
    "students.append(Student(\"Tina\", \"3333\", 8))\n",
    "\n",
    "# Create a course named Introduction to Programming\n",
    "itp = Course(\"Introduction to Programming\", \"itp1\", 5)\n",
    "\n",
    "# Add completed courses for each student, with grade 3 for all\n",
    "completed = []\n",
    "for student in students:\n",
    "    completed.append(CompletedCourse(student, itp, 3))\n",
    "\n",
    "# Print out the name of the student for each completed course\n",
    "for course in completed:\n",
    "    print(course.student.name)"
   ]
  },
  {
   "cell_type": "markdown",
   "id": "3b609040",
   "metadata": {},
   "source": [
    "### Kapan import diperlukan?\n",
    "\n",
    "Kita hanya perlu menggunakan `import` statement ketika ingin memakai kode yang dibuat di luar file Python yang sedang kita kerjakan (atau di luar sesi interpreter Python saat ini). Ini termasuk saat kita ingin menggunakan fitur dari Python standard library. Misalnya, kita bisa menggunakan module `math` yang berisi berbagai operasi matematika:"
   ]
  },
  {
   "cell_type": "code",
   "execution_count": null,
   "id": "7fddbe95",
   "metadata": {},
   "outputs": [],
   "source": [
    "import math\n",
    "\n",
    "x = 10\n",
    "print(f\"the square root of {x} is {math.sqrt(x)}\")"
   ]
  },
  {
   "cell_type": "markdown",
   "id": "203ee8cf",
   "metadata": {},
   "source": [
    "Jika semua kode program ditulis dalam satu file, kita tidak perlu menggunakan `import` statement untuk memakai class yang sudah kamu definisikan sendiri.\n",
    "\n",
    "### `None`: nilai yang merepresentasikan tidak ada apa-apa\n",
    "\n",
    "Dalam pemrograman Python, semua variabel yang telah diinisialisasi merujuk pada sebuah objek. Namun, ada situasi tertentu di mana kita perlu merujuk pada sesuatu yang tidak ada tanpa menimbulkan error. Kata kunci `None` dapat merepresentasikan objek “kosong” tersebut. Contoh:"
   ]
  },
  {
   "cell_type": "code",
   "execution_count": null,
   "id": "47a1a439",
   "metadata": {},
   "outputs": [],
   "source": [
    "class Player:\n",
    "    def __init__(self, name: str, goals: int):\n",
    "        self.name = name\n",
    "        self.goals = goals\n",
    "\n",
    "    def __str__(self):\n",
    "        return f\"{self.name} ({self.goals} goals)\"\n",
    "\n",
    "class Team:\n",
    "    def __init__(self, name: str):\n",
    "        self.name = name\n",
    "        self.players = []\n",
    "\n",
    "    def add_player(self, player: Player):\n",
    "        self.players.append(player)\n",
    "\n",
    "    def find_player(self, name: str):\n",
    "        for player in self.players:\n",
    "            if player.name == name:\n",
    "                return player\n",
    "        return None\n",
    "\n",
    "ca = Team(\"Campus Allstars\")\n",
    "ca.add_player(Player(\"Eric\", 10))\n",
    "ca.add_player(Player(\"Amily\", 22))\n",
    "ca.add_player(Player(\"Andy\", 1))\n",
    "\n",
    "player1 = ca.find_player(\"Andy\")\n",
    "print(player1)\n",
    "player2 = ca.find_player(\"Charlie\")\n",
    "print(player2)"
   ]
  },
  {
   "cell_type": "markdown",
   "id": "b11110d5",
   "metadata": {},
   "source": [
    "Namun, perlu hati-hati dalam menggunakan `None`, contohnya kode berikut akan menghasilkan eror:"
   ]
  },
  {
   "cell_type": "code",
   "execution_count": null,
   "id": "6aae3bc5",
   "metadata": {},
   "outputs": [],
   "source": [
    "ca = Team(\"Campus Allstars\")\n",
    "ca.add_player(Player(\"Eric\", 10))\n",
    "\n",
    "player = ca.find_player(\"Charlie\")\n",
    "print(f\"Goals by Charlie: {player.goals}\")"
   ]
  },
  {
   "cell_type": "markdown",
   "id": "c6c2e885",
   "metadata": {},
   "source": [
    "Jadi sebaiknya periksa dahulu apakah nilainya `None` sebelum mencoba mengakses atribut atau metode dari nilai yang dikembalikan. Contohnya:\n"
   ]
  },
  {
   "cell_type": "code",
   "execution_count": null,
   "id": "8c4d9dfe",
   "metadata": {},
   "outputs": [],
   "source": [
    "ca = Team(\"Campus Allstars\")\n",
    "ca.add_player(Player(\"Eric\", 10))\n",
    "\n",
    "player = ca.find_player(\"Charlie\")\n",
    "if player is not None:\n",
    "    print(f\"Goals by Charlie: {player.goals}\")\n",
    "else:\n",
    "    print(f\"Charlie doesn't play in Campus Allstars :(\")"
   ]
  },
  {
   "cell_type": "markdown",
   "id": "1bc24b45",
   "metadata": {},
   "source": [
    "### Latihan\n",
    "\n",
    "Kerjakan latihan di <https://programming-25.mooc.fi/part-9/2-objects-as-attributes>"
   ]
  },
  {
   "cell_type": "markdown",
   "id": "aa5742af",
   "metadata": {},
   "source": [
    "## Encapsulation\n",
    "\n",
    "Dalam Object-Oriented Programming, istilah *client* merujuk pada program yang menggunakan sebuah class atau instance dari class tersebut. Sebuah class menyediakan *services* bagi client, yang memungkinkan client mengakses object yang dibuat berdasarkan class tersebut. Tujuan dari pendekatan ini adalah:\n",
    "\n",
    "- penggunaan class dan/atau object semudah mungkin dari sudut pandang client\n",
    "- integritas setiap object selalu terjaga\n",
    "\n",
    "Integritas sebuah object berarti bahwa *state* dari object tersebut selalu berada dalam kondisi yang dapat diterima. Dalam praktiknya, ini berarti nilai-nilai dari atribut object harus selalu valid. Misalnya, sebuah object yang merepresentasikan tanggal tidak boleh memiliki nilai bulan sebesar 13, atau object yang memodelkan mahasiswa tidak boleh memiliki jumlah SKS yang bernilai negatif, dan seterusnya.\n",
    "\n",
    "### Encapsulation\n",
    "\n",
    "Salah satu fitur umum dalam bahasa pemrograman Object-Oriented Programming adalah bahwa class biasanya dapat menyembunyikan atribut-atributnya dari client yang berpotensi mengaksesnya. Atribut yang disembunyikan ini biasanya disebut *private*. Dalam Python, private ini dapat dibuat dengan menambahkan dua garis bawah `__` di awal nama atribut. Contohnya:"
   ]
  },
  {
   "cell_type": "code",
   "execution_count": null,
   "id": "35b8b3a8",
   "metadata": {},
   "outputs": [],
   "source": [
    "class CreditCard:\n",
    "    # the attribute number is private, while the attribute name is accessible\n",
    "    def __init__(self, number: str, name: str):\n",
    "        self.__number = number\n",
    "        self.name = name"
   ]
  },
  {
   "cell_type": "code",
   "execution_count": null,
   "id": "702ba488",
   "metadata": {},
   "outputs": [],
   "source": [
    "card = CreditCard(\"123456\",\"Randy Riches\")\n",
    "print(card.name)\n",
    "card.name = \"Charlie Churchmouse\"\n",
    "print(card.name)"
   ]
  },
  {
   "cell_type": "code",
   "execution_count": null,
   "id": "e1140c5f",
   "metadata": {},
   "outputs": [],
   "source": [
    "card = CreditCard(\"123456\",\"Randy Riches\")\n",
    "print(card.__number)"
   ]
  },
  {
   "cell_type": "markdown",
   "id": "523fc919",
   "metadata": {},
   "source": [
    "Menyembunyikan atribut dari client disebut *encapsulation*. Sesuai dengan namanya, atribut tersebut “terbungkus dalam kapsul”. Client kemudian diberikan interface yang sesuai untuk mengakses dan memproses data yang disimpan di dalam object.\n",
    "\n",
    "### Getters dan Setters\n",
    "\n",
    "Jika dicari di internet, kita akan menemukan ada beberapa cara untuk mengakses atribut yang disembunyikan dengan tanda garis bawah ganda `__`. Ini karena tidak ada atribut di Python yang benar-benar private. Ini memang sengaja dibuat seperti itu oleh pembuat Python.\n",
    "\n",
    "Di bahasa pemrograman lain seperti Java, private variable benar-benar tidak bisa diakses dari luar. Jadi, sebaiknya kita perlu memperlakukan private variable di Python dengan cara yang sama dengan menganggap private variable tersebut memang tidak boleh diakses langsung.\n",
    "\n",
    "Dalam Object-Oriented Programming, ada method khusus yang digunakan untuk mengakses dan mengubah nilai dari sebuah attribute. Method ini biasanya disebut getter (untuk mengambil nilai) dan setter (untuk mengubah nilai). Walaupun tidak semua programmer Python memakai istilah \"getter\" dan \"setter\", konsepnya mirip dengan fitur property yang akan dijelaskan nanti. Karena itu, kita akan tetap menggunakan istilah umum dari Object-Oriented Programming.\n",
    "\n",
    "Sebelumnya, kita sudah membuat beberapa method public untuk mengakses attribute private. Tapi sebenarnya, Python punya cara yang lebih sederhana dan lebih sesuai dengan gaya penulisan Python (lebih \"pythonic\") untuk melakukan hal ini. Contohnya:"
   ]
  },
  {
   "cell_type": "code",
   "execution_count": null,
   "id": "16a21bee",
   "metadata": {},
   "outputs": [],
   "source": [
    "class Wallet:\n",
    "    def __init__(self):\n",
    "        self.__money = 0\n",
    "\n",
    "    # A getter method\n",
    "    @property\n",
    "    def money(self):\n",
    "        return self.__money\n",
    "\n",
    "    # A setter method\n",
    "    @money.setter\n",
    "    def money(self, money):\n",
    "        if money >= 0:\n",
    "            self.__money = money\n",
    "        else:\n",
    "            raise ValueError(\"The amount must not be below zero\")\n",
    "\n",
    "wallet = Wallet()\n",
    "print(wallet.money)\n",
    "\n",
    "wallet.money = 50\n",
    "print(wallet.money)\n",
    "\n",
    "wallet.money = -30\n",
    "print(wallet.money)"
   ]
  },
  {
   "cell_type": "markdown",
   "id": "586a8794",
   "metadata": {},
   "source": [
    "Untuk menutup bagian ini, mari kita lihat contoh sebuah class yang menggambarkan diary sederhana. Semua attribute di dalamnya bersifat private, artinya tidak bisa diakses langsung dari luar. Tapi cara mengaksesnya berbeda-beda: informasi tentang pemilik diary bisa diakses dan diubah lewat method getter dan setter, sedangkan isi diary diproses lewat method biasa seperti menambah atau melihat entri. Dalam kasus seperti ini, kita tidak ingin client (kode di luar class) untuk melihat langsung struktur data internal diary. Client hanya boleh berinteraksi lewat method public yang sudah kita disediakan.\n",
    "\n",
    "Konsep encapsulation juga membantu menjaga agar bagian dalam class bisa diubah kapan saja tanpa mengganggu cara penggunaannya dari luar. Misalnya, kita bisa mengganti struktur data internal dari list ke dictionary, atau ke bentuk lain, selama method public-nya tetap sama. Client tidak perlu tahu atau peduli soal perubahan itu, yang penting, interface-nya tetap bekerja seperti biasa."
   ]
  },
  {
   "cell_type": "code",
   "execution_count": null,
   "id": "e4787eb9",
   "metadata": {},
   "outputs": [],
   "source": [
    "class Diary:\n",
    "    def __init__(self, owner: str):\n",
    "        self.__owner = owner\n",
    "        self.__entries = []\n",
    "\n",
    "    @property\n",
    "    def owner(self):\n",
    "        return self.__owner\n",
    "\n",
    "    @owner.setter\n",
    "    def owner(self, owner):\n",
    "        if owner != \"\":\n",
    "            self.__owner = owner\n",
    "        else:\n",
    "            raise ValueError(\"The owner may not be an empty string\")\n",
    "\n",
    "    def add_entry(self, entry: str):\n",
    "        self.__entries.append(entry)\n",
    "\n",
    "    def print_entries(self):\n",
    "        print(\"A total of\", len(self.__entries), \"entries\")\n",
    "        for entry in self.__entries:\n",
    "            print(\"- \" + entry)\n",
    "\n",
    "diary = Diary(\"Peter\")\n",
    "diary.add_entry(\"Today I ate porridge\")\n",
    "diary.add_entry(\"Today I learned object oriented programming\")\n",
    "diary.add_entry(\"Today I went to bed early\")\n",
    "diary.print_entries()"
   ]
  },
  {
   "cell_type": "markdown",
   "id": "3bfeec05",
   "metadata": {},
   "source": [
    "### Latihan\n",
    "\n",
    "Kerjakan latihan di <https://programming-25.mooc.fi/part-9/3-encapsulation>"
   ]
  },
  {
   "cell_type": "markdown",
   "id": "1de9b336",
   "metadata": {},
   "source": [
    "## Scope of Methods"
   ]
  }
 ],
 "metadata": {
  "kernelspec": {
   "display_name": "Python 3",
   "language": "python",
   "name": "python3"
  },
  "language_info": {
   "codemirror_mode": {
    "name": "ipython",
    "version": 3
   },
   "file_extension": ".py",
   "mimetype": "text/x-python",
   "name": "python",
   "nbconvert_exporter": "python",
   "pygments_lexer": "ipython3",
   "version": "3.13.1"
  }
 },
 "nbformat": 4,
 "nbformat_minor": 5
}
