{
 "cells": [
  {
   "cell_type": "markdown",
   "id": "812dd187",
   "metadata": {},
   "source": [
    "# Object-Oriented Programming\n",
    "\n",
    "## Objects dan Methods\n",
    "\n",
    "Dalam programming, sering kali kita mengelompokkan data yang saling terkait dalam program kita. Misalnya, jika kita ingin menyimpan informasi tentang sebuah buku, akan masuk akal untuk menggunakan dictionary untuk mengatur data tersebut ke dalam satu data structure. Contohnya:"
   ]
  },
  {
   "cell_type": "code",
   "execution_count": null,
   "id": "79be79a5",
   "metadata": {},
   "outputs": [],
   "source": [
    "name = \"In Search of Lost Typing\"\n",
    "author = \"Marcel Pythons\"\n",
    "year = 1992\n",
    "\n",
    "# Combine these in a dictionary\n",
    "book = {\"name\": name, \"author\": author, \"year\": year}\n",
    "\n",
    "# Print the name of the book\n",
    "print(book[\"name\"])"
   ]
  },
  {
   "cell_type": "markdown",
   "id": "ad620620",
   "metadata": {},
   "source": [
    "Dalam kode di atas, kita sebenarnya sedang membuat sebuah object baru. Dalam konteks pemrograman, istilah object merujuk pada suatu kesatuan independen yang menyimpan data yang saling berkaitan. Karena bersifat mandiri, setiap object berdiri sendiri, yang berarti perubahan pada satu object tidak akan memengaruhi object lainnya.\n",
    "\n",
    "Misalnya, jika kita membuat dua representasi buku yang identik secara struktur menggunakan dictionary dengan key yang sama, maka perubahan pada salah satu dictionary tidak akan berdampak pada yang lainnya. Masing-masing tetap terpisah dan bebas dari efek samping satu sama lain. Contoh:"
   ]
  },
  {
   "cell_type": "code",
   "execution_count": null,
   "id": "40f46fea",
   "metadata": {},
   "outputs": [],
   "source": [
    "book1 = {\"name\": \"The Old Man and the Pythons\", \"author\": \"Ernest Pythons\", \"year\": 1952}\n",
    "book2 = {\"name\": \"Seven Pythons\", \"author\": \"Aleksis Python\", \"year\": 1894}\n",
    "\n",
    "print(book1[\"name\"])\n",
    "print(book2[\"name\"])\n",
    "\n",
    "book1[\"name\"] = \"A Farewell to ARM Processors\"\n",
    "\n",
    "print(book1[\"name\"])\n",
    "print(book2[\"name\"])"
   ]
  },
  {
   "cell_type": "markdown",
   "id": "67c443f5",
   "metadata": {},
   "source": [
    "### Methods\n",
    "\n",
    "Data yang disimpan dalam sebuah object dapat diakses melalui method. Method adalah fungsi yang bekerja pada object tertentu tempat ia terpasang. Cara membedakan method dari fungsi lainnya adalah melalui cara pemanggilannya: pertama, tuliskan nama object yang dituju, diikuti dengan tanda titik, lalu nama method-nya, beserta argumen jika ada. Contoh:"
   ]
  },
  {
   "cell_type": "code",
   "execution_count": null,
   "id": "98ea4ad5",
   "metadata": {},
   "outputs": [],
   "source": [
    "# this creates an object of type dictionary with the name book\n",
    "book = {\"name\": \"The Old Man and the Pythons\", \"author\": \"Ernest Pythons\", \"year\": 1952}\n",
    "\n",
    "# Print out all the values\n",
    "# The method call values() is written after the name of the variable\n",
    "# Remember the dot notation!\n",
    "for value in book.values():\n",
    "    print(value)"
   ]
  },
  {
   "cell_type": "code",
   "execution_count": null,
   "id": "6684a8a9",
   "metadata": {},
   "outputs": [],
   "source": [
    "name = \"Imaginary Irene\"\n",
    "\n",
    "# Print out the number of times the letter I is found\n",
    "print(name.count(\"I\"))\n",
    "\n",
    "# The number of letters I found in another string\n",
    "print(\"Irreverent Irises in Islington\".count(\"I\"))\n",
    "\n",
    "# The index of the substring Irene\n",
    "print(name.find(\"Irene\"))\n",
    "\n",
    "# This string has no such substring\n",
    "print(\"A completely different string\".find(\"Irene\"))"
   ]
  },
  {
   "cell_type": "code",
   "execution_count": null,
   "id": "2b82b050",
   "metadata": {},
   "outputs": [],
   "source": [
    "my_list = [1,2,3]\n",
    "\n",
    "# Add a couple of items\n",
    "my_list.append(5)\n",
    "my_list.append(1)\n",
    "\n",
    "print(my_list)\n",
    "\n",
    "# Remove the first item\n",
    "my_list.pop(0)\n",
    "\n",
    "print(my_list)"
   ]
  },
  {
   "cell_type": "markdown",
   "id": "f7cb7272",
   "metadata": {},
   "source": [
    "### Latihan\n",
    "\n",
    "Kerjakan latihan di <https://programming-25.mooc.fi/part-8/1-objects-and-methods>"
   ]
  },
  {
   "cell_type": "markdown",
   "id": "fcfddc11",
   "metadata": {},
   "source": [
    "## Classes dan Objects\n",
    "\n"
   ]
  }
 ],
 "metadata": {
  "kernelspec": {
   "display_name": "Python 3",
   "language": "python",
   "name": "python3"
  },
  "language_info": {
   "name": "python",
   "version": "3.13.1"
  }
 },
 "nbformat": 4,
 "nbformat_minor": 5
}
