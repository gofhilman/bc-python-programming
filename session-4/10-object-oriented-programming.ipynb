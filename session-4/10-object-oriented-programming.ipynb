{
 "cells": [
  {
   "cell_type": "markdown",
   "id": "812dd187",
   "metadata": {},
   "source": [
    "# Object-Oriented Programming\n",
    "\n",
    "## Objects dan Methods\n",
    "\n",
    "Dalam programming, sering kali kita mengelompokkan data yang saling terkait dalam program kita. Misalnya, jika kita ingin menyimpan informasi tentang sebuah buku, akan masuk akal untuk menggunakan dictionary untuk mengatur data tersebut ke dalam satu data structure. Contohnya:"
   ]
  },
  {
   "cell_type": "code",
   "execution_count": null,
   "id": "79be79a5",
   "metadata": {},
   "outputs": [],
   "source": [
    "name = \"In Search of Lost Typing\"\n",
    "author = \"Marcel Pythons\"\n",
    "year = 1992\n",
    "\n",
    "# Combine these in a dictionary\n",
    "book = {\"name\": name, \"author\": author, \"year\": year}\n",
    "\n",
    "# Print the name of the book\n",
    "print(book[\"name\"])"
   ]
  },
  {
   "cell_type": "markdown",
   "id": "ad620620",
   "metadata": {},
   "source": [
    "Dalam kode di atas, kita sebenarnya sedang membuat sebuah object baru. Dalam konteks pemrograman, istilah object merujuk pada suatu kesatuan independen yang menyimpan data yang saling berkaitan. Karena bersifat independen, setiap object berdiri sendiri, yang berarti perubahan pada satu object tidak akan memengaruhi object lainnya.\n",
    "\n",
    "Misalnya, jika kita membuat dua representasi buku yang identik secara struktur menggunakan dictionary dengan key yang sama, maka perubahan pada salah satu dictionary tidak akan berdampak pada yang lainnya. Masing-masing tetap terpisah dan bebas dari efek samping satu sama lain. Contoh:"
   ]
  },
  {
   "cell_type": "code",
   "execution_count": null,
   "id": "40f46fea",
   "metadata": {},
   "outputs": [],
   "source": [
    "book1 = {\"name\": \"The Old Man and the Pythons\", \"author\": \"Ernest Pythons\", \"year\": 1952}\n",
    "book2 = {\"name\": \"Seven Pythons\", \"author\": \"Aleksis Python\", \"year\": 1894}\n",
    "\n",
    "print(book1[\"name\"])\n",
    "print(book2[\"name\"])\n",
    "\n",
    "book1[\"name\"] = \"A Farewell to ARM Processors\"\n",
    "\n",
    "print(book1[\"name\"])\n",
    "print(book2[\"name\"])"
   ]
  },
  {
   "cell_type": "markdown",
   "id": "67c443f5",
   "metadata": {},
   "source": [
    "### Methods\n",
    "\n",
    "Data yang disimpan dalam sebuah object dapat diakses melalui method. Method adalah fungsi yang bekerja pada object tertentu tempat ia terpasang. Cara membedakan method dari fungsi lainnya adalah melalui cara pemanggilannya: pertama, tuliskan nama object yang dituju, diikuti dengan tanda titik, lalu nama method-nya, beserta argumen jika ada. Contoh:"
   ]
  },
  {
   "cell_type": "code",
   "execution_count": null,
   "id": "98ea4ad5",
   "metadata": {},
   "outputs": [],
   "source": [
    "# this creates an object of type dictionary with the name book\n",
    "book = {\"name\": \"The Old Man and the Pythons\", \"author\": \"Ernest Pythons\", \"year\": 1952}\n",
    "\n",
    "# Print out all the values\n",
    "# The method call values() is written after the name of the variable\n",
    "# Remember the dot notation!\n",
    "for value in book.values():\n",
    "    print(value)"
   ]
  },
  {
   "cell_type": "code",
   "execution_count": null,
   "id": "6684a8a9",
   "metadata": {},
   "outputs": [],
   "source": [
    "name = \"Imaginary Irene\"\n",
    "\n",
    "# Print out the number of times the letter I is found\n",
    "print(name.count(\"I\"))\n",
    "\n",
    "# The number of letters I found in another string\n",
    "print(\"Irreverent Irises in Islington\".count(\"I\"))\n",
    "\n",
    "# The index of the substring Irene\n",
    "print(name.find(\"Irene\"))\n",
    "\n",
    "# This string has no such substring\n",
    "print(\"A completely different string\".find(\"Irene\"))"
   ]
  },
  {
   "cell_type": "code",
   "execution_count": null,
   "id": "2b82b050",
   "metadata": {},
   "outputs": [],
   "source": [
    "my_list = [1,2,3]\n",
    "\n",
    "# Add a couple of items\n",
    "my_list.append(5)\n",
    "my_list.append(1)\n",
    "\n",
    "print(my_list)\n",
    "\n",
    "# Remove the first item\n",
    "my_list.pop(0)\n",
    "\n",
    "print(my_list)"
   ]
  },
  {
   "cell_type": "markdown",
   "id": "f7cb7272",
   "metadata": {},
   "source": [
    "### Latihan\n",
    "\n",
    "Kerjakan latihan di <https://programming-25.mooc.fi/part-8/1-objects-and-methods>"
   ]
  },
  {
   "cell_type": "markdown",
   "id": "fcfddc11",
   "metadata": {},
   "source": [
    "## Classes dan Objects\n",
    "\n",
    "### Class adalah rancangan dasar untuk membuat object\n",
    "\n",
    "Definisi class berisi struktur dan fungsionalitas dari setiap object yang mewakilinya. Jadi, definisi class dapat menjelaskan jenis data yang dimiliki oleh suatu object, serta menetapkan metode-metode yang dapat digunakan pada object tersebut. Object-oriented programming mengacu pada paradigma pemrograman di mana fungsionalitas program terikat pada penggunaan class dan object yang dibuat berdasarkan class tersebut.\n",
    "\n",
    "Satu definisi class dapat digunakan untuk membuat banyak object. Untuk menyederhanakan hubungan antara class dan object, kita bisa memahaminya seperti ini:\n",
    "- class mendefinisikan variabel-variabel\n",
    "- ketika sebuah object dibuat, variabel-variabel tersebut diberi nilai\n",
    "\n",
    "Contoh:"
   ]
  },
  {
   "cell_type": "code",
   "execution_count": null,
   "id": "3b3aaf59",
   "metadata": {},
   "outputs": [],
   "source": [
    "from fractions import Fraction\n",
    "\n",
    "number = Fraction(2,5)\n",
    "\n",
    "print(number)\n",
    "\n",
    "# Print the numerator\n",
    "print(number.numerator)\n",
    "\n",
    "# ...and the denominator\n",
    "print(number.denominator)"
   ]
  },
  {
   "cell_type": "markdown",
   "id": "6be9b92c",
   "metadata": {},
   "source": [
    "### Metode vs variabel"
   ]
  },
  {
   "cell_type": "code",
   "execution_count": null,
   "id": "fc70eb7a",
   "metadata": {},
   "outputs": [],
   "source": [
    "from datetime import date\n",
    "\n",
    "my_date = date(2020, 12, 24)\n",
    "\n",
    "# calling a method\n",
    "weekday = my_date.isoweekday()\n",
    "\n",
    "# accessing a variable\n",
    "my_month = my_date.month\n",
    "\n",
    "print(\"The day of the week:\", weekday)\n",
    "print(\"The month:\", my_month)"
   ]
  },
  {
   "cell_type": "markdown",
   "id": "9252a8cf",
   "metadata": {},
   "source": [
    "### Latihan\n",
    "\n",
    "Kerjakan latihan di <https://programming-25.mooc.fi/part-8/2-classes-and-objects>"
   ]
  },
  {
   "cell_type": "markdown",
   "id": "a8cf0af7",
   "metadata": {},
   "source": [
    "## Mendefinisikan Class\n",
    "\n",
    "Class didefinisikan dengan keyword `class`. Syntax-nya adalah:\n",
    "```python\n",
    "class NameOfClass:\n",
    "    # class defition goes here\n",
    "```\n",
    "\n",
    "Nama class biasanya ditulis dalam format PascalCase, yang juga dikenal sebagai UpperCamelCase. Artinya, semua kata dalam nama class ditulis tanpa spasi, dan setiap kata dimulai dengan huruf kapital.\n",
    "\n",
    "Mari kita lihat sebuah program di mana dua variabel ditambahkan ke dalam object `BankAccount`: `balance` dan `owner`. Setiap variabel yang terikat pada sebuah object disebut sebagai *attribute*-nya, atau lebih spesifik lagi, *data attribute*, dan kadang disebut juga sebagai *instance variable*. Contoh:"
   ]
  },
  {
   "cell_type": "code",
   "execution_count": null,
   "id": "a23b1f62",
   "metadata": {},
   "outputs": [],
   "source": [
    "class BankAccount:\n",
    "    pass\n",
    "\n",
    "peters_account = BankAccount()\n",
    "peters_account.owner = \"Peter Python\"\n",
    "peters_account.balance = 5.0\n",
    "\n",
    "print(peters_account.owner)\n",
    "print(peters_account.balance)"
   ]
  },
  {
   "cell_type": "markdown",
   "id": "ec4ab468",
   "metadata": {},
   "source": [
    "Data attribute hanya dapat diakses melalui object tempat atribut tersebut terpasang. Setiap object `BankAccount` yang dibuat berdasarkan class `BankAccount` memiliki nilai-nilainya sendiri yang terikat pada data attribute. Nilai-nilai tersebut dapat diakses dengan merujuk pada object yang dimaksud. Contoh:"
   ]
  },
  {
   "cell_type": "code",
   "execution_count": null,
   "id": "69f08cdd",
   "metadata": {},
   "outputs": [],
   "source": [
    "account = BankAccount()\n",
    "account.balance = 155.50\n",
    "\n",
    "print(account.balance) # This refers to the data attribute balance attached to the account\n",
    "print(balance) # THIS CAUSES AN ERROR, as there is no such independent variable available, and the object reference is missing"
   ]
  },
  {
   "cell_type": "markdown",
   "id": "2cf3362a",
   "metadata": {},
   "source": [
    "### Menambahkan constructor\n",
    "\n",
    "Mendeklarasikan attribute di luar constructor menyebabkan situasi di mana instance yang berbeda dari class yang sama dapat memiliki attribute yang berbeda. Contohnya, kode berikut menghasilkan error:"
   ]
  },
  {
   "cell_type": "code",
   "execution_count": null,
   "id": "efc1f73a",
   "metadata": {},
   "outputs": [],
   "source": [
    "class BankAccount:\n",
    "    pass\n",
    "\n",
    "peters_account = BankAccount()\n",
    "peters_account.owner = \"Peter\"\n",
    "peters_account.balance = 1400\n",
    "\n",
    "paulas_account = BankAccount()\n",
    "paulas_account.owner = \"Paula\"\n",
    "\n",
    "print(peters_account.balance)\n",
    "print(paulas_account.balance) # THIS CAUSES AN ERROR"
   ]
  },
  {
   "cell_type": "markdown",
   "id": "02d1fca8",
   "metadata": {},
   "source": [
    "Jadi, daripada mendeklarasikan attribute setelah setiap instance dari class dibuat, biasanya lebih baik untuk menginisialisasi nilai attribute saat class constructor dipanggil. *Constructor method* adalah deklarasi method dengan nama khusus `__init__`, yang biasanya disertakan di bagian paling awal dari definisi class. Contohnya:\n",
    "```python\n",
    "class BankAccount:\n",
    "\n",
    "    # The constructor\n",
    "    def __init__(self, balance: float, owner: str):\n",
    "        self.balance = balance\n",
    "        self.owner = owner\n",
    "```\n",
    "\n",
    "Setelah kita mendefinisikan parameter dari constructor method, kita dapat memberikan nilai awal yang diinginkan untuk data attribute sebagai argumen saat objek baru dibuat:"
   ]
  },
  {
   "cell_type": "code",
   "execution_count": null,
   "id": "c2d16aee",
   "metadata": {},
   "outputs": [],
   "source": [
    "class BankAccount:\n",
    "\n",
    "    # The constructor\n",
    "    def __init__(self, balance: float, owner: str):\n",
    "        self.balance = balance\n",
    "        self.owner = owner\n",
    "\n",
    "# As the method is called, no argument should be given for the self parameter\n",
    "# Python assigns the value for self automatically\n",
    "peters_account = BankAccount(100, \"Peter Python\")\n",
    "paulas_account = BankAccount(20000, \"Paula Pythons\")\n",
    "\n",
    "print(peters_account.balance)\n",
    "print(paulas_account.balance)"
   ]
  },
  {
   "cell_type": "markdown",
   "id": "05d2e600",
   "metadata": {},
   "source": [
    "Kita masih bisa mengubah nilai awal dari data attribute di tahap selanjutnya dalam program. Contoh:"
   ]
  },
  {
   "cell_type": "code",
   "execution_count": null,
   "id": "fadf298c",
   "metadata": {},
   "outputs": [],
   "source": [
    "class BankAccount:\n",
    "\n",
    "    # The constructor\n",
    "    def __init__(self, balance: float, owner: str):\n",
    "        self.balance = balance\n",
    "        self.owner = owner\n",
    "\n",
    "peters_account = BankAccount(100, \"Peter Python\")\n",
    "print(peters_account.balance)\n",
    "\n",
    "# Change the balance to 1500\n",
    "peters_account.balance = 1500\n",
    "print(peters_account.balance)\n",
    "\n",
    "# Add 2000 to the balance\n",
    "peters_account.balance += 2000\n",
    "print(peters_account.balance)"
   ]
  },
  {
   "cell_type": "markdown",
   "id": "a472aafd",
   "metadata": {},
   "source": [
    "### Latihan\n",
    "\n",
    "Kerjakan latihan di <https://programming-25.mooc.fi/part-8/3-defining-classes>"
   ]
  },
  {
   "cell_type": "markdown",
   "id": "fc442b8b",
   "metadata": {},
   "source": [
    "## Mendefinisikan Method\n",
    "\n",
    "Salah satu prinsip utama dalam object-oriented programming adalah object digunakan untuk mengakses data yang terdapat pada objek tersebut serta mengakses metode untuk memproses data tersebut.\n",
    "\n",
    "### Method dalam Class\n",
    "\n",
    "Method adalah subprogram atau fungsi yang terikat pada sebuah class tertentu. Biasanya, sebuah method hanya memengaruhi satu object. Method didefinisikan di dalam definisi class, dan dapat mengakses data attribute dari class tersebut seperti halnya variabel lainnya. Contohnya:"
   ]
  },
  {
   "cell_type": "code",
   "execution_count": null,
   "id": "24362b7d",
   "metadata": {},
   "outputs": [],
   "source": [
    "class BankAccount:\n",
    "\n",
    "    def __init__(self, account_number: str, owner: str, balance: float, annual_interest: float):\n",
    "        self.account_number = account_number\n",
    "        self.owner = owner\n",
    "        self.balance = balance\n",
    "        self.annual_interest = annual_interest\n",
    "\n",
    "    # This method adds the annual interest to the balance of the account\n",
    "    def add_interest(self):\n",
    "        self.balance += self.balance * self.annual_interest\n",
    "\n",
    "\n",
    "peters_account = BankAccount(\"12345-678\", \"Peter Python\", 1500.0, 0.015)\n",
    "peters_account.add_interest()\n",
    "print(peters_account.balance)"
   ]
  },
  {
   "cell_type": "code",
   "execution_count": null,
   "id": "6bb6c9ea",
   "metadata": {},
   "outputs": [],
   "source": [
    "# The class BankAccount is defined in the previous example\n",
    "\n",
    "peters_account = BankAccount(\"12345-678\", \"Peter Python\", 1500.0, 0.015)\n",
    "paulas_account = BankAccount(\"99999-999\", \"Paula Pythonen\", 1500.0, 0.05)\n",
    "pippas_account = BankAccount(\"1111-222\", \"Pippa Programmer\", 1500.0, 0.001)\n",
    "\n",
    "# Add interest on Peter's and Paula's accounts, but not on Pippa's\n",
    "peters_account.add_interest()\n",
    "paulas_account.add_interest()\n",
    "\n",
    "# Print all account balances\n",
    "print(peters_account.balance)\n",
    "print(paulas_account.balance)\n",
    "print(pippas_account.balance)"
   ]
  },
  {
   "cell_type": "markdown",
   "id": "2bddccdf",
   "metadata": {},
   "source": [
    "### Encapsulation\n",
    "\n",
    "Dalam object-oriented programming, istilah *client* sesekali muncul. Istilah ini merujuk pada bagian kode yang membuat sebuah object dan menggunakan fitur yang disediakan oleh methods-nya. Ketika data yang terdapat dalam sebuah object hanya digunakan melalui methods yang disediakan, maka integritas internal dari object tersebut terjamin. Contoh:"
   ]
  },
  {
   "cell_type": "code",
   "execution_count": null,
   "id": "5836506b",
   "metadata": {},
   "outputs": [],
   "source": [
    "class BankAccount:\n",
    "\n",
    "    def __init__(self, account_number: str, owner: str, balance: float, annual_interest: float):\n",
    "        self.account_number = account_number\n",
    "        self.owner = owner\n",
    "        self.balance = balance\n",
    "        self.annual_interest = annual_interest\n",
    "\n",
    "    # This method adds the annual interest to the balance of the account\n",
    "    def add_interest(self):\n",
    "        self.balance += self.balance * self.annual_interest\n",
    "\n",
    "    # This method \"withdraws\" money from the account\n",
    "    # If the withdrawal is successful the method returns True, and False otherwise\n",
    "    def withdraw(self, amount: float):\n",
    "        if amount <= self.balance:\n",
    "            self.balance -= amount\n",
    "            return True\n",
    "\n",
    "        return False\n",
    "\n",
    "peters_account = BankAccount(\"12345-678\", \"Peter Python\", 1500.0, 0.015)\n",
    "\n",
    "if peters_account.withdraw(1000):\n",
    "    print(\"The withdrawal was successful, the balance is now\", peters_account.balance)\n",
    "else:\n",
    "    print(\"The withdrawal was unsuccessful, the balance is insufficient\")\n",
    "\n",
    "# Let's try again\n",
    "if peters_account.withdraw(1000):\n",
    "    print(\"The withdrawal was successful, the balance is now\", peters_account.balance)\n",
    "else:\n",
    "    print(\"The withdrawal was unsuccessful, the balance is insufficient\")"
   ]
  },
  {
   "cell_type": "markdown",
   "id": "687243e8",
   "metadata": {},
   "source": [
    "Menjaga integritas internal dari sebuah object dan menyediakan methods yang sesuai untuk menjamin hal tersebut disebut *encapsulation*. Prinsipnya adalah bahwa mekanisme internal dari object disembunyikan dari client, tetapi object tetap menyediakan methods yang dapat digunakan untuk mengakses data yang disimpan di dalamnya.\n",
    "\n",
    "Menambahkan sebuah method tidak secara otomatis menyembunyikan attribute. Meskipun definisi BankAccount class berisi `withdraw` method untuk menarik uang, kode client tetap dapat mengakses dan mengubah `balance` attribute secara langsung. Contoh:"
   ]
  },
  {
   "cell_type": "code",
   "execution_count": null,
   "id": "5daf8077",
   "metadata": {},
   "outputs": [],
   "source": [
    "peters_account = BankAccount(\"12345-678\", \"Peter Python\", 1500.0, 0.015)\n",
    "\n",
    "# Attempt to withdraw 2000\n",
    "if peters_account.withdraw(2000):\n",
    "    print(\"The withdrawal was successful, the balance is now\", peters_account.balance)\n",
    "else:\n",
    "    print(\"The withdrawal was unsuccessful, the balance is insufficient\")\n",
    "\n",
    "    # \"Force\" the withdrawal of 2000\n",
    "    peters_account.balance -= 2000\n",
    "\n",
    "print(\"The balance is now:\", peters_account.balance)"
   ]
  },
  {
   "cell_type": "markdown",
   "id": "f24bfc13",
   "metadata": {},
   "source": [
    "### Latihan\n",
    "\n",
    "Kerjakan latihan di <https://programming-25.mooc.fi/part-8/4-defining-methods>"
   ]
  },
  {
   "cell_type": "markdown",
   "id": "49d96d06",
   "metadata": {},
   "source": [
    "## Contoh Penggunaan Class\n",
    "\n",
    "### Contoh 1: `Rectangle` class"
   ]
  },
  {
   "cell_type": "code",
   "execution_count": null,
   "id": "09c93649",
   "metadata": {},
   "outputs": [],
   "source": [
    "class Rectangle:\n",
    "    def __init__(self, left_upper: tuple, right_lower: tuple):\n",
    "        self.left_upper = left_upper\n",
    "        self.right_lower = right_lower\n",
    "        self.width = right_lower[0]-left_upper[0]\n",
    "        self.height = right_lower[1]-left_upper[1]\n",
    "\n",
    "    def area(self):\n",
    "        return self.width * self.height\n",
    "\n",
    "    def perimeter(self):\n",
    "        return self.width * 2 + self.height * 2\n",
    "\n",
    "    def move(self, x_change: int, y_change: int):\n",
    "        corner = self.left_upper\n",
    "        self.left_upper = (corner[0]+x_change, corner[1]+y_change)\n",
    "        corner = self.right_lower\n",
    "        self.right_lower = (corner[0]+x_change, corner[1]+y_change)\n",
    "\n",
    "rectangle = Rectangle((1, 1), (4, 3))\n",
    "print(rectangle.left_upper)\n",
    "print(rectangle.right_lower)\n",
    "print(rectangle.width)\n",
    "print(rectangle.height)\n",
    "print(rectangle.perimeter())\n",
    "print(rectangle.area())\n",
    "\n",
    "rectangle.move(3, 3)\n",
    "print(rectangle.left_upper)\n",
    "print(rectangle.right_lower)"
   ]
  },
  {
   "cell_type": "markdown",
   "id": "f1388029",
   "metadata": {},
   "source": [
    "### Printing an Object"
   ]
  },
  {
   "cell_type": "code",
   "execution_count": null,
   "id": "3f68aa80",
   "metadata": {},
   "outputs": [],
   "source": [
    "rectangle = Rectangle((1, 1), (4, 3))\n",
    "print(rectangle)"
   ]
  },
  {
   "cell_type": "markdown",
   "id": "73501644",
   "metadata": {},
   "source": [
    "Tentu saja kita menginginkan hasil print yang lebih jelas. Cara termudah untuk melakukannya adalah dengan menambahkan `__str__` method khusus ke dalam definisi class. Tujuannya adalah untuk mengembalikan gambaran keadaan dari object dalam format string. Jika definisi class berisi `__str__` method, maka nilai yang dikembalikan oleh method tersebutlah yang akan di-print ketika perintah `print` dijalankan. Contoh:"
   ]
  },
  {
   "cell_type": "code",
   "execution_count": null,
   "id": "a8241c10",
   "metadata": {},
   "outputs": [],
   "source": [
    "class Rectangle:\n",
    "    def __init__(self, left_upper: tuple, right_lower: tuple):\n",
    "        self.left_upper = left_upper\n",
    "        self.right_lower = right_lower\n",
    "        self.width = right_lower[0]-left_upper[0]\n",
    "        self.height = right_lower[1]-left_upper[1]\n",
    "\n",
    "    def area(self):\n",
    "        return self.width * self.height\n",
    "\n",
    "    def perimeter(self):\n",
    "        return self.width * 2 + self.height * 2\n",
    "\n",
    "    def move(self, x_change: int, y_change: int):\n",
    "        corner = self.left_upper\n",
    "        self.left_upper = (corner[0]+x_change, corner[1]+y_change)\n",
    "        corner = self.right_lower\n",
    "        self.right_lower = (corner[0]+x_change, corner[1]+y_change)\n",
    "\n",
    "    # This method returns the state of the object in string format\n",
    "    def __str__(self):\n",
    "        return f\"rectangle {self.left_upper} ... {self.right_lower}\"\n",
    "\n",
    "rectangle = Rectangle((1, 1), (4, 3))\n",
    "print(rectangle)"
   ]
  },
  {
   "cell_type": "markdown",
   "id": "81562e24",
   "metadata": {},
   "source": [
    "### Contoh 2: Task list"
   ]
  },
  {
   "cell_type": "code",
   "execution_count": null,
   "id": "9c9b1a43",
   "metadata": {},
   "outputs": [],
   "source": [
    "class TaskList:\n",
    "    def __init__(self):\n",
    "        self.tasks = []\n",
    "\n",
    "    def add_task(self, name: str, priority: int):\n",
    "        self.tasks.append((priority, name))\n",
    "\n",
    "    def get_next(self):\n",
    "        self.tasks.sort()\n",
    "        # The list method pop removes and returns the last item in a list\n",
    "        task = self.tasks.pop()\n",
    "        # Return the name of the task (the second item in the tuple)\n",
    "        return task[1]\n",
    "\n",
    "    def number_of_tasks(self):\n",
    "        return len(self.tasks)\n",
    "\n",
    "    def clear_tasks(self):\n",
    "        self.tasks = []\n",
    "\n",
    "tasks = TaskList()\n",
    "tasks.add_task(\"studying\", 50)\n",
    "tasks.add_task(\"exercise\", 60)\n",
    "tasks.add_task(\"cleaning\", 10)\n",
    "print(tasks.number_of_tasks())\n",
    "print(tasks.get_next())\n",
    "print(tasks.number_of_tasks())\n",
    "tasks.add_task(\"date\", 100)\n",
    "print(tasks.number_of_tasks())\n",
    "print(tasks.get_next())\n",
    "print(tasks.get_next())\n",
    "print(tasks.number_of_tasks())\n",
    "tasks.clear_tasks()\n",
    "print(tasks.number_of_tasks())"
   ]
  }
 ],
 "metadata": {
  "kernelspec": {
   "display_name": "Python 3",
   "language": "python",
   "name": "python3"
  },
  "language_info": {
   "codemirror_mode": {
    "name": "ipython",
    "version": 3
   },
   "file_extension": ".py",
   "mimetype": "text/x-python",
   "name": "python",
   "nbconvert_exporter": "python",
   "pygments_lexer": "ipython3",
   "version": "3.13.1"
  }
 },
 "nbformat": 4,
 "nbformat_minor": 5
}
