{
 "cells": [
  {
   "cell_type": "markdown",
   "id": "812dd187",
   "metadata": {},
   "source": [
    "# Object-Oriented Programming\n",
    "\n",
    "## Objects dan Methods\n",
    "\n",
    "Dalam programming, sering kali kita mengelompokkan data yang saling terkait dalam program kita. Misalnya, jika kita ingin menyimpan informasi tentang sebuah buku, akan masuk akal untuk menggunakan dictionary untuk mengatur data tersebut ke dalam satu data structure. Contohnya:"
   ]
  },
  {
   "cell_type": "code",
   "execution_count": null,
   "id": "79be79a5",
   "metadata": {},
   "outputs": [],
   "source": [
    "name = \"In Search of Lost Typing\"\n",
    "author = \"Marcel Pythons\"\n",
    "year = 1992\n",
    "\n",
    "# Combine these in a dictionary\n",
    "book = {\"name\": name, \"author\": author, \"year\": year}\n",
    "\n",
    "# Print the name of the book\n",
    "print(book[\"name\"])"
   ]
  },
  {
   "cell_type": "markdown",
   "id": "ad620620",
   "metadata": {},
   "source": [
    "Dalam kode di atas, kita sebenarnya sedang membuat sebuah object baru. Dalam konteks pemrograman, istilah object merujuk pada suatu kesatuan independen yang menyimpan data yang saling berkaitan. Karena bersifat mandiri, setiap object berdiri sendiri, yang berarti perubahan pada satu object tidak akan memengaruhi object lainnya.\n",
    "\n",
    "Misalnya, jika kita membuat dua representasi buku yang identik secara struktur menggunakan dictionary dengan key yang sama, maka perubahan pada salah satu dictionary tidak akan berdampak pada yang lainnya. Masing-masing tetap terpisah dan bebas dari efek samping satu sama lain. Contoh:"
   ]
  },
  {
   "cell_type": "code",
   "execution_count": null,
   "id": "40f46fea",
   "metadata": {},
   "outputs": [],
   "source": [
    "book1 = {\"name\": \"The Old Man and the Pythons\", \"author\": \"Ernest Pythons\", \"year\": 1952}\n",
    "book2 = {\"name\": \"Seven Pythons\", \"author\": \"Aleksis Python\", \"year\": 1894}\n",
    "\n",
    "print(book1[\"name\"])\n",
    "print(book2[\"name\"])\n",
    "\n",
    "book1[\"name\"] = \"A Farewell to ARM Processors\"\n",
    "\n",
    "print(book1[\"name\"])\n",
    "print(book2[\"name\"])"
   ]
  },
  {
   "cell_type": "markdown",
   "id": "67c443f5",
   "metadata": {},
   "source": [
    "### Methods\n",
    "\n",
    "Data yang disimpan dalam sebuah object dapat diakses melalui method. Method adalah fungsi yang bekerja pada object tertentu tempat ia terpasang. Cara membedakan method dari fungsi lainnya adalah melalui cara pemanggilannya: pertama, tuliskan nama object yang dituju, diikuti dengan tanda titik, lalu nama method-nya, beserta argumen jika ada. Contoh:"
   ]
  },
  {
   "cell_type": "code",
   "execution_count": null,
   "id": "98ea4ad5",
   "metadata": {},
   "outputs": [],
   "source": [
    "# this creates an object of type dictionary with the name book\n",
    "book = {\"name\": \"The Old Man and the Pythons\", \"author\": \"Ernest Pythons\", \"year\": 1952}\n",
    "\n",
    "# Print out all the values\n",
    "# The method call values() is written after the name of the variable\n",
    "# Remember the dot notation!\n",
    "for value in book.values():\n",
    "    print(value)"
   ]
  },
  {
   "cell_type": "code",
   "execution_count": null,
   "id": "6684a8a9",
   "metadata": {},
   "outputs": [],
   "source": [
    "name = \"Imaginary Irene\"\n",
    "\n",
    "# Print out the number of times the letter I is found\n",
    "print(name.count(\"I\"))\n",
    "\n",
    "# The number of letters I found in another string\n",
    "print(\"Irreverent Irises in Islington\".count(\"I\"))\n",
    "\n",
    "# The index of the substring Irene\n",
    "print(name.find(\"Irene\"))\n",
    "\n",
    "# This string has no such substring\n",
    "print(\"A completely different string\".find(\"Irene\"))"
   ]
  },
  {
   "cell_type": "code",
   "execution_count": null,
   "id": "2b82b050",
   "metadata": {},
   "outputs": [],
   "source": [
    "my_list = [1,2,3]\n",
    "\n",
    "# Add a couple of items\n",
    "my_list.append(5)\n",
    "my_list.append(1)\n",
    "\n",
    "print(my_list)\n",
    "\n",
    "# Remove the first item\n",
    "my_list.pop(0)\n",
    "\n",
    "print(my_list)"
   ]
  },
  {
   "cell_type": "markdown",
   "id": "f7cb7272",
   "metadata": {},
   "source": [
    "### Latihan\n",
    "\n",
    "Kerjakan latihan di <https://programming-25.mooc.fi/part-8/1-objects-and-methods>"
   ]
  },
  {
   "cell_type": "markdown",
   "id": "fcfddc11",
   "metadata": {},
   "source": [
    "## Classes dan Objects\n",
    "\n",
    "### Class adalah rancangan dasar untuk membuat object\n",
    "\n",
    "Definisi class berisi struktur dan fungsionalitas dari setiap object yang mewakilinya. Jadi, definisi class dapat menjelaskan jenis data yang dimiliki oleh suatu object, serta menetapkan metode-metode yang dapat digunakan pada object tersebut. Object-oriented programming mengacu pada paradigma pemrograman di mana fungsionalitas program terikat pada penggunaan class dan object yang dibuat berdasarkan class tersebut.\n",
    "\n",
    "Satu definisi class dapat digunakan untuk membuat banyak object. Untuk menyederhanakan hubungan antara class dan object, kita bisa memahaminya seperti ini:\n",
    "- class mendefinisikan variabel-variabel\n",
    "- ketika sebuah object dibuat, variabel-variabel tersebut diberi nilai\n",
    "\n",
    "Contoh:"
   ]
  },
  {
   "cell_type": "code",
   "execution_count": null,
   "id": "3b3aaf59",
   "metadata": {},
   "outputs": [],
   "source": [
    "from fractions import Fraction\n",
    "\n",
    "number = Fraction(2,5)\n",
    "\n",
    "print(number)\n",
    "\n",
    "# Print the numerator\n",
    "print(number.numerator)\n",
    "\n",
    "# ...and the denominator\n",
    "print(number.denominator)"
   ]
  },
  {
   "cell_type": "markdown",
   "id": "6be9b92c",
   "metadata": {},
   "source": [
    "### Metode vs variabel"
   ]
  },
  {
   "cell_type": "code",
   "execution_count": null,
   "id": "fc70eb7a",
   "metadata": {},
   "outputs": [],
   "source": [
    "from datetime import date\n",
    "\n",
    "my_date = date(2020, 12, 24)\n",
    "\n",
    "# calling a method\n",
    "weekday = my_date.isoweekday()\n",
    "\n",
    "# accessing a variable\n",
    "my_month = my_date.month\n",
    "\n",
    "print(\"The day of the week:\", weekday)\n",
    "print(\"The month:\", my_month)"
   ]
  },
  {
   "cell_type": "markdown",
   "id": "9252a8cf",
   "metadata": {},
   "source": [
    "### Latihan\n",
    "\n",
    "Kerjakan latihan di <https://programming-25.mooc.fi/part-8/2-classes-and-objects>"
   ]
  },
  {
   "cell_type": "markdown",
   "id": "a8cf0af7",
   "metadata": {},
   "source": [
    "## Mendefinisikan Class\n",
    "\n",
    "Class didefinisikan dengan keyword `class`. Syntax-nya adalah:\n",
    "```python\n",
    "class NameOfClass:\n",
    "    # class defition goes here\n",
    "```\n",
    "\n",
    "Nama class biasanya ditulis dalam format PascalCase, yang juga dikenal sebagai UpperCamelCase. Artinya, semua kata dalam nama class ditulis tanpa spasi, dan setiap kata dimulai dengan huruf kapital.\n",
    "\n",
    "Mari kita lihat sebuah program di mana dua variabel ditambahkan ke dalam object BankAccount: balance dan owner. Setiap variabel yang terikat pada sebuah object disebut sebagai attribute-nya, atau lebih spesifik lagi, data attribute, dan kadang disebut juga sebagai instance variable. Contoh:"
   ]
  },
  {
   "cell_type": "code",
   "execution_count": null,
   "id": "a23b1f62",
   "metadata": {},
   "outputs": [],
   "source": [
    "class BankAccount:\n",
    "    pass\n",
    "\n",
    "peters_account = BankAccount()\n",
    "peters_account.owner = \"Peter Python\"\n",
    "peters_account.balance = 5.0\n",
    "\n",
    "print(peters_account.owner)\n",
    "print(peters_account.balance)"
   ]
  },
  {
   "cell_type": "markdown",
   "id": "ec4ab468",
   "metadata": {},
   "source": [
    "Data attribute hanya dapat diakses melalui object tempat atribut tersebut terpasang. Setiap object BankAccount yang dibuat berdasarkan class BankAccount memiliki nilai-nilainya sendiri yang terikat pada data attribute. Nilai-nilai tersebut dapat diakses dengan merujuk pada object yang dimaksud. Contoh:"
   ]
  },
  {
   "cell_type": "code",
   "execution_count": null,
   "id": "69f08cdd",
   "metadata": {},
   "outputs": [],
   "source": [
    "account = BankAccount()\n",
    "account.balance = 155.50\n",
    "\n",
    "print(account.balance) # This refers to the data attribute balance attached to the account\n",
    "print(balance) # THIS CAUSES AN ERROR, as there is no such independent variable available, and the object reference is missing"
   ]
  }
 ],
 "metadata": {
  "kernelspec": {
   "display_name": "Python 3",
   "language": "python",
   "name": "python3"
  },
  "language_info": {
   "codemirror_mode": {
    "name": "ipython",
    "version": 3
   },
   "file_extension": ".py",
   "mimetype": "text/x-python",
   "name": "python",
   "nbconvert_exporter": "python",
   "pygments_lexer": "ipython3",
   "version": "3.13.1"
  }
 },
 "nbformat": 4,
 "nbformat_minor": 5
}
