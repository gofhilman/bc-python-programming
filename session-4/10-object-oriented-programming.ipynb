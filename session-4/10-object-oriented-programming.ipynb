{
 "cells": [
  {
   "cell_type": "markdown",
   "id": "812dd187",
   "metadata": {},
   "source": [
    "# Object-Oriented Programming\n",
    "\n",
    "## Objects dan Methods\n",
    "\n",
    "Dalam programming, sering kali kita mengelompokkan data yang saling terkait dalam program kita. Misalnya, jika kita ingin menyimpan informasi tentang sebuah buku, akan masuk akal untuk menggunakan dictionary untuk mengatur data tersebut ke dalam satu data structure. Contohnya:"
   ]
  },
  {
   "cell_type": "code",
   "execution_count": null,
   "id": "79be79a5",
   "metadata": {},
   "outputs": [],
   "source": [
    "name = \"In Search of Lost Typing\"\n",
    "author = \"Marcel Pythons\"\n",
    "year = 1992\n",
    "\n",
    "# Combine these in a dictionary\n",
    "book = {\"name\": name, \"author\": author, \"year\": year}\n",
    "\n",
    "# Print the name of the book\n",
    "print(book[\"name\"])"
   ]
  },
  {
   "cell_type": "markdown",
   "id": "ad620620",
   "metadata": {},
   "source": [
    "Dalam kode di atas, kita sebenarnya sedang membuat sebuah object baru. Dalam konteks pemrograman, istilah object merujuk pada suatu kesatuan independen yang menyimpan data yang saling berkaitan. Karena bersifat independen, setiap object berdiri sendiri, yang berarti perubahan pada satu object tidak akan memengaruhi object lainnya.\n",
    "\n",
    "Misalnya, jika kita membuat dua representasi buku yang identik secara struktur menggunakan dictionary dengan key yang sama, maka perubahan pada salah satu dictionary tidak akan berdampak pada yang lainnya. Masing-masing tetap terpisah dan bebas dari efek samping satu sama lain. Contoh:"
   ]
  },
  {
   "cell_type": "code",
   "execution_count": null,
   "id": "40f46fea",
   "metadata": {},
   "outputs": [],
   "source": [
    "book1 = {\"name\": \"The Old Man and the Pythons\", \"author\": \"Ernest Pythons\", \"year\": 1952}\n",
    "book2 = {\"name\": \"Seven Pythons\", \"author\": \"Aleksis Python\", \"year\": 1894}\n",
    "\n",
    "print(book1[\"name\"])\n",
    "print(book2[\"name\"])\n",
    "\n",
    "book1[\"name\"] = \"A Farewell to ARM Processors\"\n",
    "\n",
    "print(book1[\"name\"])\n",
    "print(book2[\"name\"])"
   ]
  },
  {
   "cell_type": "markdown",
   "id": "67c443f5",
   "metadata": {},
   "source": [
    "### Methods\n",
    "\n",
    "Data yang disimpan dalam sebuah object dapat diakses melalui method. Method adalah fungsi yang bekerja pada object tertentu tempat ia terpasang. Cara membedakan method dari fungsi lainnya adalah melalui cara pemanggilannya: pertama, tuliskan nama object yang dituju, diikuti dengan tanda titik, lalu nama method-nya, beserta argumen jika ada. Contoh:"
   ]
  },
  {
   "cell_type": "code",
   "execution_count": null,
   "id": "98ea4ad5",
   "metadata": {},
   "outputs": [],
   "source": [
    "# this creates an object of type dictionary with the name book\n",
    "book = {\"name\": \"The Old Man and the Pythons\", \"author\": \"Ernest Pythons\", \"year\": 1952}\n",
    "\n",
    "# Print out all the values\n",
    "# The method call values() is written after the name of the variable\n",
    "# Remember the dot notation!\n",
    "for value in book.values():\n",
    "    print(value)"
   ]
  },
  {
   "cell_type": "code",
   "execution_count": null,
   "id": "6684a8a9",
   "metadata": {},
   "outputs": [],
   "source": [
    "name = \"Imaginary Irene\"\n",
    "\n",
    "# Print out the number of times the letter I is found\n",
    "print(name.count(\"I\"))\n",
    "\n",
    "# The number of letters I found in another string\n",
    "print(\"Irreverent Irises in Islington\".count(\"I\"))\n",
    "\n",
    "# The index of the substring Irene\n",
    "print(name.find(\"Irene\"))\n",
    "\n",
    "# This string has no such substring\n",
    "print(\"A completely different string\".find(\"Irene\"))"
   ]
  },
  {
   "cell_type": "code",
   "execution_count": null,
   "id": "2b82b050",
   "metadata": {},
   "outputs": [],
   "source": [
    "my_list = [1,2,3]\n",
    "\n",
    "# Add a couple of items\n",
    "my_list.append(5)\n",
    "my_list.append(1)\n",
    "\n",
    "print(my_list)\n",
    "\n",
    "# Remove the first item\n",
    "my_list.pop(0)\n",
    "\n",
    "print(my_list)"
   ]
  },
  {
   "cell_type": "markdown",
   "id": "f7cb7272",
   "metadata": {},
   "source": [
    "### Latihan\n",
    "\n",
    "Kerjakan latihan di <https://programming-25.mooc.fi/part-8/1-objects-and-methods>"
   ]
  },
  {
   "cell_type": "markdown",
   "id": "fcfddc11",
   "metadata": {},
   "source": [
    "## Classes dan Objects\n",
    "\n",
    "### Class adalah rancangan dasar untuk membuat object\n",
    "\n",
    "Definisi class berisi struktur dan fungsionalitas dari setiap object yang mewakilinya. Jadi, definisi class dapat menjelaskan jenis data yang dimiliki oleh suatu object, serta menetapkan metode-metode yang dapat digunakan pada object tersebut. Object-oriented programming mengacu pada paradigma pemrograman di mana fungsionalitas program terikat pada penggunaan class dan object yang dibuat berdasarkan class tersebut.\n",
    "\n",
    "Satu definisi class dapat digunakan untuk membuat banyak object. Untuk menyederhanakan hubungan antara class dan object, kita bisa memahaminya seperti ini:\n",
    "- class mendefinisikan variabel-variabel\n",
    "- ketika sebuah object dibuat, variabel-variabel tersebut diberi nilai\n",
    "\n",
    "Contoh:"
   ]
  },
  {
   "cell_type": "code",
   "execution_count": null,
   "id": "3b3aaf59",
   "metadata": {},
   "outputs": [],
   "source": [
    "from fractions import Fraction\n",
    "\n",
    "number = Fraction(2,5)\n",
    "\n",
    "print(number)\n",
    "\n",
    "# Print the numerator\n",
    "print(number.numerator)\n",
    "\n",
    "# ...and the denominator\n",
    "print(number.denominator)"
   ]
  },
  {
   "cell_type": "markdown",
   "id": "6be9b92c",
   "metadata": {},
   "source": [
    "### Metode vs variabel"
   ]
  },
  {
   "cell_type": "code",
   "execution_count": null,
   "id": "fc70eb7a",
   "metadata": {},
   "outputs": [],
   "source": [
    "from datetime import date\n",
    "\n",
    "my_date = date(2020, 12, 24)\n",
    "\n",
    "# calling a method\n",
    "weekday = my_date.isoweekday()\n",
    "\n",
    "# accessing a variable\n",
    "my_month = my_date.month\n",
    "\n",
    "print(\"The day of the week:\", weekday)\n",
    "print(\"The month:\", my_month)"
   ]
  },
  {
   "cell_type": "markdown",
   "id": "9252a8cf",
   "metadata": {},
   "source": [
    "### Latihan\n",
    "\n",
    "Kerjakan latihan di <https://programming-25.mooc.fi/part-8/2-classes-and-objects>"
   ]
  },
  {
   "cell_type": "markdown",
   "id": "a8cf0af7",
   "metadata": {},
   "source": [
    "## Mendefinisikan Class\n",
    "\n",
    "Class didefinisikan dengan keyword `class`. Syntax-nya adalah:\n",
    "```python\n",
    "class NameOfClass:\n",
    "    # class defition goes here\n",
    "```\n",
    "\n",
    "Nama class biasanya ditulis dalam format PascalCase, yang juga dikenal sebagai UpperCamelCase. Artinya, semua kata dalam nama class ditulis tanpa spasi, dan setiap kata dimulai dengan huruf kapital.\n",
    "\n",
    "Mari kita lihat sebuah program di mana dua variabel ditambahkan ke dalam object `BankAccount`: `balance` dan `owner`. Setiap variabel yang terikat pada sebuah object disebut sebagai *attribute*-nya, atau lebih spesifik lagi, *data attribute*, dan kadang disebut juga sebagai *instance variable*. Contoh:"
   ]
  },
  {
   "cell_type": "code",
   "execution_count": null,
   "id": "a23b1f62",
   "metadata": {},
   "outputs": [],
   "source": [
    "class BankAccount:\n",
    "    pass\n",
    "\n",
    "peters_account = BankAccount()\n",
    "peters_account.owner = \"Peter Python\"\n",
    "peters_account.balance = 5.0\n",
    "\n",
    "print(peters_account.owner)\n",
    "print(peters_account.balance)"
   ]
  },
  {
   "cell_type": "markdown",
   "id": "ec4ab468",
   "metadata": {},
   "source": [
    "Data attribute hanya dapat diakses melalui object tempat atribut tersebut terpasang. Setiap object `BankAccount` yang dibuat berdasarkan class `BankAccount` memiliki nilai-nilainya sendiri yang terikat pada data attribute. Nilai-nilai tersebut dapat diakses dengan merujuk pada object yang dimaksud. Contoh:"
   ]
  },
  {
   "cell_type": "code",
   "execution_count": null,
   "id": "69f08cdd",
   "metadata": {},
   "outputs": [],
   "source": [
    "account = BankAccount()\n",
    "account.balance = 155.50\n",
    "\n",
    "print(account.balance) # This refers to the data attribute balance attached to the account\n",
    "print(balance) # THIS CAUSES AN ERROR, as there is no such independent variable available, and the object reference is missing"
   ]
  },
  {
   "cell_type": "markdown",
   "id": "2cf3362a",
   "metadata": {},
   "source": [
    "### Menambahkan constructor\n",
    "\n",
    "Mendeklarasikan attribute di luar constructor menyebabkan situasi di mana instance yang berbeda dari class yang sama dapat memiliki attribute yang berbeda. Contohnya, kode berikut menghasilkan error:"
   ]
  },
  {
   "cell_type": "code",
   "execution_count": null,
   "id": "efc1f73a",
   "metadata": {},
   "outputs": [],
   "source": [
    "class BankAccount:\n",
    "    pass\n",
    "\n",
    "peters_account = BankAccount()\n",
    "peters_account.owner = \"Peter\"\n",
    "peters_account.balance = 1400\n",
    "\n",
    "paulas_account = BankAccount()\n",
    "paulas_account.owner = \"Paula\"\n",
    "\n",
    "print(peters_account.balance)\n",
    "print(paulas_account.balance) # THIS CAUSES AN ERROR"
   ]
  },
  {
   "cell_type": "markdown",
   "id": "02d1fca8",
   "metadata": {},
   "source": [
    "Jadi, daripada mendeklarasikan attribute setelah setiap instance dari class dibuat, biasanya lebih baik untuk menginisialisasi nilai attribute saat class constructor dipanggil. *Constructor method* adalah deklarasi method dengan nama khusus `__init__`, yang biasanya disertakan di bagian paling awal dari definisi class. Contohnya:\n",
    "```python\n",
    "class BankAccount:\n",
    "\n",
    "    # The constructor\n",
    "    def __init__(self, balance: float, owner: str):\n",
    "        self.balance = balance\n",
    "        self.owner = owner\n",
    "```\n",
    "\n",
    "Setelah kita mendefinisikan parameter dari constructor method, kita dapat memberikan nilai awal yang diinginkan untuk data attribute sebagai argumen saat objek baru dibuat:"
   ]
  },
  {
   "cell_type": "code",
   "execution_count": null,
   "id": "c2d16aee",
   "metadata": {},
   "outputs": [],
   "source": [
    "class BankAccount:\n",
    "\n",
    "    # The constructor\n",
    "    def __init__(self, balance: float, owner: str):\n",
    "        self.balance = balance\n",
    "        self.owner = owner\n",
    "\n",
    "# As the method is called, no argument should be given for the self parameter\n",
    "# Python assigns the value for self automatically\n",
    "peters_account = BankAccount(100, \"Peter Python\")\n",
    "paulas_account = BankAccount(20000, \"Paula Pythons\")\n",
    "\n",
    "print(peters_account.balance)\n",
    "print(paulas_account.balance)"
   ]
  },
  {
   "cell_type": "markdown",
   "id": "05d2e600",
   "metadata": {},
   "source": [
    "Kita masih bisa mengubah nilai awal dari data attribute di tahap selanjutnya dalam program. Contoh:"
   ]
  },
  {
   "cell_type": "code",
   "execution_count": null,
   "id": "fadf298c",
   "metadata": {},
   "outputs": [],
   "source": [
    "class BankAccount:\n",
    "\n",
    "    # The constructor\n",
    "    def __init__(self, balance: float, owner: str):\n",
    "        self.balance = balance\n",
    "        self.owner = owner\n",
    "\n",
    "peters_account = BankAccount(100, \"Peter Python\")\n",
    "print(peters_account.balance)\n",
    "\n",
    "# Change the balance to 1500\n",
    "peters_account.balance = 1500\n",
    "print(peters_account.balance)\n",
    "\n",
    "# Add 2000 to the balance\n",
    "peters_account.balance += 2000\n",
    "print(peters_account.balance)"
   ]
  },
  {
   "cell_type": "markdown",
   "id": "a472aafd",
   "metadata": {},
   "source": [
    "### Latihan\n",
    "\n",
    "Kerjakan latihan di <https://programming-25.mooc.fi/part-8/3-defining-classes>"
   ]
  },
  {
   "cell_type": "markdown",
   "id": "fc442b8b",
   "metadata": {},
   "source": [
    "## Mendefinisikan Method\n",
    "\n",
    "Salah satu prinsip utama dalam object-oriented programming adalah object digunakan untuk mengakses data yang terdapat pada objek tersebut serta mengakses metode untuk memproses data tersebut.\n",
    "\n",
    "### Method dalam Class\n",
    "\n",
    "Method adalah subprogram atau fungsi yang terikat pada sebuah class tertentu. Biasanya, sebuah method hanya memengaruhi satu object. Method didefinisikan di dalam definisi class, dan dapat mengakses data attribute dari class tersebut seperti halnya variabel lainnya. Contohnya:"
   ]
  },
  {
   "cell_type": "code",
   "execution_count": null,
   "id": "24362b7d",
   "metadata": {},
   "outputs": [],
   "source": [
    "class BankAccount:\n",
    "\n",
    "    def __init__(self, account_number: str, owner: str, balance: float, annual_interest: float):\n",
    "        self.account_number = account_number\n",
    "        self.owner = owner\n",
    "        self.balance = balance\n",
    "        self.annual_interest = annual_interest\n",
    "\n",
    "    # This method adds the annual interest to the balance of the account\n",
    "    def add_interest(self):\n",
    "        self.balance += self.balance * self.annual_interest\n",
    "\n",
    "\n",
    "peters_account = BankAccount(\"12345-678\", \"Peter Python\", 1500.0, 0.015)\n",
    "peters_account.add_interest()\n",
    "print(peters_account.balance)"
   ]
  },
  {
   "cell_type": "code",
   "execution_count": null,
   "id": "6bb6c9ea",
   "metadata": {},
   "outputs": [],
   "source": [
    "# The class BankAccount is defined in the previous example\n",
    "\n",
    "peters_account = BankAccount(\"12345-678\", \"Peter Python\", 1500.0, 0.015)\n",
    "paulas_account = BankAccount(\"99999-999\", \"Paula Pythonen\", 1500.0, 0.05)\n",
    "pippas_account = BankAccount(\"1111-222\", \"Pippa Programmer\", 1500.0, 0.001)\n",
    "\n",
    "# Add interest on Peter's and Paula's accounts, but not on Pippa's\n",
    "peters_account.add_interest()\n",
    "paulas_account.add_interest()\n",
    "\n",
    "# Print all account balances\n",
    "print(peters_account.balance)\n",
    "print(paulas_account.balance)\n",
    "print(pippas_account.balance)"
   ]
  },
  {
   "cell_type": "markdown",
   "id": "2bddccdf",
   "metadata": {},
   "source": [
    "### Encapsulation\n",
    "\n",
    "Dalam object-oriented programming, istilah *client* sesekali muncul. Istilah ini merujuk pada bagian kode yang membuat sebuah object dan menggunakan fitur yang disediakan oleh methods-nya. Ketika data yang terdapat dalam sebuah object hanya digunakan melalui methods yang disediakan, maka integritas internal dari object tersebut terjamin. Contoh:"
   ]
  },
  {
   "cell_type": "code",
   "execution_count": null,
   "id": "5836506b",
   "metadata": {},
   "outputs": [],
   "source": [
    "class BankAccount:\n",
    "\n",
    "    def __init__(self, account_number: str, owner: str, balance: float, annual_interest: float):\n",
    "        self.account_number = account_number\n",
    "        self.owner = owner\n",
    "        self.balance = balance\n",
    "        self.annual_interest = annual_interest\n",
    "\n",
    "    # This method adds the annual interest to the balance of the account\n",
    "    def add_interest(self):\n",
    "        self.balance += self.balance * self.annual_interest\n",
    "\n",
    "    # This method \"withdraws\" money from the account\n",
    "    # If the withdrawal is successful the method returns True, and False otherwise\n",
    "    def withdraw(self, amount: float):\n",
    "        if amount <= self.balance:\n",
    "            self.balance -= amount\n",
    "            return True\n",
    "\n",
    "        return False\n",
    "\n",
    "peters_account = BankAccount(\"12345-678\", \"Peter Python\", 1500.0, 0.015)\n",
    "\n",
    "if peters_account.withdraw(1000):\n",
    "    print(\"The withdrawal was successful, the balance is now\", peters_account.balance)\n",
    "else:\n",
    "    print(\"The withdrawal was unsuccessful, the balance is insufficient\")\n",
    "\n",
    "# Let's try again\n",
    "if peters_account.withdraw(1000):\n",
    "    print(\"The withdrawal was successful, the balance is now\", peters_account.balance)\n",
    "else:\n",
    "    print(\"The withdrawal was unsuccessful, the balance is insufficient\")"
   ]
  },
  {
   "cell_type": "markdown",
   "id": "687243e8",
   "metadata": {},
   "source": [
    "Menjaga integritas internal dari sebuah object dan menyediakan methods yang sesuai untuk menjamin hal tersebut disebut *encapsulation*. Prinsipnya adalah bahwa mekanisme internal dari object disembunyikan dari client, tetapi object tetap menyediakan methods yang dapat digunakan untuk mengakses data yang disimpan di dalamnya.\n",
    "\n",
    "Menambahkan sebuah method tidak secara otomatis menyembunyikan attribute. Meskipun definisi BankAccount class berisi `withdraw` method untuk menarik uang, kode client tetap dapat mengakses dan mengubah `balance` attribute secara langsung. Contoh:"
   ]
  },
  {
   "cell_type": "code",
   "execution_count": null,
   "id": "5daf8077",
   "metadata": {},
   "outputs": [],
   "source": [
    "peters_account = BankAccount(\"12345-678\", \"Peter Python\", 1500.0, 0.015)\n",
    "\n",
    "# Attempt to withdraw 2000\n",
    "if peters_account.withdraw(2000):\n",
    "    print(\"The withdrawal was successful, the balance is now\", peters_account.balance)\n",
    "else:\n",
    "    print(\"The withdrawal was unsuccessful, the balance is insufficient\")\n",
    "\n",
    "    # \"Force\" the withdrawal of 2000\n",
    "    peters_account.balance -= 2000\n",
    "\n",
    "print(\"The balance is now:\", peters_account.balance)"
   ]
  },
  {
   "cell_type": "markdown",
   "id": "f24bfc13",
   "metadata": {},
   "source": [
    "### Latihan\n",
    "\n",
    "Kerjakan latihan di <https://programming-25.mooc.fi/part-8/4-defining-methods>"
   ]
  },
  {
   "cell_type": "markdown",
   "id": "49d96d06",
   "metadata": {},
   "source": [
    "## Contoh Penggunaan Class\n",
    "\n",
    "### Contoh 1: `Rectangle` class"
   ]
  },
  {
   "cell_type": "code",
   "execution_count": null,
   "id": "09c93649",
   "metadata": {},
   "outputs": [],
   "source": [
    "class Rectangle:\n",
    "    def __init__(self, left_upper: tuple, right_lower: tuple):\n",
    "        self.left_upper = left_upper\n",
    "        self.right_lower = right_lower\n",
    "        self.width = right_lower[0]-left_upper[0]\n",
    "        self.height = right_lower[1]-left_upper[1]\n",
    "\n",
    "    def area(self):\n",
    "        return self.width * self.height\n",
    "\n",
    "    def perimeter(self):\n",
    "        return self.width * 2 + self.height * 2\n",
    "\n",
    "    def move(self, x_change: int, y_change: int):\n",
    "        corner = self.left_upper\n",
    "        self.left_upper = (corner[0]+x_change, corner[1]+y_change)\n",
    "        corner = self.right_lower\n",
    "        self.right_lower = (corner[0]+x_change, corner[1]+y_change)\n",
    "\n",
    "rectangle = Rectangle((1, 1), (4, 3))\n",
    "print(rectangle.left_upper)\n",
    "print(rectangle.right_lower)\n",
    "print(rectangle.width)\n",
    "print(rectangle.height)\n",
    "print(rectangle.perimeter())\n",
    "print(rectangle.area())\n",
    "\n",
    "rectangle.move(3, 3)\n",
    "print(rectangle.left_upper)\n",
    "print(rectangle.right_lower)"
   ]
  },
  {
   "cell_type": "markdown",
   "id": "f1388029",
   "metadata": {},
   "source": [
    "### Printing an Object"
   ]
  },
  {
   "cell_type": "code",
   "execution_count": null,
   "id": "3f68aa80",
   "metadata": {},
   "outputs": [],
   "source": [
    "rectangle = Rectangle((1, 1), (4, 3))\n",
    "print(rectangle)"
   ]
  },
  {
   "cell_type": "markdown",
   "id": "73501644",
   "metadata": {},
   "source": [
    "Tentu saja kita menginginkan hasil print yang lebih jelas. Cara termudah untuk melakukannya adalah dengan menambahkan `__str__` method khusus ke dalam definisi class. Tujuannya adalah untuk mengembalikan gambaran keadaan dari object dalam format string. Jika definisi class berisi `__str__` method, maka nilai yang dikembalikan oleh method tersebutlah yang akan di-print ketika perintah `print` dijalankan. Contoh:"
   ]
  },
  {
   "cell_type": "code",
   "execution_count": null,
   "id": "a8241c10",
   "metadata": {},
   "outputs": [],
   "source": [
    "class Rectangle:\n",
    "    def __init__(self, left_upper: tuple, right_lower: tuple):\n",
    "        self.left_upper = left_upper\n",
    "        self.right_lower = right_lower\n",
    "        self.width = right_lower[0]-left_upper[0]\n",
    "        self.height = right_lower[1]-left_upper[1]\n",
    "\n",
    "    def area(self):\n",
    "        return self.width * self.height\n",
    "\n",
    "    def perimeter(self):\n",
    "        return self.width * 2 + self.height * 2\n",
    "\n",
    "    def move(self, x_change: int, y_change: int):\n",
    "        corner = self.left_upper\n",
    "        self.left_upper = (corner[0]+x_change, corner[1]+y_change)\n",
    "        corner = self.right_lower\n",
    "        self.right_lower = (corner[0]+x_change, corner[1]+y_change)\n",
    "\n",
    "    # This method returns the state of the object in string format\n",
    "    def __str__(self):\n",
    "        return f\"rectangle {self.left_upper} ... {self.right_lower}\"\n",
    "\n",
    "rectangle = Rectangle((1, 1), (4, 3))\n",
    "print(rectangle)"
   ]
  },
  {
   "cell_type": "markdown",
   "id": "81562e24",
   "metadata": {},
   "source": [
    "### Contoh 2: Task list"
   ]
  },
  {
   "cell_type": "code",
   "execution_count": null,
   "id": "9c9b1a43",
   "metadata": {},
   "outputs": [],
   "source": [
    "class TaskList:\n",
    "    def __init__(self):\n",
    "        self.tasks = []\n",
    "\n",
    "    def add_task(self, name: str, priority: int):\n",
    "        self.tasks.append((priority, name))\n",
    "\n",
    "    def get_next(self):\n",
    "        self.tasks.sort()\n",
    "        # The list method pop removes and returns the last item in a list\n",
    "        task = self.tasks.pop()\n",
    "        # Return the name of the task (the second item in the tuple)\n",
    "        return task[1]\n",
    "\n",
    "    def number_of_tasks(self):\n",
    "        return len(self.tasks)\n",
    "\n",
    "    def clear_tasks(self):\n",
    "        self.tasks = []\n",
    "\n",
    "tasks = TaskList()\n",
    "tasks.add_task(\"studying\", 50)\n",
    "tasks.add_task(\"exercise\", 60)\n",
    "tasks.add_task(\"cleaning\", 10)\n",
    "print(tasks.number_of_tasks())\n",
    "print(tasks.get_next())\n",
    "print(tasks.number_of_tasks())\n",
    "tasks.add_task(\"date\", 100)\n",
    "print(tasks.number_of_tasks())\n",
    "print(tasks.get_next())\n",
    "print(tasks.get_next())\n",
    "print(tasks.number_of_tasks())\n",
    "tasks.clear_tasks()\n",
    "print(tasks.number_of_tasks())"
   ]
  },
  {
   "cell_type": "markdown",
   "id": "ca6f32d0",
   "metadata": {},
   "source": [
    "### Latihan\n",
    "\n",
    "Kerjakan latihan di <https://programming-25.mooc.fi/part-8/5-more-examples-of-classes>"
   ]
  },
  {
   "cell_type": "markdown",
   "id": "49c45162",
   "metadata": {},
   "source": [
    "## Objects dan References\n",
    "\n",
    "Dalam Python, variabel tidak mengandung nilai / object secara langsung, melainkan berisi referensi ke object. Misalakan untuk kasus di dalam list, object yang sama persis dapat muncul beberapa kali, dan dapat dirujuk beberapa kali baik di dalam list maupun di luar list. Contohnya:"
   ]
  },
  {
   "cell_type": "code",
   "execution_count": null,
   "id": "ce4f7da3",
   "metadata": {},
   "outputs": [],
   "source": [
    "class Product:\n",
    "    def __init__(self, name: str, unit: str):\n",
    "        self.name = name\n",
    "        self.unit = unit\n",
    "\n",
    "\n",
    "if __name__ == \"__main__\":\n",
    "    shopping_list = []\n",
    "    milk = Product(\"Milk\", \"litre\")\n",
    "\n",
    "    shopping_list.append(milk)\n",
    "    shopping_list.append(milk)\n",
    "    shopping_list.append(Product(\"Cucumber\", \"piece\"))"
   ]
  },
  {
   "attachments": {
    "image.png": {
     "image/png": "[encoded data removed]"
    }
   },
   "cell_type": "markdown",
   "id": "fed26227",
   "metadata": {},
   "source": [
    "![image.png](attachment:image.png)\n",
    "\n",
    "Jika ada lebih dari satu reference ke object yang sama, maka tidak akan ada perbedaan mana reference yang digunakan. Cotohnya:"
   ]
  },
  {
   "cell_type": "code",
   "execution_count": null,
   "id": "5c754be0",
   "metadata": {},
   "outputs": [],
   "source": [
    "class Dog:\n",
    "    def __init__(self, name):\n",
    "        self.name = name\n",
    "\n",
    "    def __str__(self):\n",
    "        return self.name\n",
    "\n",
    "dogs = []\n",
    "fluffy = Dog(\"Fluffy\")\n",
    "dogs.append(fluffy)\n",
    "dogs.append(fluffy)\n",
    "dogs.append(Dog(\"Fluffy\"))\n",
    "\n",
    "print(\"Dogs initially:\")\n",
    "for dog in dogs:\n",
    "    print(dog)\n",
    "\n",
    "print(\"The dog at index 0 is renamed:\")\n",
    "dogs[0].name = \"Pooch\"\n",
    "for dog in dogs:\n",
    "    print(dog)\n",
    "\n",
    "print(\"The dog at index 2 is renamed:\")\n",
    "dogs[2].name = \"Fifi\"\n",
    "for dog in dogs:\n",
    "    print(dog)"
   ]
  },
  {
   "cell_type": "markdown",
   "id": "b28f4b02",
   "metadata": {},
   "source": [
    "Operator `is` digunakan untuk memeriksa apakah dua reference merujuk ke object yang sama persis, sedangkan operator `==` akan memberi tahu apakah konten dari object tersebut sama. Contohnya:"
   ]
  },
  {
   "cell_type": "code",
   "execution_count": null,
   "id": "d383bcf8",
   "metadata": {},
   "outputs": [],
   "source": [
    "list1 = [1, 2, 3]\n",
    "list2 = [1, 2, 3]\n",
    "list3 = list1\n",
    "\n",
    "print(list1 is list2)\n",
    "print(list1 is list3)\n",
    "print(list2 is list3)\n",
    "\n",
    "print()\n",
    "\n",
    "print(list1 == list2)\n",
    "print(list1 == list3)\n",
    "print(list2 == list3)"
   ]
  },
  {
   "cell_type": "markdown",
   "id": "2b718baa",
   "metadata": {},
   "source": [
    "### Instance dari class yang sama sebagai argument untuk method"
   ]
  },
  {
   "cell_type": "code",
   "execution_count": null,
   "id": "0261ba9b",
   "metadata": {},
   "outputs": [],
   "source": [
    "class Person:\n",
    "    def __init__(self, name: str, year_of_birth: int):\n",
    "        self.name = name\n",
    "        self.year_of_birth = year_of_birth"
   ]
  },
  {
   "cell_type": "markdown",
   "id": "dc77d40a",
   "metadata": {},
   "source": [
    "Misalkan kita ingin membuat program yang membandingkan usia object bertipe `Person`. Kita bisa menuliskan fungsi berikut:"
   ]
  },
  {
   "cell_type": "code",
   "execution_count": null,
   "id": "f4370743",
   "metadata": {},
   "outputs": [],
   "source": [
    "def older_than(person1: Person, person2: Person):\n",
    "    if person1.year_of_birth < person2.year_of_birth:\n",
    "        return True\n",
    "    else:\n",
    "        return False\n",
    "\n",
    "muhammad = Person(\"Muhammad ibn Musa al-Khwarizmi\", 780)\n",
    "pascal = Person(\"Blaise Pascal\", 1623)\n",
    "grace = Person(\"Grace Hopper\", 1906)\n",
    "\n",
    "if older_than(muhammad, pascal):\n",
    "    print(f\"{muhammad.name} is older than {pascal.name}\")\n",
    "else:\n",
    "    print(f\"{muhammad.name} is not older than {pascal.name}\")\n",
    "\n",
    "if older_than(grace, pascal):\n",
    "    print(f\"{grace.name} is older than {pascal.name}\")\n",
    "else:\n",
    "    print(f\"{grace.name} is not older than {pascal.name}\")"
   ]
  },
  {
   "cell_type": "markdown",
   "id": "ddfecdf0",
   "metadata": {},
   "source": [
    "Salah satu prinsip dalam object-oriented programming adalah memasukkan semua fungsionalitas yang menangani object dari tipe tertentu menjadi method di dalam definisi class. Jadi, daripada menggunakan fungsi, kita bisa menulis sebuah method yang memungkinkan kita membandingkan usia dari satu object `Person` dengan object `Person` lainnya. Contohnya:"
   ]
  },
  {
   "cell_type": "code",
   "execution_count": null,
   "id": "c4692753",
   "metadata": {},
   "outputs": [],
   "source": [
    "class Person:\n",
    "    def __init__(self, name: str, year_of_birth: int):\n",
    "        self.name = name\n",
    "        self.year_of_birth = year_of_birth\n",
    "\n",
    "    # NB: type hints must be enclosed in quotation marks if the parameter\n",
    "    # is of the same type as the class itself!\n",
    "    def older_than(self, another: \"Person\"):\n",
    "        if self.year_of_birth < another.year_of_birth:\n",
    "            return True\n",
    "        else:\n",
    "            return False\n",
    "    # or it can be shortly written as\n",
    "    # def older_than(self, another: \"Person\"):\n",
    "    #     return self.year_of_birth < another.year_of_birth\n",
    "\n",
    "muhammad = Person(\"Muhammad ibn Musa al-Khwarizmi\", 780)\n",
    "pascal = Person(\"Blaise Pascal\", 1623)\n",
    "grace = Person(\"Grace Hopper\", 1906)\n",
    "\n",
    "if muhammad.older_than(pascal):\n",
    "    print(f\"{muhammad.name} is older than {pascal.name}\")\n",
    "else:\n",
    "    print(f\"{muhammad.name} is not older than {pascal.name}\")\n",
    "\n",
    "if grace.older_than(pascal):\n",
    "    print(f\"{grace.name} is older than {pascal.name}\")\n",
    "else:\n",
    "    print(f\"{grace.name} is not older than {pascal.name}\")"
   ]
  },
  {
   "cell_type": "markdown",
   "id": "5ee58aa4",
   "metadata": {},
   "source": [
    "### Latihan\n",
    "\n",
    "Kerjakan latihan di <https://programming-25.mooc.fi/part-9/1-objects-and-references>"
   ]
  },
  {
   "cell_type": "markdown",
   "id": "e3a07720",
   "metadata": {},
   "source": [
    "## Object sebagai Attribute"
   ]
  },
  {
   "cell_type": "code",
   "execution_count": null,
   "id": "420f908f",
   "metadata": {},
   "outputs": [],
   "source": [
    "from completedcourse import CompletedCourse\n",
    "from course import Course\n",
    "from student import Student\n",
    "\n",
    "# Create a list of students\n",
    "students = []\n",
    "students.append(Student(\"Ollie\", \"1234\", 10))\n",
    "students.append(Student(\"Peter\", \"3210\", 23))\n",
    "students.append(Student(\"Lena\", \"9999\", 43))\n",
    "students.append(Student(\"Tina\", \"3333\", 8))\n",
    "\n",
    "# Create a course named Introduction to Programming\n",
    "itp = Course(\"Introduction to Programming\", \"itp1\", 5)\n",
    "\n",
    "# Add completed courses for each student, with grade 3 for all\n",
    "completed = []\n",
    "for student in students:\n",
    "    completed.append(CompletedCourse(student, itp, 3))\n",
    "\n",
    "# Print out the name of the student for each completed course\n",
    "for course in completed:\n",
    "    print(course.student.name)"
   ]
  },
  {
   "cell_type": "markdown",
   "id": "3b609040",
   "metadata": {},
   "source": [
    "### Kapan import diperlukan?\n",
    "\n",
    "Kita hanya perlu menggunakan `import` statement ketika ingin memakai kode yang dibuat di luar file Python yang sedang kita kerjakan (atau di luar sesi interpreter Python saat ini). Ini termasuk saat kita ingin menggunakan fitur dari Python standard library. Misalnya, kita bisa menggunakan module `math` yang berisi berbagai operasi matematika:"
   ]
  },
  {
   "cell_type": "code",
   "execution_count": null,
   "id": "7fddbe95",
   "metadata": {},
   "outputs": [],
   "source": [
    "import math\n",
    "\n",
    "x = 10\n",
    "print(f\"the square root of {x} is {math.sqrt(x)}\")"
   ]
  },
  {
   "cell_type": "markdown",
   "id": "203ee8cf",
   "metadata": {},
   "source": [
    "Jika semua kode program ditulis dalam satu file, kita tidak perlu menggunakan `import` statement untuk memakai class yang sudah kamu definisikan sendiri.\n",
    "\n",
    "### `None`: nilai yang merepresentasikan tidak ada apa-apa\n",
    "\n",
    "Dalam pemrograman Python, semua variabel yang telah diinisialisasi merujuk pada sebuah objek. Namun, ada situasi tertentu di mana kita perlu merujuk pada sesuatu yang tidak ada tanpa menimbulkan error. Kata kunci `None` dapat merepresentasikan objek “kosong” tersebut. Contoh:"
   ]
  },
  {
   "cell_type": "code",
   "execution_count": null,
   "id": "47a1a439",
   "metadata": {},
   "outputs": [],
   "source": [
    "class Player:\n",
    "    def __init__(self, name: str, goals: int):\n",
    "        self.name = name\n",
    "        self.goals = goals\n",
    "\n",
    "    def __str__(self):\n",
    "        return f\"{self.name} ({self.goals} goals)\"\n",
    "\n",
    "class Team:\n",
    "    def __init__(self, name: str):\n",
    "        self.name = name\n",
    "        self.players = []\n",
    "\n",
    "    def add_player(self, player: Player):\n",
    "        self.players.append(player)\n",
    "\n",
    "    def find_player(self, name: str):\n",
    "        for player in self.players:\n",
    "            if player.name == name:\n",
    "                return player\n",
    "        return None\n",
    "\n",
    "ca = Team(\"Campus Allstars\")\n",
    "ca.add_player(Player(\"Eric\", 10))\n",
    "ca.add_player(Player(\"Amily\", 22))\n",
    "ca.add_player(Player(\"Andy\", 1))\n",
    "\n",
    "player1 = ca.find_player(\"Andy\")\n",
    "print(player1)\n",
    "player2 = ca.find_player(\"Charlie\")\n",
    "print(player2)"
   ]
  },
  {
   "cell_type": "markdown",
   "id": "b11110d5",
   "metadata": {},
   "source": [
    "Namun, perlu hati-hati dalam menggunakan `None`, contohnya kode berikut akan menghasilkan eror:"
   ]
  },
  {
   "cell_type": "code",
   "execution_count": null,
   "id": "6aae3bc5",
   "metadata": {},
   "outputs": [],
   "source": [
    "ca = Team(\"Campus Allstars\")\n",
    "ca.add_player(Player(\"Eric\", 10))\n",
    "\n",
    "player = ca.find_player(\"Charlie\")\n",
    "print(f\"Goals by Charlie: {player.goals}\")"
   ]
  },
  {
   "cell_type": "markdown",
   "id": "c6c2e885",
   "metadata": {},
   "source": [
    "Jadi sebaiknya periksa dahulu apakah nilainya `None` sebelum mencoba mengakses atribut atau metode dari nilai yang dikembalikan. Contohnya:\n"
   ]
  },
  {
   "cell_type": "code",
   "execution_count": null,
   "id": "8c4d9dfe",
   "metadata": {},
   "outputs": [],
   "source": [
    "ca = Team(\"Campus Allstars\")\n",
    "ca.add_player(Player(\"Eric\", 10))\n",
    "\n",
    "player = ca.find_player(\"Charlie\")\n",
    "if player is not None:\n",
    "    print(f\"Goals by Charlie: {player.goals}\")\n",
    "else:\n",
    "    print(f\"Charlie doesn't play in Campus Allstars :(\")"
   ]
  },
  {
   "cell_type": "markdown",
   "id": "1bc24b45",
   "metadata": {},
   "source": [
    "### Latihan\n",
    "\n",
    "Kerjakan latihan di <https://programming-25.mooc.fi/part-9/2-objects-as-attributes>"
   ]
  },
  {
   "cell_type": "markdown",
   "id": "aa5742af",
   "metadata": {},
   "source": [
    "## Encapsulation\n",
    "\n",
    "Dalam Object-Oriented Programming, istilah *client* merujuk pada program yang menggunakan sebuah class atau instance dari class tersebut. Sebuah class menyediakan *services* bagi client, yang memungkinkan client mengakses object yang dibuat berdasarkan class tersebut. Tujuan dari pendekatan ini adalah:\n",
    "\n",
    "- penggunaan class dan/atau object semudah mungkin dari sudut pandang client\n",
    "- integritas setiap object selalu terjaga\n",
    "\n",
    "Integritas sebuah object berarti bahwa *state* dari object tersebut selalu berada dalam kondisi yang dapat diterima. Dalam praktiknya, ini berarti nilai-nilai dari atribut object harus selalu valid. Misalnya, sebuah object yang merepresentasikan tanggal tidak boleh memiliki nilai bulan sebesar 13, atau object yang memodelkan mahasiswa tidak boleh memiliki jumlah SKS yang bernilai negatif, dan seterusnya.\n",
    "\n",
    "### Encapsulation\n",
    "\n",
    "Salah satu fitur umum dalam bahasa pemrograman Object-Oriented Programming adalah bahwa class biasanya dapat menyembunyikan atribut-atributnya dari client yang berpotensi mengaksesnya. Atribut yang disembunyikan ini biasanya disebut *private*. Dalam Python, private ini dapat dibuat dengan menambahkan dua garis bawah `__` di awal nama atribut. Contohnya:"
   ]
  },
  {
   "cell_type": "code",
   "execution_count": null,
   "id": "35b8b3a8",
   "metadata": {},
   "outputs": [],
   "source": [
    "class CreditCard:\n",
    "    # the attribute number is private, while the attribute name is accessible\n",
    "    def __init__(self, number: str, name: str):\n",
    "        self.__number = number\n",
    "        self.name = name"
   ]
  },
  {
   "cell_type": "code",
   "execution_count": null,
   "id": "702ba488",
   "metadata": {},
   "outputs": [],
   "source": [
    "card = CreditCard(\"123456\",\"Randy Riches\")\n",
    "print(card.name)\n",
    "card.name = \"Charlie Churchmouse\"\n",
    "print(card.name)"
   ]
  },
  {
   "cell_type": "code",
   "execution_count": null,
   "id": "e1140c5f",
   "metadata": {},
   "outputs": [],
   "source": [
    "card = CreditCard(\"123456\",\"Randy Riches\")\n",
    "print(card.__number)"
   ]
  },
  {
   "cell_type": "markdown",
   "id": "523fc919",
   "metadata": {},
   "source": [
    "Menyembunyikan atribut dari client disebut *encapsulation*. Sesuai dengan namanya, atribut tersebut “terbungkus dalam kapsul”. Client kemudian diberikan interface yang sesuai untuk mengakses dan memproses data yang disimpan di dalam object.\n",
    "\n",
    "### Getters dan Setters\n",
    "\n",
    "Jika dicari di internet, kita akan menemukan ada beberapa cara untuk mengakses atribut yang disembunyikan dengan tanda garis bawah ganda `__`. Ini karena tidak ada atribut di Python yang benar-benar private. Ini memang sengaja dibuat seperti itu oleh pembuat Python.\n",
    "\n",
    "Di bahasa pemrograman lain seperti Java, private variable benar-benar tidak bisa diakses dari luar. Jadi, sebaiknya kita perlu memperlakukan private variable di Python dengan cara yang sama dengan menganggap private variable tersebut memang tidak boleh diakses langsung.\n",
    "\n",
    "Dalam Object-Oriented Programming, ada method khusus yang digunakan untuk mengakses dan mengubah nilai dari sebuah attribute. Method ini biasanya disebut getter (untuk mengambil nilai) dan setter (untuk mengubah nilai). Walaupun tidak semua programmer Python memakai istilah \"getter\" dan \"setter\", konsepnya mirip dengan fitur property yang akan dijelaskan nanti. Karena itu, kita akan tetap menggunakan istilah umum dari Object-Oriented Programming.\n",
    "\n",
    "Sebelumnya, kita sudah membuat beberapa method public untuk mengakses attribute private. Tapi sebenarnya, Python punya cara yang lebih sederhana dan lebih sesuai dengan gaya penulisan Python (lebih \"pythonic\") untuk melakukan hal ini. Contohnya:"
   ]
  },
  {
   "cell_type": "code",
   "execution_count": null,
   "id": "16a21bee",
   "metadata": {},
   "outputs": [],
   "source": [
    "class Wallet:\n",
    "    def __init__(self):\n",
    "        self.__money = 0\n",
    "\n",
    "    # A getter method\n",
    "    @property\n",
    "    def money(self):\n",
    "        return self.__money\n",
    "\n",
    "    # A setter method\n",
    "    @money.setter\n",
    "    def money(self, money):\n",
    "        if money >= 0:\n",
    "            self.__money = money\n",
    "        else:\n",
    "            raise ValueError(\"The amount must not be below zero\")\n",
    "\n",
    "wallet = Wallet()\n",
    "print(wallet.money)\n",
    "\n",
    "wallet.money = 50\n",
    "print(wallet.money)\n",
    "\n",
    "wallet.money = -30\n",
    "print(wallet.money)"
   ]
  },
  {
   "cell_type": "markdown",
   "id": "586a8794",
   "metadata": {},
   "source": [
    "Untuk menutup bagian ini, mari kita lihat contoh sebuah class yang menggambarkan diary sederhana. Semua attribute di dalamnya bersifat private, artinya tidak bisa diakses langsung dari luar. Tapi cara mengaksesnya berbeda-beda: informasi tentang pemilik diary bisa diakses dan diubah lewat method getter dan setter, sedangkan isi diary diproses lewat method biasa seperti menambah atau melihat entri. Dalam kasus seperti ini, kita tidak ingin client (kode di luar class) untuk melihat langsung struktur data internal diary. Client hanya boleh berinteraksi lewat method public yang sudah kita disediakan.\n",
    "\n",
    "Konsep encapsulation juga membantu menjaga agar bagian dalam class bisa diubah kapan saja tanpa mengganggu cara penggunaannya dari luar. Misalnya, kita bisa mengganti struktur data internal dari list ke dictionary, atau ke bentuk lain, selama method public-nya tetap sama. Client tidak perlu tahu atau peduli soal perubahan itu, yang penting, interface-nya tetap bekerja seperti biasa."
   ]
  },
  {
   "cell_type": "code",
   "execution_count": null,
   "id": "e4787eb9",
   "metadata": {},
   "outputs": [],
   "source": [
    "class Diary:\n",
    "    def __init__(self, owner: str):\n",
    "        self.__owner = owner\n",
    "        self.__entries = []\n",
    "\n",
    "    @property\n",
    "    def owner(self):\n",
    "        return self.__owner\n",
    "\n",
    "    @owner.setter\n",
    "    def owner(self, owner):\n",
    "        if owner != \"\":\n",
    "            self.__owner = owner\n",
    "        else:\n",
    "            raise ValueError(\"The owner may not be an empty string\")\n",
    "\n",
    "    def add_entry(self, entry: str):\n",
    "        self.__entries.append(entry)\n",
    "\n",
    "    def print_entries(self):\n",
    "        print(\"A total of\", len(self.__entries), \"entries\")\n",
    "        for entry in self.__entries:\n",
    "            print(\"- \" + entry)\n",
    "\n",
    "diary = Diary(\"Peter\")\n",
    "diary.add_entry(\"Today I ate porridge\")\n",
    "diary.add_entry(\"Today I learned object oriented programming\")\n",
    "diary.add_entry(\"Today I went to bed early\")\n",
    "diary.print_entries()"
   ]
  },
  {
   "cell_type": "markdown",
   "id": "3bfeec05",
   "metadata": {},
   "source": [
    "### Latihan\n",
    "\n",
    "Kerjakan latihan di <https://programming-25.mooc.fi/part-9/3-encapsulation>"
   ]
  },
  {
   "cell_type": "markdown",
   "id": "1de9b336",
   "metadata": {},
   "source": [
    "## Scope of Methods\n",
    "\n",
    "Method yang didefinisikan di dalam sebuah class bisa disembunyikan dengan cara yang sama seperti attribute pada bagian sebelumnya. Jika nama method diawali dengan dua underscore `__`, maka method tersebut tidak bisa diakses langsung oleh client.\n",
    "\n",
    "Jadi, tekniknya sama untuk method dan attribute, tetapi penggunaannya biasanya agak berbeda. Attribute private sering dipasangkan dengan method getter dan setter untuk mengontrol akses. Sementara itu, method private biasanya digunakan untuk kebutuhan internal saja, sebagai helper method untuk proses-proses yang tidak perlu diketahui oleh client.\n",
    "\n",
    "Method private tetap bisa digunakan di dalam class seperti method lainnya dengan menyertakan prefix `self`. Contohnya:"
   ]
  },
  {
   "cell_type": "code",
   "execution_count": null,
   "id": "95bd6ee9",
   "metadata": {},
   "outputs": [],
   "source": [
    "class Recipient:\n",
    "    def __init__(self, name: str, email: str):\n",
    "        self.__name = name\n",
    "        if self.__check_email(email):\n",
    "            self.__email = email\n",
    "        else:\n",
    "            raise ValueError(\"The email address is not valid\")\n",
    "\n",
    "    def __check_email(self, email: str):\n",
    "        # A simple check: the address must be over 5 characters long \n",
    "        # and contain a dot and an @ character\n",
    "        return len(email) > 5 and \".\" in email and \"@\" in email\n",
    "\n",
    "    @property\n",
    "    def email(self):\n",
    "        return self.__email\n",
    "\n",
    "    @email.setter\n",
    "    def email(self, email: str):\n",
    "        if self.__check_email(email):\n",
    "            self.__email = email\n",
    "        else:\n",
    "            raise ValueError(\"The email address is not valid\")"
   ]
  },
  {
   "cell_type": "markdown",
   "id": "d8ac3d05",
   "metadata": {},
   "source": [
    "### Scope dan namespace dalam Python\n",
    "\n",
    "- Scope menentukan di mana sebuah nama (seperti variabel) bisa digunakan dalam program.\n",
    "- Namespace adalah kumpulan nama yang tersedia dalam bagian tertentu, seperti class atau function.\n",
    "\n",
    "Setiap bagian punya akses berbeda:\n",
    "\n",
    "- Method bisa akses variabel lokal dan member class (termasuk yang private).\n",
    "- Class tidak bisa akses variabel lokal dalam method.\n",
    "- Client hanya bisa akses method dan attribute yang public.\n",
    "\n",
    "Namespace membantu agar nama yang sama bisa dipakai di tempat berbeda tanpa terjadi konflik. Hal ini penting untuk menjaga struktur dan kejelasan kode.\n"
   ]
  },
  {
   "cell_type": "markdown",
   "id": "0f866aff",
   "metadata": {},
   "source": [
    "### Latihan\n",
    "\n",
    "Kerjakan latihan di <https://programming-25.mooc.fi/part-9/4-scope-of-methods>"
   ]
  },
  {
   "cell_type": "markdown",
   "id": "01dbe91b",
   "metadata": {},
   "source": [
    "## Class Attributes\n",
    "\n",
    "### Class variables\n",
    "\n",
    "Setiap instance dari sebuah class memiliki nilai spesifiknya sendiri untuk setiap attribute yang didefinisikan dalam class, seperti yang telah kita lihat pada contoh-contoh di bagian sebelumnya. Tapi bagaimana jika kita ingin menyimpan data yang bisa dipakai bersama oleh semua instance? Di sinilah peran *class variable*, atau yang juga dikenal sebagai *static variable*.\n",
    "\n",
    "Class variable adalah variabel yang diakses melalui class itu sendiri, bukan lewat instance yang dibuat dari class tersebut. Selama program berjalan, sebuah class variable hanya punya satu nilai yang sama, tidak peduli berapa banyak instance yang dibuat dari class itu.\n",
    "\n",
    "Class variable dideklarasikan tanpa awalan `self`, dan biasanya ditulis di luar definisi metode apa pun, karena variabel ini sebaiknya bisa diakses dari mana saja dalam class, bahkan dari luar class. Contoh:"
   ]
  },
  {
   "cell_type": "code",
   "execution_count": null,
   "id": "acb81590",
   "metadata": {},
   "outputs": [],
   "source": [
    "class SavingsAccount:\n",
    "    general_rate = 0.03\n",
    "\n",
    "    def __init__(self, account_number: str, balance: float, interest_rate: float):\n",
    "        self.__account_number = account_number\n",
    "        self.__balance = balance\n",
    "        self.__interest_rate = interest_rate\n",
    "\n",
    "    def add_interest(self):\n",
    "        # The total interest rate equals \n",
    "        # the general rate + the interest rate of the account\n",
    "        total_interest = SavingsAccount.general_rate + self.__interest_rate\n",
    "        self.__balance += self.__balance * total_interest\n",
    "\n",
    "    @property\n",
    "    def balance(self):\n",
    "        return self.__balance\n",
    "\n",
    "    @property\n",
    "    def total_interest(self):\n",
    "        return self.__interest_rate + SavingsAccount.general_rate\n",
    "\n",
    "account1 = SavingsAccount(\"12345\", 100, 0.03)\n",
    "account2 = SavingsAccount(\"54321\", 200, 0.06)\n",
    "\n",
    "print(\"General interest rate:\", SavingsAccount.general_rate)\n",
    "print(account1.total_interest)\n",
    "print(account2.total_interest)\n",
    "\n",
    "# The general rate of interest is now 10 percent\n",
    "SavingsAccount.general_rate = 0.10\n",
    "\n",
    "print(\"General interest rate:\", SavingsAccount.general_rate)\n",
    "print(account1.total_interest)\n",
    "print(account2.total_interest)"
   ]
  },
  {
   "cell_type": "markdown",
   "id": "b39f64f4",
   "metadata": {},
   "source": [
    "Class variable berguna ketika kita membutuhkan nilai yang dibagikan ke semua instance dari sebuah class. Dalam contoh sebelumnya, kita mengasumsikan bahwa total suku bunga dari semua rekening tabungan terdiri dari dua komponen: suku bunga umum (general rate of interest) yang dibagikan ke semua rekening, dan suku bunga khusus untuk setiap rekening yang disimpan dalam instance variable. Suku bunga umum ini bisa saja berubah, tetapi perubahan tersebut akan memengaruhi semua instance dari class secara merata. Ketika general rate of interest berubah, maka total interest rate untuk semua instance dari class juga ikut berubah."
   ]
  },
  {
   "cell_type": "markdown",
   "id": "93e240ee",
   "metadata": {},
   "source": [
    "### Class methods\n",
    "\n",
    "Class method, yang juga disebut sebagai static method, adalah method yang tidak terikat pada satu class instance tertentu. Class method bisa dipanggil tanpa perlu membuat class instance terlebih dahulu.\n",
    "\n",
    "Class method biasanya merupakan alat bantu yang berkaitan dengan tujuan dari class, tetapi bersifat terpisah dalam arti bahwa kita tidak perlu membuat class instance untuk bisa memanggilnya. Class method umumnya bersifat public, sehingga bisa dipanggil dari luar class maupun dari dalam class, termasuk dari dalam class instance.\n",
    "\n",
    "Class method didefinisikan dengan anotasi `@classmethod`. Parameter pertama selalu bernama `cls`. Nama variabel `cls` mirip dengan parameter `self`. Bedanya, `cls` menunjuk ke class, sedangkan `self` menunjuk ke class instance. Kedua parameter ini tidak dimasukkan ke dalam daftar argument saat function dipanggil karena Python akan secara otomatis mengisi nilai yang sesuai. Contohnya:"
   ]
  },
  {
   "cell_type": "code",
   "execution_count": null,
   "id": "b0f105ea",
   "metadata": {},
   "outputs": [],
   "source": [
    "class Registration:\n",
    "    def __init__(self, owner: str, make: str, year: int, license_plate: str):\n",
    "        self.__owner = owner\n",
    "        self.__make = make\n",
    "        self.__year = year\n",
    "\n",
    "        # Call the license_plate.setter method\n",
    "        self.license_plate = license_plate\n",
    "\n",
    "    @property\n",
    "    def license_plate(self):\n",
    "        return self.__license_plate\n",
    "\n",
    "    @license_plate.setter\n",
    "    def license_plate(self, plate):\n",
    "        if Registration.license_plate_valid(plate):\n",
    "            self.__license_plate = plate\n",
    "        else:\n",
    "            raise ValueError(\"The license plate is not valid\")\n",
    "\n",
    "    # A class method for validating the license plate\n",
    "    @classmethod\n",
    "    def license_plate_valid(cls, plate: str):\n",
    "        if len(plate) < 3 or \"-\" not in plate:\n",
    "            return False\n",
    "\n",
    "        # Check the beginning and end sections of the plate separately\n",
    "        letters, numbers = plate.split(\"-\")\n",
    "\n",
    "        # the beginning section can have only letters\n",
    "        for character in letters:\n",
    "            if character.lower() not in \"abcdefghijklmnopqrstuvwxyzåäö\":\n",
    "                return False\n",
    "\n",
    "        # the end section can have only numbers\n",
    "        for character in numbers:\n",
    "            if character not in \"1234567890\":\n",
    "                return False\n",
    "\n",
    "        return True\n",
    "\n",
    "registration = Registration(\"Mary Motorist\", \"Volvo\", \"1992\", \"abc-123\")\n",
    "print(registration.license_plate)\n",
    "\n",
    "if Registration.license_plate_valid(\"xyz-789\"):\n",
    "    print(\"This is a valid license plate!\")"
   ]
  },
  {
   "cell_type": "markdown",
   "id": "5755951c",
   "metadata": {},
   "source": [
    "### Latihan\n",
    "\n",
    "Kerjakan latihan di <https://programming-25.mooc.fi/part-9/5-class-attributes>"
   ]
  },
  {
   "cell_type": "markdown",
   "id": "77aa6938",
   "metadata": {},
   "source": [
    "## Nilai Default dari Parameter\n",
    "\n",
    "Dalam pemrograman Python, kita biasanya bisa menetapkan nilai default untuk setiap parameter. Nilai default ini bisa digunakan baik dalam function maupun method.\n",
    "\n",
    "Kalau sebuah parameter punya nilai default, kita tidak wajib memberikan nilai saat memanggil function. Kalau kita memberikan argumen, nilai default akan diabaikan. Tapi kalau tidak, maka nilai default akan digunakan.\n",
    "\n",
    "Nilai default sangat berguna dalam constructor. Kalau kemungkinan besar tidak semua informasi tersedia saat sebuah object dibuat, lebih baik menetapkan nilai default di constructor daripada memaksa client mengurusnya sendiri. Ini membuat penggunaan class jadi lebih mudah bagi client, dan sekaligus menjaga agar object tetap konsisten. Misalnya, dengan menetapkan nilai default, kita bisa memastikan bahwa nilai \"kosong\" selalu sama, kecuali kalau client ingin memberikan nilai yang berbeda. Kalau tidak ada nilai default, maka client harus menentukan sendiri nilai \"kosong\" tersebut. Contohnya bisa berupa string kosong `\"\"`, object khusus `None`, atau string `\"not set\"`. Contoh penggunaan nilai default:\n"
   ]
  },
  {
   "cell_type": "code",
   "execution_count": null,
   "id": "2876a03b",
   "metadata": {},
   "outputs": [],
   "source": [
    "class Student:\n",
    "    \"\"\" This class models a student \"\"\"\n",
    "\n",
    "    def __init__(self, name: str, student_number: str, credits: int = 0, notes: str = \"\"):\n",
    "        # calling the setter method for the name attribute\n",
    "        self.name = name\n",
    "\n",
    "        if len(student_number) < 5:\n",
    "            raise ValueError(\"A student number should have at least five characters\")\n",
    "\n",
    "        self.__student_number = student_number\n",
    "\n",
    "        # calling the setter method for the credits attribute\n",
    "        self.credits = credits\n",
    "\n",
    "        self.__notes = notes\n",
    "\n",
    "    @property\n",
    "    def name(self):\n",
    "        return self.__name\n",
    "\n",
    "    @name.setter\n",
    "    def name(self, name):\n",
    "        if name != \"\":\n",
    "            self.__name = name\n",
    "        else:\n",
    "            raise ValueError(\"The name cannot be an empty string\")\n",
    "\n",
    "    @property\n",
    "    def student_number(self):\n",
    "        return self.__student_number\n",
    "\n",
    "    @property\n",
    "    def credits(self):\n",
    "        return self.__credits\n",
    "\n",
    "    @credits.setter\n",
    "    def credits(self, op):\n",
    "        if op >= 0:\n",
    "            self.__credits = op\n",
    "        else:\n",
    "            raise ValueError(\"The number of study credits cannot be below zero\")\n",
    "\n",
    "    @property\n",
    "    def notes(self):\n",
    "        return self.__notes\n",
    "\n",
    "    @notes.setter\n",
    "    def notes(self, notes):\n",
    "        self.__notes = notes\n",
    "\n",
    "    def summary(self):\n",
    "        print(f\"Student {self.__name} ({self.student_number}):\")\n",
    "        print(f\"- credits: {self.__credits}\")\n",
    "        print(f\"- notes: {self.notes}\")\n",
    "\n",
    "# Passing only the name and the student number as arguments to the constructor\n",
    "student1 = Student(\"Sally Student\", \"12345\")\n",
    "student1.summary()\n",
    "\n",
    "# Passing the name, the student number and the number of study credits\n",
    "student2 = Student(\"Sassy Student\", \"54321\", 25)\n",
    "student2.summary()\n",
    "\n",
    "# Passing values for all the parameters\n",
    "student3 = Student(\"Saul Student\", \"99999\", 140, \"extra time in exam\")\n",
    "student3.summary()\n",
    "\n",
    "# Passing a value for notes, but not for study credits\n",
    "# NB: the parameter must be named now that the arguments are not in order\n",
    "student4 = Student(\"Sandy Student\", \"98765\", notes=\"absent in academic year 20-21\")\n",
    "student4.summary()"
   ]
  },
  {
   "cell_type": "markdown",
   "id": "bb2d2e93",
   "metadata": {},
   "source": [
    "Coba bandingkan:"
   ]
  },
  {
   "cell_type": "code",
   "execution_count": null,
   "id": "e205743c",
   "metadata": {},
   "outputs": [],
   "source": [
    "class Student:\n",
    "    def __init__(self, name, completed_courses=[]):\n",
    "        self.name = name\n",
    "        self.completed_courses = completed_courses\n",
    "\n",
    "    def add_course(self, course):\n",
    "        self.completed_courses.append(course)\n",
    "\n",
    "student1 = Student(\"Sally Student\")\n",
    "student2 = Student(\"Sassy Student\")\n",
    "\n",
    "student1.add_course(\"ItP\")\n",
    "student1.add_course(\"ACiP\")\n",
    "\n",
    "print(student1.completed_courses)\n",
    "print(student2.completed_courses)"
   ]
  },
  {
   "cell_type": "code",
   "execution_count": null,
   "id": "0fc5f2a7",
   "metadata": {},
   "outputs": [],
   "source": [
    "class Student:\n",
    "    def __init__(self, name, completed_courses=None):\n",
    "        self.name = name\n",
    "        if completed_courses is None:\n",
    "            self.completed_courses = []\n",
    "        else:\n",
    "            self.completed_courses = completed_courses\n",
    "\n",
    "    def add_course(self, course):\n",
    "        self.completed_courses.append(course)\n",
    "\n",
    "student1 = Student(\"Sally Student\")\n",
    "student2 = Student(\"Sassy Student\")\n",
    "\n",
    "student1.add_course(\"ItP\")\n",
    "student1.add_course(\"ACiP\")\n",
    "\n",
    "print(student1.completed_courses)\n",
    "print(student2.completed_courses)"
   ]
  },
  {
   "cell_type": "markdown",
   "id": "2e3a0876",
   "metadata": {},
   "source": [
    "## Teknik-Teknik dalam Object-Oriented Programming\n",
    "\n",
    "### Overloading operators\n",
    "\n",
    "Python menyediakan beberapa metode bawaan dengan nama khusus untuk menangani operator aritmetika dan perbandingan standar. Teknik ini disebut *operator overloading*. Artinya, jika kita ingin menggunakan operator tertentu pada instance dari class buatan sendiri, kita bisa menulis metode khusus yang akan mengembalikan hasil yang sesuai dari operator tersebut.\n",
    "\n",
    "Sebagai contoh, mari kita lihat operator `>` yang digunakan untuk memeriksa apakah operand pertama lebih besar dari operand kedua. Di bawah ini, class `Product` memiliki metode `__gt__`, yang merupakan singkatan dari *greater than*. Metode khusus ini harus mengembalikan hasil perbandingan yang benar. Maksudnya, metode ini harus mengembalikan `True` hanya jika object saat ini lebih besar daripada object yang diberikan sebagai argument. Kriteria untuk menentukan \"lebih besar\" ini bisa kita tentukan sendiri. Yang dimaksud dengan object saat ini adalah object tempat metode tersebut dipanggil menggunakan notasi dot `.`. Contoh:\n"
   ]
  },
  {
   "cell_type": "code",
   "execution_count": null,
   "id": "c8bfe534",
   "metadata": {},
   "outputs": [],
   "source": [
    "class Product:\n",
    "    def __init__(self, name: str, price: float):\n",
    "        self.__name = name\n",
    "        self.__price = price\n",
    "\n",
    "    def __str__(self):\n",
    "        return f\"{self.__name} (price {self.__price})\"\n",
    "\n",
    "    @property\n",
    "    def price(self):\n",
    "        return self.__price\n",
    "\n",
    "    def __gt__(self, another_product):\n",
    "        return self.price > another_product.price\n",
    "\n",
    "orange = Product(\"Orange\", 2.90)\n",
    "apple = Product(\"Apple\", 3.95)\n",
    "\n",
    "if orange > apple:\n",
    "    print(\"Orange is greater\")\n",
    "else:\n",
    "    print(\"Apple is greater\")"
   ]
  },
  {
   "cell_type": "code",
   "execution_count": null,
   "id": "8d04488a",
   "metadata": {},
   "outputs": [],
   "source": [
    "class Product:\n",
    "    def __init__(self, name: str, price: float):\n",
    "        self.__name = name\n",
    "        self.__price = price\n",
    "\n",
    "    def __str__(self):\n",
    "        return f\"{self.__name} (price {self.__price})\"\n",
    "\n",
    "    @property\n",
    "    def price(self):\n",
    "        return self.__price\n",
    "\n",
    "    @property\n",
    "    def name(self):\n",
    "        return self.__name\n",
    "\n",
    "    def __gt__(self, another_product):\n",
    "        return self.name > another_product.name\n",
    "\n",
    "Orange = Product(\"Orange\", 4.90)\n",
    "Apple = Product(\"Apple\", 3.95)\n",
    "\n",
    "if Orange > Apple:\n",
    "    print(\"Orange is greater\")\n",
    "else:\n",
    "    print(\"Apple is greater\")"
   ]
  },
  {
   "attachments": {
    "image-2.png": {
     "image/png": "[encoded data removed]"
    },
    "image.png": {
     "image/png": "[encoded data removed]"
    }
   },
   "cell_type": "markdown",
   "id": "fc9d1dae",
   "metadata": {},
   "source": [
    "### Overloading operator lainnya\n",
    "\n",
    "![image.png](attachment:image.png)\n",
    "\n",
    "![image-2.png](attachment:image-2.png)\n",
    "\n",
    "Contoh:"
   ]
  },
  {
   "cell_type": "code",
   "execution_count": null,
   "id": "0dbbfda7",
   "metadata": {},
   "outputs": [],
   "source": [
    "from datetime import datetime\n",
    "\n",
    "class Note:\n",
    "    def __init__(self, entry_date: datetime, entry: str):\n",
    "        self.entry_date = entry_date\n",
    "        self.entry = entry\n",
    "\n",
    "    def __str__(self):\n",
    "        return f\"{self.entry_date}: {self.entry}\"\n",
    "\n",
    "    def __add__(self, another):\n",
    "        # The date of the new note is the current time\n",
    "        new_note = Note(datetime.now(), \"\")\n",
    "        new_note.entry = self.entry + \" and \" + another.entry\n",
    "        return new_note\n",
    "\n",
    "entry1 = Note(datetime(2016, 12, 17), \"Remember to buy presents\")\n",
    "entry2 = Note(datetime(2016, 12, 23), \"Remember to get a tree\")\n",
    "\n",
    "# These notes can be added together with the + operator\n",
    "# This calls the  __add__ method in the Note class\n",
    "both = entry1 + entry2\n",
    "print(both)"
   ]
  },
  {
   "cell_type": "markdown",
   "id": "a150c03f",
   "metadata": {},
   "source": [
    "### Representasi string dari object\n",
    "\n",
    "Kita sudah pernah mengimplementasikan metode `__str__` dalam class. Seperti yang kita tahu, metode ini mengembalikan representasi string dari sebuah object. Ada satu metode lain yang mirip, yaitu `__repr__`, yang mengembalikan representasi teknis dari object tersebut. Metode `__repr__` sering diimplementasikan agar mengembalikan kode program yang bisa dijalankan untuk menghasilkan object dengan isi yang identik dengan object saat ini.\n",
    "\n",
    "Fungsi `repr` akan mengembalikan representasi string teknis dari object. Representasi teknis ini juga akan digunakan jika object tersebut tidak memiliki metode `__str__` yang didefinisikan. Contoh:"
   ]
  },
  {
   "cell_type": "code",
   "execution_count": null,
   "id": "fb046699",
   "metadata": {},
   "outputs": [],
   "source": [
    "class Person:\n",
    "    def __init__(self, name: str, age: int):\n",
    "        self.name = name\n",
    "        self.age = age\n",
    "        \n",
    "    def __repr__(self):\n",
    "        return f\"Person({repr(self.name)}, {self.age})\"\n",
    "\n",
    "person1 = Person(\"Anna\", 25)\n",
    "person2 = Person(\"Peter\", 99)\n",
    "print(person1)\n",
    "print(person2)"
   ]
  },
  {
   "cell_type": "code",
   "execution_count": null,
   "id": "5d0b4bea",
   "metadata": {},
   "outputs": [],
   "source": [
    "class Person:\n",
    "    def __init__(self, name: str, age: int):\n",
    "        self.name = name\n",
    "        self.age = age\n",
    "        \n",
    "    def __repr__(self):\n",
    "        return f\"Person({repr(self.name)}, {self.age})\"\n",
    "\n",
    "    def __str__(self):\n",
    "        return f\"{self.name} ({self.age} years)\"\n",
    "    \n",
    "Person = Person(\"Anna\", 25)\n",
    "print(Person)\n",
    "print(repr(Person))"
   ]
  },
  {
   "cell_type": "code",
   "execution_count": null,
   "id": "2dca890d",
   "metadata": {},
   "outputs": [],
   "source": [
    "persons = []\n",
    "persons.append(Person(\"Anna\", 25))\n",
    "persons.append(Person(\"Peter\", 99))\n",
    "persons.append(Person(\"Mary\", 55))\n",
    "print(persons)"
   ]
  },
  {
   "cell_type": "markdown",
   "id": "bdc6838e",
   "metadata": {},
   "source": [
    "### Iterators\n",
    "\n",
    "Kita juga bisa membuat class buatan kita menjadi iterable. Ini sangat berguna ketika tujuan utama dari class tersebut adalah untuk menyimpan kumpulan item. Untuk membuat sebuah class menjadi iterable, kita perlu mengimplementasikan metode iterator `__iter__` dan `__next__`. Contoh:\n"
   ]
  },
  {
   "cell_type": "code",
   "execution_count": null,
   "id": "d5f41bb1",
   "metadata": {},
   "outputs": [],
   "source": [
    "class Book:\n",
    "    def __init__(self, name: str, author: str, page_count: int):\n",
    "        self.name = name\n",
    "        self.author = author\n",
    "        self.page_count = page_count\n",
    "\n",
    "class Bookshelf:\n",
    "    def __init__(self):\n",
    "        self._books = []\n",
    "\n",
    "    def add_book(self, book: Book):\n",
    "        self._books.append(book)\n",
    "\n",
    "    # This is the iterator initialization method\n",
    "    # The iteration variable(s) should be initialized here\n",
    "    def __iter__(self):\n",
    "        self.n = 0\n",
    "        # the method returns a reference to the object itself as \n",
    "        # the iterator is implemented within the same class definition\n",
    "        return self\n",
    "\n",
    "    # This method returns the next item within the object\n",
    "    # If all items have been traversed, the StopIteration event is raised\n",
    "    def __next__(self):\n",
    "        if self.n < len(self._books):\n",
    "            # Select the current item from the list within the object\n",
    "            book = self._books[self.n]\n",
    "            # increase the counter (i.e. iteration variable) by one\n",
    "            self.n += 1\n",
    "            # return the current item\n",
    "            return book\n",
    "        else:\n",
    "            # All books have been traversed\n",
    "            raise StopIteration\n",
    "\n",
    "if __name__ == \"__main__\":\n",
    "    b1 = Book(\"The Life of Python\", \"Montague Python\", 123)\n",
    "    b2 = Book(\"The Old Man and the C\", \"Ernest Hemingjavay\", 204)\n",
    "    b3 = Book(\"A Good Cup of Java\", \"Caffee Coder\", 997)\n",
    "\n",
    "    shelf = Bookshelf()\n",
    "    shelf.add_book(b1)\n",
    "    shelf.add_book(b2)\n",
    "    shelf.add_book(b3)\n",
    "\n",
    "    # Print the names of all the books\n",
    "    for book in shelf:\n",
    "        print(book.name)"
   ]
  },
  {
   "cell_type": "markdown",
   "id": "0813204d",
   "metadata": {},
   "source": [
    "- `__iter__` digunakan untuk menginisialisasi variabel iterasi. Biasanya cukup dengan sebuah penghitung sederhana yang menyimpan indeks item saat ini dalam list.\n",
    "\n",
    "- `__next__` bertugas mengembalikan item berikutnya dari iterator. Misalnya, ia mengambil item pada indeks ke-n dari list dalam object seperti `Bookshelf`, lalu menaikkan nilai penghitung.\n",
    "\n",
    "- Ketika semua item sudah dilalui, metode `__next__` akan memunculkan exception bernama `StopIteration`. Ini adalah sinyal otomatis bagi Python bahwa proses iterasi telah selesai, dan biasanya ditangani secara internal oleh struktur seperti `for` loop.\n"
   ]
  },
  {
   "cell_type": "markdown",
   "id": "2fc086a9",
   "metadata": {},
   "source": [
    "### Latihan\n",
    "\n",
    "Kerjakan latihan di <https://programming-25.mooc.fi/part-10/3-oo-programming-techniques>"
   ]
  }
 ],
 "metadata": {
  "kernelspec": {
   "display_name": "Python 3",
   "language": "python",
   "name": "python3"
  },
  "language_info": {
   "codemirror_mode": {
    "name": "ipython",
    "version": 3
   },
   "file_extension": ".py",
   "mimetype": "text/x-python",
   "name": "python",
   "nbconvert_exporter": "python",
   "pygments_lexer": "ipython3",
   "version": "3.13.1"
  }
 },
 "nbformat": 4,
 "nbformat_minor": 5
}
